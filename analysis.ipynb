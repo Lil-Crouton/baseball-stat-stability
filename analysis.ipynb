{
 "cells": [
  {
   "cell_type": "code",
   "execution_count": 155,
   "metadata": {},
   "outputs": [],
   "source": [
    "import pickle\n",
    "import plotly.express as px\n",
    "from plotly.graph_objs import Figure\n",
    "import pandas as pd"
   ]
  },
  {
   "cell_type": "code",
   "execution_count": 156,
   "metadata": {},
   "outputs": [],
   "source": [
    "def create_figure(df, x_column, y_column) -> Figure:\n",
    "    x_data = df[x_column]\n",
    "    y_data = df[y_column]\n",
    "\n",
    "    min_value = y_data.min()\n",
    "    max_value = y_data.max()\n",
    "    season_value = y_data.iloc[-1]\n",
    "    \n",
    "    fig = px.line(x=x_data, y=y_data, markers=True)\n",
    "    fig.update_layout(\n",
    "        xaxis_title=x_column,\n",
    "        yaxis_title=y_column,\n",
    "        title=f'{df['Name'].iloc[0]} {y_column} over time'\n",
    "    )\n",
    "    fig.add_hline(y=min_value, line_dash=\"dot\", line_color=\"black\", annotation_text=f'Min: {min_value}', annotation_position=\"bottom right\")\n",
    "    fig.add_hline(y=max_value, line_dash=\"dot\", line_color=\"black\", annotation_text=f'Max: {max_value}', annotation_position=\"top right\")\n",
    "    \n",
    "    fig.add_annotation(text=f\"End of Season Value {season_value}\", x=x_data.iloc[-12], y=season_value-season_value*0.05, showarrow=False)\n",
    "    \n",
    "    fig.update_yaxes(nticks=20)\n",
    "    return fig"
   ]
  },
  {
   "cell_type": "code",
   "execution_count": 157,
   "metadata": {},
   "outputs": [],
   "source": [
    "player_dfs_2023 = pickle.load(open('2023_player_dfs.pkl', 'rb'))"
   ]
  },
  {
   "cell_type": "code",
   "execution_count": 158,
   "metadata": {},
   "outputs": [
    {
     "data": {
      "text/plain": [
       "dict_keys([682928, 547989, 660670, 642715, 645277, 624413, 641313, 606115, 571448, 668227, 650333, 595879, 605137, 641355, 643217, 605141, 666182, 593428, 664761, 608324, 600869, 592192, 682998, 592206, 656305, 661388, 621043, 641487, 630105, 605204, 650559, 646240, 553869, 650490, 592273, 669242, 642731, 664034, 518692, 670770, 666969, 665926, 502671, 663757, 665489, 666971, 664023, 671739, 663647, 669720, 683002, 571771, 606192, 663538, 663697, 673962, 673490, 680757, 518934, 596019, 663993, 592518, 606466, 656716, 641857, 643446, 669004, 608841, 593160, 571970, 607043, 663457, 660271, 621566, 681546, 542303, 670623, 665161, 521692, 663728, 608070, 592663, 592669, 668804, 663586, 673357, 677594, 667670, 642708, 660688, 668939, 467793, 623993, 656941, 608369, 543760, 642086, 669257, 624585, 665742, 543807, 668715, 663886, 681082, 664702, 553993, 669261, 621020, 657041, 679529, 650402, 678662, 663656, 457759, 607208, 662139, 683734, 657077, 663837, 683011, 664774, 572233, 677951, 592885, 807799, 592696, 595777, 669394, 665750, 673548, 665487, 672580, 547180])"
      ]
     },
     "execution_count": 158,
     "metadata": {},
     "output_type": "execute_result"
    }
   ],
   "source": [
    "player_dfs_2023.keys()"
   ]
  },
  {
   "cell_type": "code",
   "execution_count": 159,
   "metadata": {},
   "outputs": [
    {
     "data": {
      "text/html": [
       "<div>\n",
       "<style scoped>\n",
       "    .dataframe tbody tr th:only-of-type {\n",
       "        vertical-align: middle;\n",
       "    }\n",
       "\n",
       "    .dataframe tbody tr th {\n",
       "        vertical-align: top;\n",
       "    }\n",
       "\n",
       "    .dataframe thead th {\n",
       "        text-align: right;\n",
       "    }\n",
       "</style>\n",
       "<table border=\"1\" class=\"dataframe\">\n",
       "  <thead>\n",
       "    <tr style=\"text-align: right;\">\n",
       "      <th></th>\n",
       "      <th>Name</th>\n",
       "      <th>Age</th>\n",
       "      <th>#days</th>\n",
       "      <th>Lev</th>\n",
       "      <th>Date</th>\n",
       "      <th>Tm</th>\n",
       "      <th>G</th>\n",
       "      <th>PA</th>\n",
       "      <th>AB</th>\n",
       "      <th>R</th>\n",
       "      <th>...</th>\n",
       "      <th>OBP</th>\n",
       "      <th>SLG</th>\n",
       "      <th>OPS</th>\n",
       "      <th>mlbID</th>\n",
       "      <th>Day</th>\n",
       "      <th>wOBA</th>\n",
       "      <th>K%</th>\n",
       "      <th>BB%</th>\n",
       "      <th>ISO</th>\n",
       "      <th>wRC+</th>\n",
       "    </tr>\n",
       "  </thead>\n",
       "  <tbody>\n",
       "    <tr>\n",
       "      <th>24</th>\n",
       "      <td>Cody Bellinger</td>\n",
       "      <td>27</td>\n",
       "      <td>311</td>\n",
       "      <td>Maj-NL</td>\n",
       "      <td>2023-03-30</td>\n",
       "      <td>Chicago</td>\n",
       "      <td>1</td>\n",
       "      <td>4</td>\n",
       "      <td>3</td>\n",
       "      <td>0</td>\n",
       "      <td>...</td>\n",
       "      <td>0.250</td>\n",
       "      <td>0.000</td>\n",
       "      <td>0.250</td>\n",
       "      <td>641355</td>\n",
       "      <td>0</td>\n",
       "      <td>0.172500</td>\n",
       "      <td>0.250000</td>\n",
       "      <td>0.250000</td>\n",
       "      <td>0.000000</td>\n",
       "      <td>-1.800000</td>\n",
       "    </tr>\n",
       "    <tr>\n",
       "      <th>28</th>\n",
       "      <td>Cody Bellinger</td>\n",
       "      <td>27</td>\n",
       "      <td>309</td>\n",
       "      <td>Maj-NL</td>\n",
       "      <td>2023-04-01</td>\n",
       "      <td>Chicago</td>\n",
       "      <td>2</td>\n",
       "      <td>8</td>\n",
       "      <td>7</td>\n",
       "      <td>0</td>\n",
       "      <td>...</td>\n",
       "      <td>0.125</td>\n",
       "      <td>0.000</td>\n",
       "      <td>0.125</td>\n",
       "      <td>641355</td>\n",
       "      <td>2</td>\n",
       "      <td>0.086250</td>\n",
       "      <td>0.375000</td>\n",
       "      <td>0.125000</td>\n",
       "      <td>0.000000</td>\n",
       "      <td>-8.700000</td>\n",
       "    </tr>\n",
       "    <tr>\n",
       "      <th>29</th>\n",
       "      <td>Cody Bellinger</td>\n",
       "      <td>27</td>\n",
       "      <td>308</td>\n",
       "      <td>Maj-NL</td>\n",
       "      <td>2023-04-02</td>\n",
       "      <td>Chicago</td>\n",
       "      <td>3</td>\n",
       "      <td>12</td>\n",
       "      <td>11</td>\n",
       "      <td>0</td>\n",
       "      <td>...</td>\n",
       "      <td>0.083</td>\n",
       "      <td>0.000</td>\n",
       "      <td>0.083</td>\n",
       "      <td>641355</td>\n",
       "      <td>3</td>\n",
       "      <td>0.057500</td>\n",
       "      <td>0.333333</td>\n",
       "      <td>0.083333</td>\n",
       "      <td>0.000000</td>\n",
       "      <td>-11.000000</td>\n",
       "    </tr>\n",
       "    <tr>\n",
       "      <th>29</th>\n",
       "      <td>Cody Bellinger</td>\n",
       "      <td>27</td>\n",
       "      <td>307</td>\n",
       "      <td>Maj-NL</td>\n",
       "      <td>2023-04-03</td>\n",
       "      <td>Chicago</td>\n",
       "      <td>4</td>\n",
       "      <td>17</td>\n",
       "      <td>15</td>\n",
       "      <td>1</td>\n",
       "      <td>...</td>\n",
       "      <td>0.177</td>\n",
       "      <td>0.267</td>\n",
       "      <td>0.443</td>\n",
       "      <td>641355</td>\n",
       "      <td>4</td>\n",
       "      <td>0.257059</td>\n",
       "      <td>0.235294</td>\n",
       "      <td>0.117647</td>\n",
       "      <td>0.200000</td>\n",
       "      <td>4.964706</td>\n",
       "    </tr>\n",
       "    <tr>\n",
       "      <th>30</th>\n",
       "      <td>Cody Bellinger</td>\n",
       "      <td>27</td>\n",
       "      <td>306</td>\n",
       "      <td>Maj-NL</td>\n",
       "      <td>2023-04-04</td>\n",
       "      <td>Chicago</td>\n",
       "      <td>5</td>\n",
       "      <td>23</td>\n",
       "      <td>20</td>\n",
       "      <td>2</td>\n",
       "      <td>...</td>\n",
       "      <td>0.304</td>\n",
       "      <td>0.350</td>\n",
       "      <td>0.654</td>\n",
       "      <td>641355</td>\n",
       "      <td>5</td>\n",
       "      <td>0.336087</td>\n",
       "      <td>0.173913</td>\n",
       "      <td>0.130435</td>\n",
       "      <td>0.150000</td>\n",
       "      <td>11.286957</td>\n",
       "    </tr>\n",
       "    <tr>\n",
       "      <th>...</th>\n",
       "      <td>...</td>\n",
       "      <td>...</td>\n",
       "      <td>...</td>\n",
       "      <td>...</td>\n",
       "      <td>...</td>\n",
       "      <td>...</td>\n",
       "      <td>...</td>\n",
       "      <td>...</td>\n",
       "      <td>...</td>\n",
       "      <td>...</td>\n",
       "      <td>...</td>\n",
       "      <td>...</td>\n",
       "      <td>...</td>\n",
       "      <td>...</td>\n",
       "      <td>...</td>\n",
       "      <td>...</td>\n",
       "      <td>...</td>\n",
       "      <td>...</td>\n",
       "      <td>...</td>\n",
       "      <td>...</td>\n",
       "      <td>...</td>\n",
       "    </tr>\n",
       "    <tr>\n",
       "      <th>55</th>\n",
       "      <td>Cody Bellinger</td>\n",
       "      <td>27</td>\n",
       "      <td>131</td>\n",
       "      <td>Maj-NL</td>\n",
       "      <td>2023-09-26</td>\n",
       "      <td>Chicago</td>\n",
       "      <td>126</td>\n",
       "      <td>538</td>\n",
       "      <td>482</td>\n",
       "      <td>93</td>\n",
       "      <td>...</td>\n",
       "      <td>0.359</td>\n",
       "      <td>0.533</td>\n",
       "      <td>0.892</td>\n",
       "      <td>641355</td>\n",
       "      <td>180</td>\n",
       "      <td>0.472579</td>\n",
       "      <td>0.156134</td>\n",
       "      <td>0.072491</td>\n",
       "      <td>0.224066</td>\n",
       "      <td>22.206355</td>\n",
       "    </tr>\n",
       "    <tr>\n",
       "      <th>55</th>\n",
       "      <td>Cody Bellinger</td>\n",
       "      <td>27</td>\n",
       "      <td>130</td>\n",
       "      <td>Maj-NL</td>\n",
       "      <td>2023-09-27</td>\n",
       "      <td>Chicago</td>\n",
       "      <td>127</td>\n",
       "      <td>543</td>\n",
       "      <td>487</td>\n",
       "      <td>94</td>\n",
       "      <td>...</td>\n",
       "      <td>0.359</td>\n",
       "      <td>0.532</td>\n",
       "      <td>0.891</td>\n",
       "      <td>641355</td>\n",
       "      <td>181</td>\n",
       "      <td>0.471500</td>\n",
       "      <td>0.156538</td>\n",
       "      <td>0.071823</td>\n",
       "      <td>0.221766</td>\n",
       "      <td>22.120000</td>\n",
       "    </tr>\n",
       "    <tr>\n",
       "      <th>55</th>\n",
       "      <td>Cody Bellinger</td>\n",
       "      <td>27</td>\n",
       "      <td>129</td>\n",
       "      <td>Maj-NL</td>\n",
       "      <td>2023-09-28</td>\n",
       "      <td>Chicago</td>\n",
       "      <td>128</td>\n",
       "      <td>547</td>\n",
       "      <td>491</td>\n",
       "      <td>94</td>\n",
       "      <td>...</td>\n",
       "      <td>0.358</td>\n",
       "      <td>0.530</td>\n",
       "      <td>0.888</td>\n",
       "      <td>641355</td>\n",
       "      <td>182</td>\n",
       "      <td>0.469669</td>\n",
       "      <td>0.157221</td>\n",
       "      <td>0.071298</td>\n",
       "      <td>0.219959</td>\n",
       "      <td>21.973529</td>\n",
       "    </tr>\n",
       "    <tr>\n",
       "      <th>55</th>\n",
       "      <td>Cody Bellinger</td>\n",
       "      <td>27</td>\n",
       "      <td>128</td>\n",
       "      <td>Maj-NL</td>\n",
       "      <td>2023-09-29</td>\n",
       "      <td>Chicago</td>\n",
       "      <td>129</td>\n",
       "      <td>551</td>\n",
       "      <td>495</td>\n",
       "      <td>94</td>\n",
       "      <td>...</td>\n",
       "      <td>0.356</td>\n",
       "      <td>0.525</td>\n",
       "      <td>0.881</td>\n",
       "      <td>641355</td>\n",
       "      <td>183</td>\n",
       "      <td>0.466241</td>\n",
       "      <td>0.157895</td>\n",
       "      <td>0.070780</td>\n",
       "      <td>0.218182</td>\n",
       "      <td>21.699270</td>\n",
       "    </tr>\n",
       "    <tr>\n",
       "      <th>55</th>\n",
       "      <td>Cody Bellinger</td>\n",
       "      <td>27</td>\n",
       "      <td>127</td>\n",
       "      <td>Maj-NL</td>\n",
       "      <td>2023-09-30</td>\n",
       "      <td>Chicago</td>\n",
       "      <td>130</td>\n",
       "      <td>556</td>\n",
       "      <td>499</td>\n",
       "      <td>95</td>\n",
       "      <td>...</td>\n",
       "      <td>0.356</td>\n",
       "      <td>0.525</td>\n",
       "      <td>0.881</td>\n",
       "      <td>641355</td>\n",
       "      <td>184</td>\n",
       "      <td>0.467179</td>\n",
       "      <td>0.156475</td>\n",
       "      <td>0.071942</td>\n",
       "      <td>0.218437</td>\n",
       "      <td>21.774322</td>\n",
       "    </tr>\n",
       "  </tbody>\n",
       "</table>\n",
       "<p>129 rows × 35 columns</p>\n",
       "</div>"
      ],
      "text/plain": [
       "              Name  Age  #days     Lev       Date       Tm    G   PA   AB   R  \\\n",
       "24  Cody Bellinger   27    311  Maj-NL 2023-03-30  Chicago    1    4    3   0   \n",
       "28  Cody Bellinger   27    309  Maj-NL 2023-04-01  Chicago    2    8    7   0   \n",
       "29  Cody Bellinger   27    308  Maj-NL 2023-04-02  Chicago    3   12   11   0   \n",
       "29  Cody Bellinger   27    307  Maj-NL 2023-04-03  Chicago    4   17   15   1   \n",
       "30  Cody Bellinger   27    306  Maj-NL 2023-04-04  Chicago    5   23   20   2   \n",
       "..             ...  ...    ...     ...        ...      ...  ...  ...  ...  ..   \n",
       "55  Cody Bellinger   27    131  Maj-NL 2023-09-26  Chicago  126  538  482  93   \n",
       "55  Cody Bellinger   27    130  Maj-NL 2023-09-27  Chicago  127  543  487  94   \n",
       "55  Cody Bellinger   27    129  Maj-NL 2023-09-28  Chicago  128  547  491  94   \n",
       "55  Cody Bellinger   27    128  Maj-NL 2023-09-29  Chicago  129  551  495  94   \n",
       "55  Cody Bellinger   27    127  Maj-NL 2023-09-30  Chicago  130  556  499  95   \n",
       "\n",
       "    ...    OBP    SLG    OPS   mlbID  Day      wOBA        K%       BB%  \\\n",
       "24  ...  0.250  0.000  0.250  641355    0  0.172500  0.250000  0.250000   \n",
       "28  ...  0.125  0.000  0.125  641355    2  0.086250  0.375000  0.125000   \n",
       "29  ...  0.083  0.000  0.083  641355    3  0.057500  0.333333  0.083333   \n",
       "29  ...  0.177  0.267  0.443  641355    4  0.257059  0.235294  0.117647   \n",
       "30  ...  0.304  0.350  0.654  641355    5  0.336087  0.173913  0.130435   \n",
       "..  ...    ...    ...    ...     ...  ...       ...       ...       ...   \n",
       "55  ...  0.359  0.533  0.892  641355  180  0.472579  0.156134  0.072491   \n",
       "55  ...  0.359  0.532  0.891  641355  181  0.471500  0.156538  0.071823   \n",
       "55  ...  0.358  0.530  0.888  641355  182  0.469669  0.157221  0.071298   \n",
       "55  ...  0.356  0.525  0.881  641355  183  0.466241  0.157895  0.070780   \n",
       "55  ...  0.356  0.525  0.881  641355  184  0.467179  0.156475  0.071942   \n",
       "\n",
       "         ISO       wRC+  \n",
       "24  0.000000  -1.800000  \n",
       "28  0.000000  -8.700000  \n",
       "29  0.000000 -11.000000  \n",
       "29  0.200000   4.964706  \n",
       "30  0.150000  11.286957  \n",
       "..       ...        ...  \n",
       "55  0.224066  22.206355  \n",
       "55  0.221766  22.120000  \n",
       "55  0.219959  21.973529  \n",
       "55  0.218182  21.699270  \n",
       "55  0.218437  21.774322  \n",
       "\n",
       "[129 rows x 35 columns]"
      ]
     },
     "execution_count": 159,
     "metadata": {},
     "output_type": "execute_result"
    }
   ],
   "source": [
    "player_dfs_2023[641355]"
   ]
  },
  {
   "cell_type": "markdown",
   "metadata": {},
   "source": [
    "The below code computes stability off of when at a certain point a window gets below a standard deviation threshhold and a difference between the current value and the season mean. I worry that this is not a comprehensive way to measure stability since you could essentially get lucky by finding a temporarily stable period of time that is relatively close to the player's season value. \n",
    "\n",
    "Ideas to get around this:\n",
    "* After you find the first window match (let's say at 65 games), compute how many \"false\" windows follow it (how many don't satisfy the threshold criteria). If the number of false windows is below another threshold, then keep the first window match, else move to the next one\n",
    "* Create a measure of the std deviation rate of change - negative values means the value is getting more stable, then as it approaches 0 it's getting as stable as it will get\n",
    "\n",
    "Will start by implementing the second option"
   ]
  },
  {
   "cell_type": "code",
   "execution_count": 178,
   "metadata": {},
   "outputs": [],
   "source": [
    "def compute_league_variance(dfs:dict):\n",
    "    \"\"\"\n",
    "    Compute the season stat variance of each stat across the league \n",
    "    \"\"\"\n",
    "    player_values = {}\n",
    "    for key, df in dfs.items():\n",
    "        player_values[key] = df.iloc[-1]\n",
    "    \n",
    "    return pd.DataFrame(player_values).T"
   ]
  },
  {
   "cell_type": "code",
   "execution_count": 179,
   "metadata": {},
   "outputs": [],
   "source": [
    "df = compute_league_variance(player_dfs_2023)"
   ]
  },
  {
   "cell_type": "code",
   "execution_count": 180,
   "metadata": {},
   "outputs": [
    {
     "data": {
      "text/html": [
       "<div>\n",
       "<style scoped>\n",
       "    .dataframe tbody tr th:only-of-type {\n",
       "        vertical-align: middle;\n",
       "    }\n",
       "\n",
       "    .dataframe tbody tr th {\n",
       "        vertical-align: top;\n",
       "    }\n",
       "\n",
       "    .dataframe thead th {\n",
       "        text-align: right;\n",
       "    }\n",
       "</style>\n",
       "<table border=\"1\" class=\"dataframe\">\n",
       "  <thead>\n",
       "    <tr style=\"text-align: right;\">\n",
       "      <th></th>\n",
       "      <th>#days</th>\n",
       "      <th>2B</th>\n",
       "      <th>3B</th>\n",
       "      <th>AB</th>\n",
       "      <th>Age</th>\n",
       "      <th>BA</th>\n",
       "      <th>BB</th>\n",
       "      <th>BB%</th>\n",
       "      <th>CS</th>\n",
       "      <th>Date</th>\n",
       "      <th>...</th>\n",
       "      <th>RBI</th>\n",
       "      <th>SB</th>\n",
       "      <th>SF</th>\n",
       "      <th>SH</th>\n",
       "      <th>SLG</th>\n",
       "      <th>SO</th>\n",
       "      <th>Tm</th>\n",
       "      <th>mlbID</th>\n",
       "      <th>wOBA</th>\n",
       "      <th>wRC+</th>\n",
       "    </tr>\n",
       "  </thead>\n",
       "  <tbody>\n",
       "    <tr>\n",
       "      <th>682928</th>\n",
       "      <td>126</td>\n",
       "      <td>28</td>\n",
       "      <td>6</td>\n",
       "      <td>563</td>\n",
       "      <td>22</td>\n",
       "      <td>0.245</td>\n",
       "      <td>32</td>\n",
       "      <td>0.052117</td>\n",
       "      <td>4</td>\n",
       "      <td>2023-10-01 00:00:00</td>\n",
       "      <td>...</td>\n",
       "      <td>64</td>\n",
       "      <td>47</td>\n",
       "      <td>3</td>\n",
       "      <td>3</td>\n",
       "      <td>0.412</td>\n",
       "      <td>118</td>\n",
       "      <td>Washington</td>\n",
       "      <td>682928</td>\n",
       "      <td>0.385556</td>\n",
       "      <td>15.244444</td>\n",
       "    </tr>\n",
       "    <tr>\n",
       "      <th>547989</th>\n",
       "      <td>126</td>\n",
       "      <td>23</td>\n",
       "      <td>1</td>\n",
       "      <td>540</td>\n",
       "      <td>36</td>\n",
       "      <td>0.237</td>\n",
       "      <td>42</td>\n",
       "      <td>0.070707</td>\n",
       "      <td>1</td>\n",
       "      <td>2023-10-01 00:00:00</td>\n",
       "      <td>...</td>\n",
       "      <td>90</td>\n",
       "      <td>0</td>\n",
       "      <td>6</td>\n",
       "      <td>0</td>\n",
       "      <td>0.383</td>\n",
       "      <td>130</td>\n",
       "      <td>Houston</td>\n",
       "      <td>547989</td>\n",
       "      <td>0.362833</td>\n",
       "      <td>13.426644</td>\n",
       "    </tr>\n",
       "    <tr>\n",
       "      <th>660670</th>\n",
       "      <td>126</td>\n",
       "      <td>35</td>\n",
       "      <td>4</td>\n",
       "      <td>643</td>\n",
       "      <td>25</td>\n",
       "      <td>0.338</td>\n",
       "      <td>80</td>\n",
       "      <td>0.108844</td>\n",
       "      <td>14</td>\n",
       "      <td>2023-10-01 00:00:00</td>\n",
       "      <td>...</td>\n",
       "      <td>106</td>\n",
       "      <td>72</td>\n",
       "      <td>3</td>\n",
       "      <td>0</td>\n",
       "      <td>0.596</td>\n",
       "      <td>84</td>\n",
       "      <td>Atlanta</td>\n",
       "      <td>660670</td>\n",
       "      <td>0.532473</td>\n",
       "      <td>26.997814</td>\n",
       "    </tr>\n",
       "    <tr>\n",
       "      <th>642715</th>\n",
       "      <td>126</td>\n",
       "      <td>29</td>\n",
       "      <td>2</td>\n",
       "      <td>553</td>\n",
       "      <td>27</td>\n",
       "      <td>0.217</td>\n",
       "      <td>71</td>\n",
       "      <td>0.111285</td>\n",
       "      <td>3</td>\n",
       "      <td>2023-10-01 00:00:00</td>\n",
       "      <td>...</td>\n",
       "      <td>80</td>\n",
       "      <td>5</td>\n",
       "      <td>6</td>\n",
       "      <td>0</td>\n",
       "      <td>0.407</td>\n",
       "      <td>165</td>\n",
       "      <td>Milwaukee</td>\n",
       "      <td>642715</td>\n",
       "      <td>0.392292</td>\n",
       "      <td>15.783359</td>\n",
       "    </tr>\n",
       "    <tr>\n",
       "      <th>645277</th>\n",
       "      <td>126</td>\n",
       "      <td>30</td>\n",
       "      <td>5</td>\n",
       "      <td>596</td>\n",
       "      <td>26</td>\n",
       "      <td>0.28</td>\n",
       "      <td>46</td>\n",
       "      <td>0.069697</td>\n",
       "      <td>1</td>\n",
       "      <td>2023-10-01 00:00:00</td>\n",
       "      <td>...</td>\n",
       "      <td>109</td>\n",
       "      <td>13</td>\n",
       "      <td>8</td>\n",
       "      <td>0</td>\n",
       "      <td>0.513</td>\n",
       "      <td>107</td>\n",
       "      <td>Atlanta</td>\n",
       "      <td>645277</td>\n",
       "      <td>0.456307</td>\n",
       "      <td>20.904559</td>\n",
       "    </tr>\n",
       "    <tr>\n",
       "      <th>...</th>\n",
       "      <td>...</td>\n",
       "      <td>...</td>\n",
       "      <td>...</td>\n",
       "      <td>...</td>\n",
       "      <td>...</td>\n",
       "      <td>...</td>\n",
       "      <td>...</td>\n",
       "      <td>...</td>\n",
       "      <td>...</td>\n",
       "      <td>...</td>\n",
       "      <td>...</td>\n",
       "      <td>...</td>\n",
       "      <td>...</td>\n",
       "      <td>...</td>\n",
       "      <td>...</td>\n",
       "      <td>...</td>\n",
       "      <td>...</td>\n",
       "      <td>...</td>\n",
       "      <td>...</td>\n",
       "      <td>...</td>\n",
       "      <td>...</td>\n",
       "    </tr>\n",
       "    <tr>\n",
       "      <th>665750</th>\n",
       "      <td>126</td>\n",
       "      <td>31</td>\n",
       "      <td>3</td>\n",
       "      <td>511</td>\n",
       "      <td>24</td>\n",
       "      <td>0.266</td>\n",
       "      <td>35</td>\n",
       "      <td>0.063177</td>\n",
       "      <td>4</td>\n",
       "      <td>2023-10-01 00:00:00</td>\n",
       "      <td>...</td>\n",
       "      <td>67</td>\n",
       "      <td>14</td>\n",
       "      <td>4</td>\n",
       "      <td>3</td>\n",
       "      <td>0.421</td>\n",
       "      <td>117</td>\n",
       "      <td>Texas</td>\n",
       "      <td>665750</td>\n",
       "      <td>0.396282</td>\n",
       "      <td>16.102527</td>\n",
       "    </tr>\n",
       "    <tr>\n",
       "      <th>673548</th>\n",
       "      <td>127</td>\n",
       "      <td>31</td>\n",
       "      <td>6</td>\n",
       "      <td>515</td>\n",
       "      <td>28</td>\n",
       "      <td>0.285</td>\n",
       "      <td>59</td>\n",
       "      <td>0.101201</td>\n",
       "      <td>7</td>\n",
       "      <td>2023-09-30 00:00:00</td>\n",
       "      <td>...</td>\n",
       "      <td>74</td>\n",
       "      <td>6</td>\n",
       "      <td>7</td>\n",
       "      <td>0</td>\n",
       "      <td>0.485</td>\n",
       "      <td>130</td>\n",
       "      <td>Chicago</td>\n",
       "      <td>673548</td>\n",
       "      <td>0.451724</td>\n",
       "      <td>20.537931</td>\n",
       "    </tr>\n",
       "    <tr>\n",
       "      <th>665487</th>\n",
       "      <td>126</td>\n",
       "      <td>33</td>\n",
       "      <td>1</td>\n",
       "      <td>575</td>\n",
       "      <td>24</td>\n",
       "      <td>0.257</td>\n",
       "      <td>53</td>\n",
       "      <td>0.083465</td>\n",
       "      <td>4</td>\n",
       "      <td>2023-10-01 00:00:00</td>\n",
       "      <td>...</td>\n",
       "      <td>78</td>\n",
       "      <td>29</td>\n",
       "      <td>3</td>\n",
       "      <td>1</td>\n",
       "      <td>0.449</td>\n",
       "      <td>141</td>\n",
       "      <td>San Diego</td>\n",
       "      <td>665487</td>\n",
       "      <td>0.419654</td>\n",
       "      <td>17.972283</td>\n",
       "    </tr>\n",
       "    <tr>\n",
       "      <th>672580</th>\n",
       "      <td>126</td>\n",
       "      <td>20</td>\n",
       "      <td>4</td>\n",
       "      <td>464</td>\n",
       "      <td>23</td>\n",
       "      <td>0.272</td>\n",
       "      <td>38</td>\n",
       "      <td>0.073786</td>\n",
       "      <td>7</td>\n",
       "      <td>2023-10-01 00:00:00</td>\n",
       "      <td>...</td>\n",
       "      <td>50</td>\n",
       "      <td>23</td>\n",
       "      <td>10</td>\n",
       "      <td>1</td>\n",
       "      <td>0.358</td>\n",
       "      <td>115</td>\n",
       "      <td>Kansas City</td>\n",
       "      <td>672580</td>\n",
       "      <td>0.34967</td>\n",
       "      <td>12.373592</td>\n",
       "    </tr>\n",
       "    <tr>\n",
       "      <th>547180</th>\n",
       "      <td>127</td>\n",
       "      <td>29</td>\n",
       "      <td>1</td>\n",
       "      <td>457</td>\n",
       "      <td>30</td>\n",
       "      <td>0.293</td>\n",
       "      <td>80</td>\n",
       "      <td>0.14652</td>\n",
       "      <td>3</td>\n",
       "      <td>2023-09-30 00:00:00</td>\n",
       "      <td>...</td>\n",
       "      <td>72</td>\n",
       "      <td>11</td>\n",
       "      <td>4</td>\n",
       "      <td>0</td>\n",
       "      <td>0.499</td>\n",
       "      <td>119</td>\n",
       "      <td>Philadelphia</td>\n",
       "      <td>547180</td>\n",
       "      <td>0.474145</td>\n",
       "      <td>22.331599</td>\n",
       "    </tr>\n",
       "  </tbody>\n",
       "</table>\n",
       "<p>133 rows × 35 columns</p>\n",
       "</div>"
      ],
      "text/plain": [
       "       #days  2B 3B   AB Age     BA  BB       BB%  CS                 Date  \\\n",
       "682928   126  28  6  563  22  0.245  32  0.052117   4  2023-10-01 00:00:00   \n",
       "547989   126  23  1  540  36  0.237  42  0.070707   1  2023-10-01 00:00:00   \n",
       "660670   126  35  4  643  25  0.338  80  0.108844  14  2023-10-01 00:00:00   \n",
       "642715   126  29  2  553  27  0.217  71  0.111285   3  2023-10-01 00:00:00   \n",
       "645277   126  30  5  596  26   0.28  46  0.069697   1  2023-10-01 00:00:00   \n",
       "...      ...  .. ..  ...  ..    ...  ..       ...  ..                  ...   \n",
       "665750   126  31  3  511  24  0.266  35  0.063177   4  2023-10-01 00:00:00   \n",
       "673548   127  31  6  515  28  0.285  59  0.101201   7  2023-09-30 00:00:00   \n",
       "665487   126  33  1  575  24  0.257  53  0.083465   4  2023-10-01 00:00:00   \n",
       "672580   126  20  4  464  23  0.272  38  0.073786   7  2023-10-01 00:00:00   \n",
       "547180   127  29  1  457  30  0.293  80   0.14652   3  2023-09-30 00:00:00   \n",
       "\n",
       "        ...  RBI  SB  SF SH    SLG   SO            Tm   mlbID      wOBA  \\\n",
       "682928  ...   64  47   3  3  0.412  118    Washington  682928  0.385556   \n",
       "547989  ...   90   0   6  0  0.383  130       Houston  547989  0.362833   \n",
       "660670  ...  106  72   3  0  0.596   84       Atlanta  660670  0.532473   \n",
       "642715  ...   80   5   6  0  0.407  165     Milwaukee  642715  0.392292   \n",
       "645277  ...  109  13   8  0  0.513  107       Atlanta  645277  0.456307   \n",
       "...     ...  ...  ..  .. ..    ...  ...           ...     ...       ...   \n",
       "665750  ...   67  14   4  3  0.421  117         Texas  665750  0.396282   \n",
       "673548  ...   74   6   7  0  0.485  130       Chicago  673548  0.451724   \n",
       "665487  ...   78  29   3  1  0.449  141     San Diego  665487  0.419654   \n",
       "672580  ...   50  23  10  1  0.358  115   Kansas City  672580   0.34967   \n",
       "547180  ...   72  11   4  0  0.499  119  Philadelphia  547180  0.474145   \n",
       "\n",
       "             wRC+  \n",
       "682928  15.244444  \n",
       "547989  13.426644  \n",
       "660670  26.997814  \n",
       "642715  15.783359  \n",
       "645277  20.904559  \n",
       "...           ...  \n",
       "665750  16.102527  \n",
       "673548  20.537931  \n",
       "665487  17.972283  \n",
       "672580  12.373592  \n",
       "547180  22.331599  \n",
       "\n",
       "[133 rows x 35 columns]"
      ]
     },
     "execution_count": 180,
     "metadata": {},
     "output_type": "execute_result"
    }
   ],
   "source": [
    "df"
   ]
  },
  {
   "cell_type": "code",
   "execution_count": 171,
   "metadata": {},
   "outputs": [],
   "source": [
    "def sliding_window_stability(dfs:dict, stat:str) -> dict:\n",
    "    \"\"\"\n",
    "    Works by computing the standard deviation for a given stat over a sliding window of games\n",
    "    so that we can see how a player's performance stabilizes over time\n",
    "    \"\"\"\n",
    "    stability = {}\n",
    "    window_size = 10 # games\n",
    "    thresholds = {\n",
    "        'OPS': {\n",
    "            'std': 0.02,\n",
    "            'std_roc': 0.004,\n",
    "            'mean': 0.03\n",
    "        },\n",
    "        'K%': {\n",
    "            'std': 0.02,\n",
    "            'std_roc': 0.001,\n",
    "            'mean': 0.01\n",
    "        }\n",
    "    }\n",
    "    window_lag = 5\n",
    "    lagged_std = 0\n",
    "    log = []\n",
    "    stability = pd.DataFrame(index=dfs.keys(), columns=[f'Season {stat}', f'Game Threshold {stat}', f'{stat} Mean', f'{stat} Std'])\n",
    "\n",
    "    for player_id, df in dfs.items():\n",
    "        i = 0\n",
    "        stability.at[player_id,f'Season {stat}'] = df[stat].iloc[-1]\n",
    "        stability.at[player_id,f'Game Threshold {stat}'] = df['G'].iloc[-1]\n",
    "        stability.at[player_id,f'{stat} Mean'] = -1\n",
    "        stability.at[player_id,f'{stat} Std'] = -1\n",
    "\n",
    "        while i+window_size < len(df):\n",
    "            window_stats = df.iloc[i:i+window_size][stat]\n",
    "            window_std = window_stats.std()\n",
    "            window_mean = window_stats.mean()\n",
    "            mean_diff = abs(window_mean - stability.at[player_id,f'Season {stat}'])\n",
    "            window_std_roc = abs(window_std - lagged_std)\n",
    "\n",
    "            if player_id == 641355:\n",
    "                log.append(f\"Games: {i+window_size}, Window Mean: {round(window_mean,3)}, Window Std: {round(window_std,4)},\\\n",
    "                           Mean Diff: {round(mean_diff,3)}, Std ROC: {round(window_std_roc,4)}\")\n",
    "\n",
    "            if window_std < thresholds[stat]['std'] and mean_diff < thresholds[stat]['mean'] and window_std_roc < thresholds[stat]['std_roc']:\n",
    "                stability.at[player_id, f'Game Threshold {stat}'] = i+window_size\n",
    "                stability.at[player_id, f'{stat} Mean'] = window_mean\n",
    "                stability.at[player_id, f'{stat} Std'] = window_std\n",
    "                break\n",
    "            i+=1\n",
    "            # if i-window_lag > 0:\n",
    "            lagged_window = df.iloc[i-window_lag:i-window_lag+window_size][stat]\n",
    "            lagged_std = lagged_window.std()\n",
    "\n",
    "    return stability, log"
   ]
  },
  {
   "cell_type": "code",
   "execution_count": null,
   "metadata": {},
   "outputs": [],
   "source": []
  },
  {
   "cell_type": "code",
   "execution_count": 172,
   "metadata": {},
   "outputs": [],
   "source": [
    "stability_OPS, log = sliding_window_stability(player_dfs_2023, 'OPS')\n",
    "stability_K, log = sliding_window_stability(player_dfs_2023, 'K%')"
   ]
  },
  {
   "cell_type": "code",
   "execution_count": 173,
   "metadata": {},
   "outputs": [
    {
     "data": {
      "text/html": [
       "<div>\n",
       "<style scoped>\n",
       "    .dataframe tbody tr th:only-of-type {\n",
       "        vertical-align: middle;\n",
       "    }\n",
       "\n",
       "    .dataframe tbody tr th {\n",
       "        vertical-align: top;\n",
       "    }\n",
       "\n",
       "    .dataframe thead th {\n",
       "        text-align: right;\n",
       "    }\n",
       "</style>\n",
       "<table border=\"1\" class=\"dataframe\">\n",
       "  <thead>\n",
       "    <tr style=\"text-align: right;\">\n",
       "      <th></th>\n",
       "      <th>Season OPS</th>\n",
       "      <th>Game Threshold OPS</th>\n",
       "      <th>OPS Mean</th>\n",
       "      <th>OPS Std</th>\n",
       "    </tr>\n",
       "  </thead>\n",
       "  <tbody>\n",
       "    <tr>\n",
       "      <th>682928</th>\n",
       "      <td>0.712</td>\n",
       "      <td>54</td>\n",
       "      <td>0.6891</td>\n",
       "      <td>0.006919</td>\n",
       "    </tr>\n",
       "    <tr>\n",
       "      <th>547989</th>\n",
       "      <td>0.68</td>\n",
       "      <td>106</td>\n",
       "      <td>0.6529</td>\n",
       "      <td>0.007695</td>\n",
       "    </tr>\n",
       "    <tr>\n",
       "      <th>660670</th>\n",
       "      <td>1.012</td>\n",
       "      <td>29</td>\n",
       "      <td>1.006</td>\n",
       "      <td>0.019861</td>\n",
       "    </tr>\n",
       "    <tr>\n",
       "      <th>642715</th>\n",
       "      <td>0.717</td>\n",
       "      <td>85</td>\n",
       "      <td>0.6947</td>\n",
       "      <td>0.017004</td>\n",
       "    </tr>\n",
       "    <tr>\n",
       "      <th>645277</th>\n",
       "      <td>0.849</td>\n",
       "      <td>88</td>\n",
       "      <td>0.8256</td>\n",
       "      <td>0.012394</td>\n",
       "    </tr>\n",
       "    <tr>\n",
       "      <th>...</th>\n",
       "      <td>...</td>\n",
       "      <td>...</td>\n",
       "      <td>...</td>\n",
       "      <td>...</td>\n",
       "    </tr>\n",
       "    <tr>\n",
       "      <th>665750</th>\n",
       "      <td>0.733</td>\n",
       "      <td>97</td>\n",
       "      <td>0.7605</td>\n",
       "      <td>0.007649</td>\n",
       "    </tr>\n",
       "    <tr>\n",
       "      <th>673548</th>\n",
       "      <td>0.842</td>\n",
       "      <td>128</td>\n",
       "      <td>0.8197</td>\n",
       "      <td>0.007973</td>\n",
       "    </tr>\n",
       "    <tr>\n",
       "      <th>665487</th>\n",
       "      <td>0.771</td>\n",
       "      <td>38</td>\n",
       "      <td>0.7744</td>\n",
       "      <td>0.019045</td>\n",
       "    </tr>\n",
       "    <tr>\n",
       "      <th>672580</th>\n",
       "      <td>0.681</td>\n",
       "      <td>35</td>\n",
       "      <td>0.6888</td>\n",
       "      <td>0.017364</td>\n",
       "    </tr>\n",
       "    <tr>\n",
       "      <th>547180</th>\n",
       "      <td>0.9</td>\n",
       "      <td>104</td>\n",
       "      <td>0.8823</td>\n",
       "      <td>0.014423</td>\n",
       "    </tr>\n",
       "  </tbody>\n",
       "</table>\n",
       "<p>133 rows × 4 columns</p>\n",
       "</div>"
      ],
      "text/plain": [
       "       Season OPS Game Threshold OPS OPS Mean   OPS Std\n",
       "682928      0.712                 54   0.6891  0.006919\n",
       "547989       0.68                106   0.6529  0.007695\n",
       "660670      1.012                 29    1.006  0.019861\n",
       "642715      0.717                 85   0.6947  0.017004\n",
       "645277      0.849                 88   0.8256  0.012394\n",
       "...           ...                ...      ...       ...\n",
       "665750      0.733                 97   0.7605  0.007649\n",
       "673548      0.842                128   0.8197  0.007973\n",
       "665487      0.771                 38   0.7744  0.019045\n",
       "672580      0.681                 35   0.6888  0.017364\n",
       "547180        0.9                104   0.8823  0.014423\n",
       "\n",
       "[133 rows x 4 columns]"
      ]
     },
     "execution_count": 173,
     "metadata": {},
     "output_type": "execute_result"
    }
   ],
   "source": [
    "stability_OPS"
   ]
  },
  {
   "cell_type": "code",
   "execution_count": 175,
   "metadata": {},
   "outputs": [
    {
     "data": {
      "text/plain": [
       "73.51127819548873"
      ]
     },
     "execution_count": 175,
     "metadata": {},
     "output_type": "execute_result"
    }
   ],
   "source": [
    "stability_OPS['Game Threshold OPS'].mean()"
   ]
  },
  {
   "cell_type": "code",
   "execution_count": 177,
   "metadata": {},
   "outputs": [
    {
     "data": {
      "text/plain": [
       "68.9172932330827"
      ]
     },
     "execution_count": 177,
     "metadata": {},
     "output_type": "execute_result"
    }
   ],
   "source": [
    "stability_K['Game Threshold K%'].mean()"
   ]
  },
  {
   "cell_type": "code",
   "execution_count": 150,
   "metadata": {},
   "outputs": [],
   "source": [
    "player_key = 682928"
   ]
  },
  {
   "cell_type": "code",
   "execution_count": 151,
   "metadata": {},
   "outputs": [
    {
     "data": {
      "text/plain": [
       "{'Season OPS': 0.712,\n",
       " 'Game Threshold OPS': 54,\n",
       " 'OPS Mean': 0.6891,\n",
       " 'OPS Std': 0.006919376979018936}"
      ]
     },
     "execution_count": 151,
     "metadata": {},
     "output_type": "execute_result"
    }
   ],
   "source": [
    "stability_OPS[player_key]"
   ]
  },
  {
   "cell_type": "code",
   "execution_count": 152,
   "metadata": {},
   "outputs": [
    {
     "data": {
      "application/vnd.plotly.v1+json": {
       "config": {
        "plotlyServerURL": "https://plot.ly"
       },
       "data": [
        {
         "hovertemplate": "x=%{x}<br>y=%{y}<extra></extra>",
         "legendgroup": "",
         "line": {
          "color": "#636efa",
          "dash": "solid"
         },
         "marker": {
          "symbol": "circle"
         },
         "mode": "lines+markers",
         "name": "",
         "orientation": "v",
         "showlegend": false,
         "type": "scatter",
         "x": [
          1,
          2,
          3,
          4,
          5,
          6,
          7,
          8,
          9,
          10,
          11,
          12,
          13,
          14,
          15,
          16,
          17,
          18,
          19,
          20,
          21,
          22,
          23,
          25,
          26,
          27,
          28,
          29,
          30,
          31,
          32,
          33,
          34,
          35,
          36,
          37,
          38,
          39,
          40,
          41,
          42,
          43,
          44,
          45,
          46,
          47,
          48,
          49,
          50,
          51,
          52,
          53,
          54,
          55,
          56,
          57,
          58,
          59,
          60,
          61,
          62,
          63,
          64,
          65,
          66,
          67,
          68,
          69,
          70,
          71,
          72,
          73,
          74,
          75,
          76,
          77,
          78,
          79,
          80,
          81,
          82,
          83,
          84,
          85,
          86,
          87,
          88,
          89,
          90,
          91,
          92,
          93,
          94,
          95,
          96,
          97,
          98,
          99,
          100,
          101,
          102,
          103,
          105,
          106,
          107,
          108,
          109,
          110,
          111,
          112,
          113,
          114,
          115,
          116,
          117,
          118,
          119,
          120,
          121,
          122,
          123,
          124,
          125,
          126,
          127,
          128,
          129,
          130,
          131,
          132,
          133,
          134,
          135,
          136,
          137,
          138,
          139,
          140,
          141,
          142,
          143,
          144,
          146,
          147,
          148,
          149,
          150,
          151
         ],
         "xaxis": "x",
         "y": [
          0,
          0,
          0.091,
          0.498,
          0.387,
          0.523,
          0.813,
          0.828,
          0.701,
          0.679,
          0.687,
          0.64,
          0.641,
          0.63,
          0.644,
          0.645,
          0.603,
          0.622,
          0.651,
          0.67,
          0.627,
          0.645,
          0.675,
          0.674,
          0.678,
          0.657,
          0.697,
          0.696,
          0.695,
          0.676,
          0.676,
          0.687,
          0.681,
          0.658,
          0.637,
          0.672,
          0.69,
          0.722,
          0.701,
          0.686,
          0.668,
          0.67,
          0.676,
          0.691,
          0.7,
          0.682,
          0.69,
          0.692,
          0.691,
          0.683,
          0.693,
          0.694,
          0.69,
          0.676,
          0.662,
          0.652,
          0.649,
          0.654,
          0.642,
          0.63,
          0.632,
          0.624,
          0.636,
          0.641,
          0.672,
          0.66,
          0.674,
          0.663,
          0.674,
          0.671,
          0.669,
          0.661,
          0.674,
          0.664,
          0.681,
          0.684,
          0.674,
          0.676,
          0.681,
          0.69,
          0.691,
          0.706,
          0.72,
          0.719,
          0.712,
          0.716,
          0.729,
          0.739,
          0.729,
          0.732,
          0.729,
          0.728,
          0.731,
          0.723,
          0.718,
          0.725,
          0.727,
          0.732,
          0.725,
          0.715,
          0.711,
          0.733,
          0.733,
          0.725,
          0.729,
          0.728,
          0.722,
          0.719,
          0.72,
          0.713,
          0.715,
          0.718,
          0.712,
          0.71,
          0.715,
          0.713,
          0.721,
          0.717,
          0.711,
          0.712,
          0.717,
          0.714,
          0.708,
          0.703,
          0.706,
          0.701,
          0.697,
          0.698,
          0.707,
          0.719,
          0.733,
          0.73,
          0.726,
          0.724,
          0.718,
          0.714,
          0.708,
          0.712,
          0.716,
          0.726,
          0.719,
          0.725,
          0.723,
          0.717,
          0.716,
          0.71,
          0.712,
          0.712
         ],
         "yaxis": "y"
        }
       ],
       "layout": {
        "annotations": [
         {
          "showarrow": false,
          "text": "Min: 0.0",
          "x": 1,
          "xanchor": "right",
          "xref": "x domain",
          "y": 0,
          "yanchor": "top",
          "yref": "y"
         },
         {
          "showarrow": false,
          "text": "Max: 0.828",
          "x": 1,
          "xanchor": "right",
          "xref": "x domain",
          "y": 0.828,
          "yanchor": "bottom",
          "yref": "y"
         },
         {
          "showarrow": false,
          "text": "End of Season Value 0.712",
          "x": 139,
          "y": 0.6764
         },
         {
          "showarrow": false,
          "text": "OPS Stabilized (Est: 0.689)",
          "x": 54,
          "xanchor": "left",
          "xref": "x",
          "y": 0,
          "yanchor": "bottom",
          "yref": "y domain"
         }
        ],
        "legend": {
         "tracegroupgap": 0
        },
        "margin": {
         "t": 60
        },
        "shapes": [
         {
          "line": {
           "color": "black",
           "dash": "dot"
          },
          "type": "line",
          "x0": 0,
          "x1": 1,
          "xref": "x domain",
          "y0": 0,
          "y1": 0,
          "yref": "y"
         },
         {
          "line": {
           "color": "black",
           "dash": "dot"
          },
          "type": "line",
          "x0": 0,
          "x1": 1,
          "xref": "x domain",
          "y0": 0.828,
          "y1": 0.828,
          "yref": "y"
         },
         {
          "line": {
           "color": "black",
           "dash": "dot"
          },
          "type": "line",
          "x0": 54,
          "x1": 54,
          "xref": "x",
          "y0": 0,
          "y1": 1,
          "yref": "y domain"
         }
        ],
        "template": {
         "data": {
          "bar": [
           {
            "error_x": {
             "color": "#2a3f5f"
            },
            "error_y": {
             "color": "#2a3f5f"
            },
            "marker": {
             "line": {
              "color": "#E5ECF6",
              "width": 0.5
             },
             "pattern": {
              "fillmode": "overlay",
              "size": 10,
              "solidity": 0.2
             }
            },
            "type": "bar"
           }
          ],
          "barpolar": [
           {
            "marker": {
             "line": {
              "color": "#E5ECF6",
              "width": 0.5
             },
             "pattern": {
              "fillmode": "overlay",
              "size": 10,
              "solidity": 0.2
             }
            },
            "type": "barpolar"
           }
          ],
          "carpet": [
           {
            "aaxis": {
             "endlinecolor": "#2a3f5f",
             "gridcolor": "white",
             "linecolor": "white",
             "minorgridcolor": "white",
             "startlinecolor": "#2a3f5f"
            },
            "baxis": {
             "endlinecolor": "#2a3f5f",
             "gridcolor": "white",
             "linecolor": "white",
             "minorgridcolor": "white",
             "startlinecolor": "#2a3f5f"
            },
            "type": "carpet"
           }
          ],
          "choropleth": [
           {
            "colorbar": {
             "outlinewidth": 0,
             "ticks": ""
            },
            "type": "choropleth"
           }
          ],
          "contour": [
           {
            "colorbar": {
             "outlinewidth": 0,
             "ticks": ""
            },
            "colorscale": [
             [
              0,
              "#0d0887"
             ],
             [
              0.1111111111111111,
              "#46039f"
             ],
             [
              0.2222222222222222,
              "#7201a8"
             ],
             [
              0.3333333333333333,
              "#9c179e"
             ],
             [
              0.4444444444444444,
              "#bd3786"
             ],
             [
              0.5555555555555556,
              "#d8576b"
             ],
             [
              0.6666666666666666,
              "#ed7953"
             ],
             [
              0.7777777777777778,
              "#fb9f3a"
             ],
             [
              0.8888888888888888,
              "#fdca26"
             ],
             [
              1,
              "#f0f921"
             ]
            ],
            "type": "contour"
           }
          ],
          "contourcarpet": [
           {
            "colorbar": {
             "outlinewidth": 0,
             "ticks": ""
            },
            "type": "contourcarpet"
           }
          ],
          "heatmap": [
           {
            "colorbar": {
             "outlinewidth": 0,
             "ticks": ""
            },
            "colorscale": [
             [
              0,
              "#0d0887"
             ],
             [
              0.1111111111111111,
              "#46039f"
             ],
             [
              0.2222222222222222,
              "#7201a8"
             ],
             [
              0.3333333333333333,
              "#9c179e"
             ],
             [
              0.4444444444444444,
              "#bd3786"
             ],
             [
              0.5555555555555556,
              "#d8576b"
             ],
             [
              0.6666666666666666,
              "#ed7953"
             ],
             [
              0.7777777777777778,
              "#fb9f3a"
             ],
             [
              0.8888888888888888,
              "#fdca26"
             ],
             [
              1,
              "#f0f921"
             ]
            ],
            "type": "heatmap"
           }
          ],
          "heatmapgl": [
           {
            "colorbar": {
             "outlinewidth": 0,
             "ticks": ""
            },
            "colorscale": [
             [
              0,
              "#0d0887"
             ],
             [
              0.1111111111111111,
              "#46039f"
             ],
             [
              0.2222222222222222,
              "#7201a8"
             ],
             [
              0.3333333333333333,
              "#9c179e"
             ],
             [
              0.4444444444444444,
              "#bd3786"
             ],
             [
              0.5555555555555556,
              "#d8576b"
             ],
             [
              0.6666666666666666,
              "#ed7953"
             ],
             [
              0.7777777777777778,
              "#fb9f3a"
             ],
             [
              0.8888888888888888,
              "#fdca26"
             ],
             [
              1,
              "#f0f921"
             ]
            ],
            "type": "heatmapgl"
           }
          ],
          "histogram": [
           {
            "marker": {
             "pattern": {
              "fillmode": "overlay",
              "size": 10,
              "solidity": 0.2
             }
            },
            "type": "histogram"
           }
          ],
          "histogram2d": [
           {
            "colorbar": {
             "outlinewidth": 0,
             "ticks": ""
            },
            "colorscale": [
             [
              0,
              "#0d0887"
             ],
             [
              0.1111111111111111,
              "#46039f"
             ],
             [
              0.2222222222222222,
              "#7201a8"
             ],
             [
              0.3333333333333333,
              "#9c179e"
             ],
             [
              0.4444444444444444,
              "#bd3786"
             ],
             [
              0.5555555555555556,
              "#d8576b"
             ],
             [
              0.6666666666666666,
              "#ed7953"
             ],
             [
              0.7777777777777778,
              "#fb9f3a"
             ],
             [
              0.8888888888888888,
              "#fdca26"
             ],
             [
              1,
              "#f0f921"
             ]
            ],
            "type": "histogram2d"
           }
          ],
          "histogram2dcontour": [
           {
            "colorbar": {
             "outlinewidth": 0,
             "ticks": ""
            },
            "colorscale": [
             [
              0,
              "#0d0887"
             ],
             [
              0.1111111111111111,
              "#46039f"
             ],
             [
              0.2222222222222222,
              "#7201a8"
             ],
             [
              0.3333333333333333,
              "#9c179e"
             ],
             [
              0.4444444444444444,
              "#bd3786"
             ],
             [
              0.5555555555555556,
              "#d8576b"
             ],
             [
              0.6666666666666666,
              "#ed7953"
             ],
             [
              0.7777777777777778,
              "#fb9f3a"
             ],
             [
              0.8888888888888888,
              "#fdca26"
             ],
             [
              1,
              "#f0f921"
             ]
            ],
            "type": "histogram2dcontour"
           }
          ],
          "mesh3d": [
           {
            "colorbar": {
             "outlinewidth": 0,
             "ticks": ""
            },
            "type": "mesh3d"
           }
          ],
          "parcoords": [
           {
            "line": {
             "colorbar": {
              "outlinewidth": 0,
              "ticks": ""
             }
            },
            "type": "parcoords"
           }
          ],
          "pie": [
           {
            "automargin": true,
            "type": "pie"
           }
          ],
          "scatter": [
           {
            "fillpattern": {
             "fillmode": "overlay",
             "size": 10,
             "solidity": 0.2
            },
            "type": "scatter"
           }
          ],
          "scatter3d": [
           {
            "line": {
             "colorbar": {
              "outlinewidth": 0,
              "ticks": ""
             }
            },
            "marker": {
             "colorbar": {
              "outlinewidth": 0,
              "ticks": ""
             }
            },
            "type": "scatter3d"
           }
          ],
          "scattercarpet": [
           {
            "marker": {
             "colorbar": {
              "outlinewidth": 0,
              "ticks": ""
             }
            },
            "type": "scattercarpet"
           }
          ],
          "scattergeo": [
           {
            "marker": {
             "colorbar": {
              "outlinewidth": 0,
              "ticks": ""
             }
            },
            "type": "scattergeo"
           }
          ],
          "scattergl": [
           {
            "marker": {
             "colorbar": {
              "outlinewidth": 0,
              "ticks": ""
             }
            },
            "type": "scattergl"
           }
          ],
          "scattermapbox": [
           {
            "marker": {
             "colorbar": {
              "outlinewidth": 0,
              "ticks": ""
             }
            },
            "type": "scattermapbox"
           }
          ],
          "scatterpolar": [
           {
            "marker": {
             "colorbar": {
              "outlinewidth": 0,
              "ticks": ""
             }
            },
            "type": "scatterpolar"
           }
          ],
          "scatterpolargl": [
           {
            "marker": {
             "colorbar": {
              "outlinewidth": 0,
              "ticks": ""
             }
            },
            "type": "scatterpolargl"
           }
          ],
          "scatterternary": [
           {
            "marker": {
             "colorbar": {
              "outlinewidth": 0,
              "ticks": ""
             }
            },
            "type": "scatterternary"
           }
          ],
          "surface": [
           {
            "colorbar": {
             "outlinewidth": 0,
             "ticks": ""
            },
            "colorscale": [
             [
              0,
              "#0d0887"
             ],
             [
              0.1111111111111111,
              "#46039f"
             ],
             [
              0.2222222222222222,
              "#7201a8"
             ],
             [
              0.3333333333333333,
              "#9c179e"
             ],
             [
              0.4444444444444444,
              "#bd3786"
             ],
             [
              0.5555555555555556,
              "#d8576b"
             ],
             [
              0.6666666666666666,
              "#ed7953"
             ],
             [
              0.7777777777777778,
              "#fb9f3a"
             ],
             [
              0.8888888888888888,
              "#fdca26"
             ],
             [
              1,
              "#f0f921"
             ]
            ],
            "type": "surface"
           }
          ],
          "table": [
           {
            "cells": {
             "fill": {
              "color": "#EBF0F8"
             },
             "line": {
              "color": "white"
             }
            },
            "header": {
             "fill": {
              "color": "#C8D4E3"
             },
             "line": {
              "color": "white"
             }
            },
            "type": "table"
           }
          ]
         },
         "layout": {
          "annotationdefaults": {
           "arrowcolor": "#2a3f5f",
           "arrowhead": 0,
           "arrowwidth": 1
          },
          "autotypenumbers": "strict",
          "coloraxis": {
           "colorbar": {
            "outlinewidth": 0,
            "ticks": ""
           }
          },
          "colorscale": {
           "diverging": [
            [
             0,
             "#8e0152"
            ],
            [
             0.1,
             "#c51b7d"
            ],
            [
             0.2,
             "#de77ae"
            ],
            [
             0.3,
             "#f1b6da"
            ],
            [
             0.4,
             "#fde0ef"
            ],
            [
             0.5,
             "#f7f7f7"
            ],
            [
             0.6,
             "#e6f5d0"
            ],
            [
             0.7,
             "#b8e186"
            ],
            [
             0.8,
             "#7fbc41"
            ],
            [
             0.9,
             "#4d9221"
            ],
            [
             1,
             "#276419"
            ]
           ],
           "sequential": [
            [
             0,
             "#0d0887"
            ],
            [
             0.1111111111111111,
             "#46039f"
            ],
            [
             0.2222222222222222,
             "#7201a8"
            ],
            [
             0.3333333333333333,
             "#9c179e"
            ],
            [
             0.4444444444444444,
             "#bd3786"
            ],
            [
             0.5555555555555556,
             "#d8576b"
            ],
            [
             0.6666666666666666,
             "#ed7953"
            ],
            [
             0.7777777777777778,
             "#fb9f3a"
            ],
            [
             0.8888888888888888,
             "#fdca26"
            ],
            [
             1,
             "#f0f921"
            ]
           ],
           "sequentialminus": [
            [
             0,
             "#0d0887"
            ],
            [
             0.1111111111111111,
             "#46039f"
            ],
            [
             0.2222222222222222,
             "#7201a8"
            ],
            [
             0.3333333333333333,
             "#9c179e"
            ],
            [
             0.4444444444444444,
             "#bd3786"
            ],
            [
             0.5555555555555556,
             "#d8576b"
            ],
            [
             0.6666666666666666,
             "#ed7953"
            ],
            [
             0.7777777777777778,
             "#fb9f3a"
            ],
            [
             0.8888888888888888,
             "#fdca26"
            ],
            [
             1,
             "#f0f921"
            ]
           ]
          },
          "colorway": [
           "#636efa",
           "#EF553B",
           "#00cc96",
           "#ab63fa",
           "#FFA15A",
           "#19d3f3",
           "#FF6692",
           "#B6E880",
           "#FF97FF",
           "#FECB52"
          ],
          "font": {
           "color": "#2a3f5f"
          },
          "geo": {
           "bgcolor": "white",
           "lakecolor": "white",
           "landcolor": "#E5ECF6",
           "showlakes": true,
           "showland": true,
           "subunitcolor": "white"
          },
          "hoverlabel": {
           "align": "left"
          },
          "hovermode": "closest",
          "mapbox": {
           "style": "light"
          },
          "paper_bgcolor": "white",
          "plot_bgcolor": "#E5ECF6",
          "polar": {
           "angularaxis": {
            "gridcolor": "white",
            "linecolor": "white",
            "ticks": ""
           },
           "bgcolor": "#E5ECF6",
           "radialaxis": {
            "gridcolor": "white",
            "linecolor": "white",
            "ticks": ""
           }
          },
          "scene": {
           "xaxis": {
            "backgroundcolor": "#E5ECF6",
            "gridcolor": "white",
            "gridwidth": 2,
            "linecolor": "white",
            "showbackground": true,
            "ticks": "",
            "zerolinecolor": "white"
           },
           "yaxis": {
            "backgroundcolor": "#E5ECF6",
            "gridcolor": "white",
            "gridwidth": 2,
            "linecolor": "white",
            "showbackground": true,
            "ticks": "",
            "zerolinecolor": "white"
           },
           "zaxis": {
            "backgroundcolor": "#E5ECF6",
            "gridcolor": "white",
            "gridwidth": 2,
            "linecolor": "white",
            "showbackground": true,
            "ticks": "",
            "zerolinecolor": "white"
           }
          },
          "shapedefaults": {
           "line": {
            "color": "#2a3f5f"
           }
          },
          "ternary": {
           "aaxis": {
            "gridcolor": "white",
            "linecolor": "white",
            "ticks": ""
           },
           "baxis": {
            "gridcolor": "white",
            "linecolor": "white",
            "ticks": ""
           },
           "bgcolor": "#E5ECF6",
           "caxis": {
            "gridcolor": "white",
            "linecolor": "white",
            "ticks": ""
           }
          },
          "title": {
           "x": 0.05
          },
          "xaxis": {
           "automargin": true,
           "gridcolor": "white",
           "linecolor": "white",
           "ticks": "",
           "title": {
            "standoff": 15
           },
           "zerolinecolor": "white",
           "zerolinewidth": 2
          },
          "yaxis": {
           "automargin": true,
           "gridcolor": "white",
           "linecolor": "white",
           "ticks": "",
           "title": {
            "standoff": 15
           },
           "zerolinecolor": "white",
           "zerolinewidth": 2
          }
         }
        },
        "title": {
         "text": "CJ Abrams OPS over time"
        },
        "xaxis": {
         "anchor": "y",
         "domain": [
          0,
          1
         ],
         "title": {
          "text": "G"
         }
        },
        "yaxis": {
         "anchor": "x",
         "domain": [
          0,
          1
         ],
         "nticks": 20,
         "title": {
          "text": "OPS"
         }
        }
       }
      }
     },
     "metadata": {},
     "output_type": "display_data"
    }
   ],
   "source": [
    "fig = create_figure(player_dfs_2023[player_key], x_column='G', y_column='OPS')\n",
    "fig.add_vline(x=stability_OPS[player_key]['Game Threshold OPS'], line_dash=\"dot\", line_color=\"black\", annotation_text=f'OPS Stabilized (Est: {round(stability_OPS[player_key]['OPS Mean'],3)})', annotation_position=\"bottom right\")\n",
    "fig.show()"
   ]
  },
  {
   "cell_type": "code",
   "execution_count": 153,
   "metadata": {},
   "outputs": [
    {
     "data": {
      "application/vnd.plotly.v1+json": {
       "config": {
        "plotlyServerURL": "https://plot.ly"
       },
       "data": [
        {
         "hovertemplate": "x=%{x}<br>y=%{y}<extra></extra>",
         "legendgroup": "",
         "line": {
          "color": "#636efa",
          "dash": "solid"
         },
         "marker": {
          "symbol": "circle"
         },
         "mode": "lines+markers",
         "name": "",
         "orientation": "v",
         "showlegend": false,
         "type": "scatter",
         "x": [
          1,
          2,
          3,
          4,
          5,
          6,
          7,
          8,
          9,
          10,
          11,
          12,
          13,
          14,
          15,
          16,
          17,
          18,
          19,
          20,
          21,
          22,
          23,
          25,
          26,
          27,
          28,
          29,
          30,
          31,
          32,
          33,
          34,
          35,
          36,
          37,
          38,
          39,
          40,
          41,
          42,
          43,
          44,
          45,
          46,
          47,
          48,
          49,
          50,
          51,
          52,
          53,
          54,
          55,
          56,
          57,
          58,
          59,
          60,
          61,
          62,
          63,
          64,
          65,
          66,
          67,
          68,
          69,
          70,
          71,
          72,
          73,
          74,
          75,
          76,
          77,
          78,
          79,
          80,
          81,
          82,
          83,
          84,
          85,
          86,
          87,
          88,
          89,
          90,
          91,
          92,
          93,
          94,
          95,
          96,
          97,
          98,
          99,
          100,
          101,
          102,
          103,
          105,
          106,
          107,
          108,
          109,
          110,
          111,
          112,
          113,
          114,
          115,
          116,
          117,
          118,
          119,
          120,
          121,
          122,
          123,
          124,
          125,
          126,
          127,
          128,
          129,
          130,
          131,
          132,
          133,
          134,
          135,
          136,
          137,
          138,
          139,
          140,
          141,
          142,
          143,
          144,
          146,
          147,
          148,
          149,
          150,
          151
         ],
         "xaxis": "x",
         "y": [
          0.25,
          0.14285714285714285,
          0.09090909090909091,
          0.06666666666666667,
          0.15789473684210525,
          0.18181818181818182,
          0.2222222222222222,
          0.1935483870967742,
          0.19444444444444445,
          0.2,
          0.20454545454545456,
          0.2127659574468085,
          0.19607843137254902,
          0.2,
          0.2033898305084746,
          0.20967741935483872,
          0.24242424242424243,
          0.2318840579710145,
          0.22972972972972974,
          0.22077922077922077,
          0.21951219512195122,
          0.22093023255813954,
          0.2222222222222222,
          0.21052631578947367,
          0.2222222222222222,
          0.22549019607843138,
          0.21904761904761905,
          0.21296296296296297,
          0.21621621621621623,
          0.21929824561403508,
          0.21929824561403508,
          0.211864406779661,
          0.21311475409836064,
          0.2222222222222222,
          0.2230769230769231,
          0.21641791044776118,
          0.21014492753623187,
          0.20422535211267606,
          0.2191780821917808,
          0.2348993288590604,
          0.24183006535947713,
          0.2356687898089172,
          0.23125,
          0.23170731707317074,
          0.23353293413173654,
          0.22807017543859648,
          0.2215909090909091,
          0.2222222222222222,
          0.2185792349726776,
          0.2192513368983957,
          0.21875,
          0.2193877551020408,
          0.22,
          0.21568627450980393,
          0.22115384615384615,
          0.22274881516587677,
          0.2186046511627907,
          0.21559633027522937,
          0.22072072072072071,
          0.22123893805309736,
          0.22608695652173913,
          0.2317596566523605,
          0.22784810126582278,
          0.225,
          0.2222222222222222,
          0.23076923076923078,
          0.22709163346613545,
          0.22745098039215686,
          0.2277992277992278,
          0.23193916349809887,
          0.22932330827067668,
          0.2342007434944238,
          0.23076923076923078,
          0.22743682310469315,
          0.2277580071174377,
          0.22807017543859648,
          0.22837370242214533,
          0.22866894197952217,
          0.2255892255892256,
          0.22185430463576158,
          0.22149837133550487,
          0.21794871794871795,
          0.21518987341772153,
          0.21495327102803738,
          0.21779141104294478,
          0.21450151057401812,
          0.21194029850746268,
          0.21176470588235294,
          0.21159420289855072,
          0.21142857142857144,
          0.20903954802259886,
          0.20891364902506965,
          0.2087912087912088,
          0.20923913043478262,
          0.20911528150134048,
          0.20689655172413793,
          0.2047244094488189,
          0.2051948051948052,
          0.20822622107969152,
          0.20812182741116753,
          0.20551378446115287,
          0.20297029702970298,
          0.19951338199513383,
          0.2,
          0.2,
          0.2,
          0.2,
          0.19815668202764977,
          0.19863013698630136,
          0.19909502262443438,
          0.1986455981941309,
          0.19866071428571427,
          0.19911504424778761,
          0.19956140350877194,
          0.19782608695652174,
          0.19827586206896552,
          0.19829424307036247,
          0.20042194092827004,
          0.200836820083682,
          0.1991701244813278,
          0.1971252566735113,
          0.19715447154471544,
          0.1975806451612903,
          0.196,
          0.19603960396039605,
          0.1968503937007874,
          0.1968810916179337,
          0.195357833655706,
          0.19769673704414586,
          0.1954459203036053,
          0.19397363465160075,
          0.19439252336448598,
          0.1962962962962963,
          0.1948529411764706,
          0.19525547445255476,
          0.19891500904159132,
          0.1989247311827957,
          0.19750889679715303,
          0.1978798586572438,
          0.19614711033274956,
          0.19444444444444445,
          0.1927710843373494,
          0.19152542372881357,
          0.19023569023569023,
          0.19230769230769232,
          0.19402985074626866,
          0.19407894736842105,
          0.19218241042345277
         ],
         "yaxis": "y"
        }
       ],
       "layout": {
        "annotations": [
         {
          "showarrow": false,
          "text": "Min: 0.06666666666666667",
          "x": 1,
          "xanchor": "right",
          "xref": "x domain",
          "y": 0.06666666666666667,
          "yanchor": "top",
          "yref": "y"
         },
         {
          "showarrow": false,
          "text": "Max: 0.25",
          "x": 1,
          "xanchor": "right",
          "xref": "x domain",
          "y": 0.25,
          "yanchor": "bottom",
          "yref": "y"
         },
         {
          "showarrow": false,
          "text": "End of Season Value 0.19218241042345277",
          "x": 139,
          "y": 0.18257328990228014
         },
         {
          "showarrow": false,
          "text": "K% Stabilized (Est: 0.201)",
          "x": 109,
          "xanchor": "left",
          "xref": "x",
          "y": 0,
          "yanchor": "bottom",
          "yref": "y domain"
         }
        ],
        "legend": {
         "tracegroupgap": 0
        },
        "margin": {
         "t": 60
        },
        "shapes": [
         {
          "line": {
           "color": "black",
           "dash": "dot"
          },
          "type": "line",
          "x0": 0,
          "x1": 1,
          "xref": "x domain",
          "y0": 0.06666666666666667,
          "y1": 0.06666666666666667,
          "yref": "y"
         },
         {
          "line": {
           "color": "black",
           "dash": "dot"
          },
          "type": "line",
          "x0": 0,
          "x1": 1,
          "xref": "x domain",
          "y0": 0.25,
          "y1": 0.25,
          "yref": "y"
         },
         {
          "line": {
           "color": "black",
           "dash": "dot"
          },
          "type": "line",
          "x0": 109,
          "x1": 109,
          "xref": "x",
          "y0": 0,
          "y1": 1,
          "yref": "y domain"
         }
        ],
        "template": {
         "data": {
          "bar": [
           {
            "error_x": {
             "color": "#2a3f5f"
            },
            "error_y": {
             "color": "#2a3f5f"
            },
            "marker": {
             "line": {
              "color": "#E5ECF6",
              "width": 0.5
             },
             "pattern": {
              "fillmode": "overlay",
              "size": 10,
              "solidity": 0.2
             }
            },
            "type": "bar"
           }
          ],
          "barpolar": [
           {
            "marker": {
             "line": {
              "color": "#E5ECF6",
              "width": 0.5
             },
             "pattern": {
              "fillmode": "overlay",
              "size": 10,
              "solidity": 0.2
             }
            },
            "type": "barpolar"
           }
          ],
          "carpet": [
           {
            "aaxis": {
             "endlinecolor": "#2a3f5f",
             "gridcolor": "white",
             "linecolor": "white",
             "minorgridcolor": "white",
             "startlinecolor": "#2a3f5f"
            },
            "baxis": {
             "endlinecolor": "#2a3f5f",
             "gridcolor": "white",
             "linecolor": "white",
             "minorgridcolor": "white",
             "startlinecolor": "#2a3f5f"
            },
            "type": "carpet"
           }
          ],
          "choropleth": [
           {
            "colorbar": {
             "outlinewidth": 0,
             "ticks": ""
            },
            "type": "choropleth"
           }
          ],
          "contour": [
           {
            "colorbar": {
             "outlinewidth": 0,
             "ticks": ""
            },
            "colorscale": [
             [
              0,
              "#0d0887"
             ],
             [
              0.1111111111111111,
              "#46039f"
             ],
             [
              0.2222222222222222,
              "#7201a8"
             ],
             [
              0.3333333333333333,
              "#9c179e"
             ],
             [
              0.4444444444444444,
              "#bd3786"
             ],
             [
              0.5555555555555556,
              "#d8576b"
             ],
             [
              0.6666666666666666,
              "#ed7953"
             ],
             [
              0.7777777777777778,
              "#fb9f3a"
             ],
             [
              0.8888888888888888,
              "#fdca26"
             ],
             [
              1,
              "#f0f921"
             ]
            ],
            "type": "contour"
           }
          ],
          "contourcarpet": [
           {
            "colorbar": {
             "outlinewidth": 0,
             "ticks": ""
            },
            "type": "contourcarpet"
           }
          ],
          "heatmap": [
           {
            "colorbar": {
             "outlinewidth": 0,
             "ticks": ""
            },
            "colorscale": [
             [
              0,
              "#0d0887"
             ],
             [
              0.1111111111111111,
              "#46039f"
             ],
             [
              0.2222222222222222,
              "#7201a8"
             ],
             [
              0.3333333333333333,
              "#9c179e"
             ],
             [
              0.4444444444444444,
              "#bd3786"
             ],
             [
              0.5555555555555556,
              "#d8576b"
             ],
             [
              0.6666666666666666,
              "#ed7953"
             ],
             [
              0.7777777777777778,
              "#fb9f3a"
             ],
             [
              0.8888888888888888,
              "#fdca26"
             ],
             [
              1,
              "#f0f921"
             ]
            ],
            "type": "heatmap"
           }
          ],
          "heatmapgl": [
           {
            "colorbar": {
             "outlinewidth": 0,
             "ticks": ""
            },
            "colorscale": [
             [
              0,
              "#0d0887"
             ],
             [
              0.1111111111111111,
              "#46039f"
             ],
             [
              0.2222222222222222,
              "#7201a8"
             ],
             [
              0.3333333333333333,
              "#9c179e"
             ],
             [
              0.4444444444444444,
              "#bd3786"
             ],
             [
              0.5555555555555556,
              "#d8576b"
             ],
             [
              0.6666666666666666,
              "#ed7953"
             ],
             [
              0.7777777777777778,
              "#fb9f3a"
             ],
             [
              0.8888888888888888,
              "#fdca26"
             ],
             [
              1,
              "#f0f921"
             ]
            ],
            "type": "heatmapgl"
           }
          ],
          "histogram": [
           {
            "marker": {
             "pattern": {
              "fillmode": "overlay",
              "size": 10,
              "solidity": 0.2
             }
            },
            "type": "histogram"
           }
          ],
          "histogram2d": [
           {
            "colorbar": {
             "outlinewidth": 0,
             "ticks": ""
            },
            "colorscale": [
             [
              0,
              "#0d0887"
             ],
             [
              0.1111111111111111,
              "#46039f"
             ],
             [
              0.2222222222222222,
              "#7201a8"
             ],
             [
              0.3333333333333333,
              "#9c179e"
             ],
             [
              0.4444444444444444,
              "#bd3786"
             ],
             [
              0.5555555555555556,
              "#d8576b"
             ],
             [
              0.6666666666666666,
              "#ed7953"
             ],
             [
              0.7777777777777778,
              "#fb9f3a"
             ],
             [
              0.8888888888888888,
              "#fdca26"
             ],
             [
              1,
              "#f0f921"
             ]
            ],
            "type": "histogram2d"
           }
          ],
          "histogram2dcontour": [
           {
            "colorbar": {
             "outlinewidth": 0,
             "ticks": ""
            },
            "colorscale": [
             [
              0,
              "#0d0887"
             ],
             [
              0.1111111111111111,
              "#46039f"
             ],
             [
              0.2222222222222222,
              "#7201a8"
             ],
             [
              0.3333333333333333,
              "#9c179e"
             ],
             [
              0.4444444444444444,
              "#bd3786"
             ],
             [
              0.5555555555555556,
              "#d8576b"
             ],
             [
              0.6666666666666666,
              "#ed7953"
             ],
             [
              0.7777777777777778,
              "#fb9f3a"
             ],
             [
              0.8888888888888888,
              "#fdca26"
             ],
             [
              1,
              "#f0f921"
             ]
            ],
            "type": "histogram2dcontour"
           }
          ],
          "mesh3d": [
           {
            "colorbar": {
             "outlinewidth": 0,
             "ticks": ""
            },
            "type": "mesh3d"
           }
          ],
          "parcoords": [
           {
            "line": {
             "colorbar": {
              "outlinewidth": 0,
              "ticks": ""
             }
            },
            "type": "parcoords"
           }
          ],
          "pie": [
           {
            "automargin": true,
            "type": "pie"
           }
          ],
          "scatter": [
           {
            "fillpattern": {
             "fillmode": "overlay",
             "size": 10,
             "solidity": 0.2
            },
            "type": "scatter"
           }
          ],
          "scatter3d": [
           {
            "line": {
             "colorbar": {
              "outlinewidth": 0,
              "ticks": ""
             }
            },
            "marker": {
             "colorbar": {
              "outlinewidth": 0,
              "ticks": ""
             }
            },
            "type": "scatter3d"
           }
          ],
          "scattercarpet": [
           {
            "marker": {
             "colorbar": {
              "outlinewidth": 0,
              "ticks": ""
             }
            },
            "type": "scattercarpet"
           }
          ],
          "scattergeo": [
           {
            "marker": {
             "colorbar": {
              "outlinewidth": 0,
              "ticks": ""
             }
            },
            "type": "scattergeo"
           }
          ],
          "scattergl": [
           {
            "marker": {
             "colorbar": {
              "outlinewidth": 0,
              "ticks": ""
             }
            },
            "type": "scattergl"
           }
          ],
          "scattermapbox": [
           {
            "marker": {
             "colorbar": {
              "outlinewidth": 0,
              "ticks": ""
             }
            },
            "type": "scattermapbox"
           }
          ],
          "scatterpolar": [
           {
            "marker": {
             "colorbar": {
              "outlinewidth": 0,
              "ticks": ""
             }
            },
            "type": "scatterpolar"
           }
          ],
          "scatterpolargl": [
           {
            "marker": {
             "colorbar": {
              "outlinewidth": 0,
              "ticks": ""
             }
            },
            "type": "scatterpolargl"
           }
          ],
          "scatterternary": [
           {
            "marker": {
             "colorbar": {
              "outlinewidth": 0,
              "ticks": ""
             }
            },
            "type": "scatterternary"
           }
          ],
          "surface": [
           {
            "colorbar": {
             "outlinewidth": 0,
             "ticks": ""
            },
            "colorscale": [
             [
              0,
              "#0d0887"
             ],
             [
              0.1111111111111111,
              "#46039f"
             ],
             [
              0.2222222222222222,
              "#7201a8"
             ],
             [
              0.3333333333333333,
              "#9c179e"
             ],
             [
              0.4444444444444444,
              "#bd3786"
             ],
             [
              0.5555555555555556,
              "#d8576b"
             ],
             [
              0.6666666666666666,
              "#ed7953"
             ],
             [
              0.7777777777777778,
              "#fb9f3a"
             ],
             [
              0.8888888888888888,
              "#fdca26"
             ],
             [
              1,
              "#f0f921"
             ]
            ],
            "type": "surface"
           }
          ],
          "table": [
           {
            "cells": {
             "fill": {
              "color": "#EBF0F8"
             },
             "line": {
              "color": "white"
             }
            },
            "header": {
             "fill": {
              "color": "#C8D4E3"
             },
             "line": {
              "color": "white"
             }
            },
            "type": "table"
           }
          ]
         },
         "layout": {
          "annotationdefaults": {
           "arrowcolor": "#2a3f5f",
           "arrowhead": 0,
           "arrowwidth": 1
          },
          "autotypenumbers": "strict",
          "coloraxis": {
           "colorbar": {
            "outlinewidth": 0,
            "ticks": ""
           }
          },
          "colorscale": {
           "diverging": [
            [
             0,
             "#8e0152"
            ],
            [
             0.1,
             "#c51b7d"
            ],
            [
             0.2,
             "#de77ae"
            ],
            [
             0.3,
             "#f1b6da"
            ],
            [
             0.4,
             "#fde0ef"
            ],
            [
             0.5,
             "#f7f7f7"
            ],
            [
             0.6,
             "#e6f5d0"
            ],
            [
             0.7,
             "#b8e186"
            ],
            [
             0.8,
             "#7fbc41"
            ],
            [
             0.9,
             "#4d9221"
            ],
            [
             1,
             "#276419"
            ]
           ],
           "sequential": [
            [
             0,
             "#0d0887"
            ],
            [
             0.1111111111111111,
             "#46039f"
            ],
            [
             0.2222222222222222,
             "#7201a8"
            ],
            [
             0.3333333333333333,
             "#9c179e"
            ],
            [
             0.4444444444444444,
             "#bd3786"
            ],
            [
             0.5555555555555556,
             "#d8576b"
            ],
            [
             0.6666666666666666,
             "#ed7953"
            ],
            [
             0.7777777777777778,
             "#fb9f3a"
            ],
            [
             0.8888888888888888,
             "#fdca26"
            ],
            [
             1,
             "#f0f921"
            ]
           ],
           "sequentialminus": [
            [
             0,
             "#0d0887"
            ],
            [
             0.1111111111111111,
             "#46039f"
            ],
            [
             0.2222222222222222,
             "#7201a8"
            ],
            [
             0.3333333333333333,
             "#9c179e"
            ],
            [
             0.4444444444444444,
             "#bd3786"
            ],
            [
             0.5555555555555556,
             "#d8576b"
            ],
            [
             0.6666666666666666,
             "#ed7953"
            ],
            [
             0.7777777777777778,
             "#fb9f3a"
            ],
            [
             0.8888888888888888,
             "#fdca26"
            ],
            [
             1,
             "#f0f921"
            ]
           ]
          },
          "colorway": [
           "#636efa",
           "#EF553B",
           "#00cc96",
           "#ab63fa",
           "#FFA15A",
           "#19d3f3",
           "#FF6692",
           "#B6E880",
           "#FF97FF",
           "#FECB52"
          ],
          "font": {
           "color": "#2a3f5f"
          },
          "geo": {
           "bgcolor": "white",
           "lakecolor": "white",
           "landcolor": "#E5ECF6",
           "showlakes": true,
           "showland": true,
           "subunitcolor": "white"
          },
          "hoverlabel": {
           "align": "left"
          },
          "hovermode": "closest",
          "mapbox": {
           "style": "light"
          },
          "paper_bgcolor": "white",
          "plot_bgcolor": "#E5ECF6",
          "polar": {
           "angularaxis": {
            "gridcolor": "white",
            "linecolor": "white",
            "ticks": ""
           },
           "bgcolor": "#E5ECF6",
           "radialaxis": {
            "gridcolor": "white",
            "linecolor": "white",
            "ticks": ""
           }
          },
          "scene": {
           "xaxis": {
            "backgroundcolor": "#E5ECF6",
            "gridcolor": "white",
            "gridwidth": 2,
            "linecolor": "white",
            "showbackground": true,
            "ticks": "",
            "zerolinecolor": "white"
           },
           "yaxis": {
            "backgroundcolor": "#E5ECF6",
            "gridcolor": "white",
            "gridwidth": 2,
            "linecolor": "white",
            "showbackground": true,
            "ticks": "",
            "zerolinecolor": "white"
           },
           "zaxis": {
            "backgroundcolor": "#E5ECF6",
            "gridcolor": "white",
            "gridwidth": 2,
            "linecolor": "white",
            "showbackground": true,
            "ticks": "",
            "zerolinecolor": "white"
           }
          },
          "shapedefaults": {
           "line": {
            "color": "#2a3f5f"
           }
          },
          "ternary": {
           "aaxis": {
            "gridcolor": "white",
            "linecolor": "white",
            "ticks": ""
           },
           "baxis": {
            "gridcolor": "white",
            "linecolor": "white",
            "ticks": ""
           },
           "bgcolor": "#E5ECF6",
           "caxis": {
            "gridcolor": "white",
            "linecolor": "white",
            "ticks": ""
           }
          },
          "title": {
           "x": 0.05
          },
          "xaxis": {
           "automargin": true,
           "gridcolor": "white",
           "linecolor": "white",
           "ticks": "",
           "title": {
            "standoff": 15
           },
           "zerolinecolor": "white",
           "zerolinewidth": 2
          },
          "yaxis": {
           "automargin": true,
           "gridcolor": "white",
           "linecolor": "white",
           "ticks": "",
           "title": {
            "standoff": 15
           },
           "zerolinecolor": "white",
           "zerolinewidth": 2
          }
         }
        },
        "title": {
         "text": "CJ Abrams K% over time"
        },
        "xaxis": {
         "anchor": "y",
         "domain": [
          0,
          1
         ],
         "title": {
          "text": "G"
         }
        },
        "yaxis": {
         "anchor": "x",
         "domain": [
          0,
          1
         ],
         "nticks": 20,
         "title": {
          "text": "K%"
         }
        }
       }
      }
     },
     "metadata": {},
     "output_type": "display_data"
    }
   ],
   "source": [
    "fig = create_figure(player_dfs_2023[player_key], x_column='G', y_column='K%')\n",
    "fig.add_vline(x=stability_K[player_key]['Game Threshold K%'], line_dash=\"dot\", line_color=\"black\", annotation_text=f'K% Stabilized (Est: {round(stability_K[player_key]['K% Mean'],3)})', annotation_position=\"bottom right\")\n",
    "fig.show()"
   ]
  },
  {
   "cell_type": "code",
   "execution_count": 63,
   "metadata": {},
   "outputs": [
    {
     "data": {
      "image/png": "[encoded data removed]",
      "text/plain": [
       "<Figure size 1000x600 with 1 Axes>"
      ]
     },
     "metadata": {},
     "output_type": "display_data"
    }
   ],
   "source": [
    "# Plot distribution of OPS for all players in player_dfs_2023\n",
    "import numpy as np\n",
    "import matplotlib.pyplot as plt\n",
    "import seaborn as sns\n",
    "sns.set(style=\"whitegrid\")\n",
    "\n",
    "ops = [df['OPS'].iloc[-1] for df in player_dfs_2023.values()]\n",
    "plt.figure(figsize=(10,6))\n",
    "sns.histplot(ops, kde=True, bins=100, color='blue')\n",
    "plt.title('Distribution of OPS at end of season 2023')\n",
    "plt.xlabel('OPS')\n",
    "plt.show()\n"
   ]
  },
  {
   "cell_type": "code",
   "execution_count": null,
   "metadata": {},
   "outputs": [],
   "source": [
    "def compute_stability(dfs:dict, statistic:str) -> dict:\n",
    "    \"\"\"\n",
    "    Computes the stability using different statisitcal techniques for all players\n",
    "    \"\"\"\n",
    "    for key, df in dfs.items():\n",
    "        print(f\"Computing stability for {df['Name'].iloc[0]}\")\n",
    "        \n",
    "        \n",
    "\n",
    "\n",
    "    return"
   ]
  }
 ],
 "metadata": {
  "kernelspec": {
   "display_name": "statstability",
   "language": "python",
   "name": "python3"
  },
  "language_info": {
   "codemirror_mode": {
    "name": "ipython",
    "version": 3
   },
   "file_extension": ".py",
   "mimetype": "text/x-python",
   "name": "python",
   "nbconvert_exporter": "python",
   "pygments_lexer": "ipython3",
   "version": "3.12.1"
  }
 },
 "nbformat": 4,
 "nbformat_minor": 2
}
