{
 "cells": [
  {
   "cell_type": "code",
   "execution_count": 1,
   "metadata": {},
   "outputs": [],
   "source": [
    "import pickle\n",
    "import plotly.express as px\n",
    "from plotly.graph_objs import Figure\n",
    "import pandas as pd\n",
    "import numpy as np\n",
    "import matplotlib.pyplot as plt\n",
    "import seaborn as sns"
   ]
  },
  {
   "cell_type": "markdown",
   "metadata": {},
   "source": [
    "# Utility Functions"
   ]
  },
  {
   "cell_type": "code",
   "execution_count": 2,
   "metadata": {},
   "outputs": [],
   "source": [
    "def create_figure(df, x_column, y_column) -> Figure:\n",
    "    x_data = df[x_column]\n",
    "    y_data = df[y_column]\n",
    "\n",
    "    min_value = y_data.min()\n",
    "    max_value = y_data.max()\n",
    "    season_value = y_data.iloc[-1]\n",
    "    \n",
    "    fig = px.line(x=x_data, y=y_data, markers=True)\n",
    "    fig.update_layout(\n",
    "        xaxis_title=x_column,\n",
    "        yaxis_title=y_column,\n",
    "        title=f'{df['Name'].iloc[0]} {y_column} over time'\n",
    "    )\n",
    "    fig.add_hline(y=min_value, line_dash=\"dot\", line_color=\"black\", annotation_text=f'Min: {min_value}', annotation_position=\"bottom right\")\n",
    "    fig.add_hline(y=max_value, line_dash=\"dot\", line_color=\"black\", annotation_text=f'Max: {max_value}', annotation_position=\"top right\")\n",
    "    \n",
    "    fig.add_annotation(text=f\"End of Season Value {season_value}\", x=x_data.iloc[-12], y=season_value-season_value*0.05, showarrow=False)\n",
    "    \n",
    "    fig.update_yaxes(nticks=20)\n",
    "    return fig"
   ]
  },
  {
   "cell_type": "code",
   "execution_count": 3,
   "metadata": {},
   "outputs": [],
   "source": [
    "def compute_league_variance(dfs:dict):\n",
    "    \"\"\"\n",
    "    Compute the season stat variance of each stat across the league \n",
    "    \"\"\"\n",
    "    stat_columns = ['BA','OBP','SLG','OPS','wOBA','K%','BB%','ISO','wRC+']\n",
    "    player_values = {}\n",
    "    for key, df in dfs.items():\n",
    "        player_values[key] = df[stat_columns].iloc[-1].to_dict()\n",
    "    \n",
    "    return pd.DataFrame(player_values).T"
   ]
  },
  {
   "cell_type": "markdown",
   "metadata": {},
   "source": [
    "# Stability Algorithms"
   ]
  },
  {
   "cell_type": "code",
   "execution_count": 4,
   "metadata": {},
   "outputs": [],
   "source": [
    "def sliding_window_stability(dfs:dict, stat:str, thresholds:dict) -> dict:\n",
    "    \"\"\"\n",
    "    Works by computing the standard deviation for a given stat over a sliding window of games\n",
    "    so that we can see how a player's performance stabilizes over time\n",
    "    \"\"\"\n",
    "    window_size = 10 # games\n",
    "    window_lag = 5\n",
    "    lagged_std = 0\n",
    "    log = []\n",
    "    stability_columns = [f'Season {stat}', f'Game Threshold {stat}', f'{stat} Mean', f'{stat} Std']\n",
    "    stability = pd.DataFrame(index=dfs.keys(), columns=stability_columns).fillna(-1)\n",
    "\n",
    "    for player_id, df in dfs.items():\n",
    "        i = 0\n",
    "        stability.at[player_id,f'Season {stat}'] = df[stat].iloc[-1]\n",
    "        stability.at[player_id,f'Game Threshold {stat}'] = df['G'].iloc[-1]\n",
    "        stability.at[player_id,f'{stat} Mean'] = -1\n",
    "        stability.at[player_id,f'{stat} Std'] = -1\n",
    "\n",
    "        while i+window_size < len(df):\n",
    "            window_stats = df.iloc[i:i+window_size][stat]\n",
    "            window_std = window_stats.std()\n",
    "            window_mean = window_stats.mean()\n",
    "            mean_diff = abs(window_mean - stability.at[player_id,f'Season {stat}'])\n",
    "            window_std_roc = abs(window_std - lagged_std)\n",
    "\n",
    "            if player_id == 641355:\n",
    "                log.append(f\"Games: {i+window_size}, Window Mean: {round(window_mean,3)}, Window Std: {round(window_std,4)},\\\n",
    "                           Mean Diff: {round(mean_diff,3)}, Std ROC: {round(window_std_roc,4)}\")\n",
    "\n",
    "            if window_std < thresholds[stat]['std'] and mean_diff < thresholds[stat]['mean'] and window_std_roc < thresholds[stat]['std_roc']:\n",
    "                stability.at[player_id, f'Game Threshold {stat}'] = i+window_size\n",
    "                stability.at[player_id, f'{stat} Mean'] = window_mean\n",
    "                stability.at[player_id, f'{stat} Std'] = window_std\n",
    "                break\n",
    "            i+=1\n",
    "            # if i-window_lag > 0:\n",
    "            lagged_window = df.iloc[i-window_lag:i-window_lag+window_size][stat]\n",
    "            lagged_std = lagged_window.std()\n",
    "\n",
    "    return stability, log"
   ]
  },
  {
   "cell_type": "markdown",
   "metadata": {},
   "source": [
    "The above code computes stability off of when at a certain point a window gets below a standard deviation threshhold and a difference between the current value and the season mean. I worry that this is not a comprehensive way to measure stability since you could essentially get lucky by finding a temporarily stable period of time that is relatively close to the player's season value. \n",
    "\n",
    "Ideas to get around this:\n",
    "* After you find the first window match (let's say at 65 games), compute how many \"false\" windows follow it (how many don't satisfy the threshold criteria). If the number of false windows is below another threshold, then keep the first window match, else move to the next one\n",
    "* Create a measure of the std deviation rate of change - negative values means the value is getting more stable, then as it approaches 0 it's getting as stable as it will get\n",
    "\n",
    "Will start by implementing the second option"
   ]
  },
  {
   "cell_type": "markdown",
   "metadata": {},
   "source": [
    "# Analysis"
   ]
  },
  {
   "cell_type": "code",
   "execution_count": 5,
   "metadata": {},
   "outputs": [
    {
     "data": {
      "text/plain": [
       "dict_keys([682928, 547989, 660670, 642715, 645277, 624413, 641313, 606115, 571448, 668227, 650333, 595879, 605137, 641355, 643217, 605141, 666182, 593428, 664761, 608324, 600869, 592192, 682998, 592206, 656305, 661388, 621043, 641487, 630105, 605204, 650559, 646240, 553869, 650490, 592273, 669242, 642731, 664034, 518692, 670770, 666969, 665926, 502671, 663757, 665489, 666971, 664023, 671739, 663647, 669720, 683002, 571771, 606192, 663538, 663697, 673962, 673490, 680757, 518934, 596019, 663993, 592518, 606466, 656716, 641857, 643446, 669004, 608841, 593160, 571970, 607043, 663457, 660271, 621566, 681546, 542303, 670623, 665161, 521692, 663728, 608070, 592663, 592669, 668804, 663586, 673357, 677594, 667670, 642708, 660688, 668939, 467793, 623993, 656941, 608369, 543760, 642086, 669257, 624585, 665742, 543807, 668715, 663886, 681082, 664702, 553993, 669261, 621020, 657041, 679529, 650402, 678662, 663656, 457759, 607208, 662139, 683734, 657077, 663837, 683011, 664774, 572233, 677951, 592885, 807799, 592696, 595777, 669394, 665750, 673548, 665487, 672580, 547180])"
      ]
     },
     "execution_count": 5,
     "metadata": {},
     "output_type": "execute_result"
    }
   ],
   "source": [
    "player_dfs_2023 = pickle.load(open('2023_player_dfs.pkl', 'rb'))\n",
    "player_dfs_2023.keys()"
   ]
  },
  {
   "cell_type": "code",
   "execution_count": 6,
   "metadata": {},
   "outputs": [
    {
     "data": {
      "text/html": [
       "<div>\n",
       "<style scoped>\n",
       "    .dataframe tbody tr th:only-of-type {\n",
       "        vertical-align: middle;\n",
       "    }\n",
       "\n",
       "    .dataframe tbody tr th {\n",
       "        vertical-align: top;\n",
       "    }\n",
       "\n",
       "    .dataframe thead th {\n",
       "        text-align: right;\n",
       "    }\n",
       "</style>\n",
       "<table border=\"1\" class=\"dataframe\">\n",
       "  <thead>\n",
       "    <tr style=\"text-align: right;\">\n",
       "      <th></th>\n",
       "      <th>BA</th>\n",
       "      <th>OBP</th>\n",
       "      <th>SLG</th>\n",
       "      <th>OPS</th>\n",
       "      <th>wOBA</th>\n",
       "      <th>K%</th>\n",
       "      <th>BB%</th>\n",
       "      <th>ISO</th>\n",
       "      <th>wRC+</th>\n",
       "    </tr>\n",
       "  </thead>\n",
       "  <tbody>\n",
       "    <tr>\n",
       "      <th>count</th>\n",
       "      <td>133.000000</td>\n",
       "      <td>133.000000</td>\n",
       "      <td>133.000000</td>\n",
       "      <td>133.000000</td>\n",
       "      <td>133.000000</td>\n",
       "      <td>133.000000</td>\n",
       "      <td>133.000000</td>\n",
       "      <td>133.000000</td>\n",
       "      <td>133.000000</td>\n",
       "    </tr>\n",
       "    <tr>\n",
       "      <th>mean</th>\n",
       "      <td>0.261774</td>\n",
       "      <td>0.334398</td>\n",
       "      <td>0.444383</td>\n",
       "      <td>0.778714</td>\n",
       "      <td>0.417922</td>\n",
       "      <td>0.207879</td>\n",
       "      <td>0.089364</td>\n",
       "      <td>0.182616</td>\n",
       "      <td>17.833764</td>\n",
       "    </tr>\n",
       "    <tr>\n",
       "      <th>std</th>\n",
       "      <td>0.025463</td>\n",
       "      <td>0.029555</td>\n",
       "      <td>0.060298</td>\n",
       "      <td>0.081808</td>\n",
       "      <td>0.044471</td>\n",
       "      <td>0.052094</td>\n",
       "      <td>0.029938</td>\n",
       "      <td>0.050986</td>\n",
       "      <td>3.557708</td>\n",
       "    </tr>\n",
       "    <tr>\n",
       "      <th>min</th>\n",
       "      <td>0.197000</td>\n",
       "      <td>0.267000</td>\n",
       "      <td>0.296000</td>\n",
       "      <td>0.582000</td>\n",
       "      <td>0.297691</td>\n",
       "      <td>0.055105</td>\n",
       "      <td>0.032759</td>\n",
       "      <td>0.050710</td>\n",
       "      <td>8.215267</td>\n",
       "    </tr>\n",
       "    <tr>\n",
       "      <th>25%</th>\n",
       "      <td>0.248000</td>\n",
       "      <td>0.315000</td>\n",
       "      <td>0.407000</td>\n",
       "      <td>0.717000</td>\n",
       "      <td>0.386575</td>\n",
       "      <td>0.170608</td>\n",
       "      <td>0.065123</td>\n",
       "      <td>0.153518</td>\n",
       "      <td>15.326027</td>\n",
       "    </tr>\n",
       "    <tr>\n",
       "      <th>50%</th>\n",
       "      <td>0.262000</td>\n",
       "      <td>0.328000</td>\n",
       "      <td>0.441000</td>\n",
       "      <td>0.778000</td>\n",
       "      <td>0.417373</td>\n",
       "      <td>0.209756</td>\n",
       "      <td>0.088123</td>\n",
       "      <td>0.178752</td>\n",
       "      <td>17.789855</td>\n",
       "    </tr>\n",
       "    <tr>\n",
       "      <th>75%</th>\n",
       "      <td>0.275000</td>\n",
       "      <td>0.352000</td>\n",
       "      <td>0.475000</td>\n",
       "      <td>0.818000</td>\n",
       "      <td>0.441756</td>\n",
       "      <td>0.238532</td>\n",
       "      <td>0.105008</td>\n",
       "      <td>0.209480</td>\n",
       "      <td>19.740458</td>\n",
       "    </tr>\n",
       "    <tr>\n",
       "      <th>max</th>\n",
       "      <td>0.354000</td>\n",
       "      <td>0.416000</td>\n",
       "      <td>0.654000</td>\n",
       "      <td>1.066000</td>\n",
       "      <td>0.559221</td>\n",
       "      <td>0.326996</td>\n",
       "      <td>0.186441</td>\n",
       "      <td>0.350101</td>\n",
       "      <td>29.137716</td>\n",
       "    </tr>\n",
       "  </tbody>\n",
       "</table>\n",
       "</div>"
      ],
      "text/plain": [
       "               BA         OBP         SLG         OPS        wOBA          K%  \\\n",
       "count  133.000000  133.000000  133.000000  133.000000  133.000000  133.000000   \n",
       "mean     0.261774    0.334398    0.444383    0.778714    0.417922    0.207879   \n",
       "std      0.025463    0.029555    0.060298    0.081808    0.044471    0.052094   \n",
       "min      0.197000    0.267000    0.296000    0.582000    0.297691    0.055105   \n",
       "25%      0.248000    0.315000    0.407000    0.717000    0.386575    0.170608   \n",
       "50%      0.262000    0.328000    0.441000    0.778000    0.417373    0.209756   \n",
       "75%      0.275000    0.352000    0.475000    0.818000    0.441756    0.238532   \n",
       "max      0.354000    0.416000    0.654000    1.066000    0.559221    0.326996   \n",
       "\n",
       "              BB%         ISO        wRC+  \n",
       "count  133.000000  133.000000  133.000000  \n",
       "mean     0.089364    0.182616   17.833764  \n",
       "std      0.029938    0.050986    3.557708  \n",
       "min      0.032759    0.050710    8.215267  \n",
       "25%      0.065123    0.153518   15.326027  \n",
       "50%      0.088123    0.178752   17.789855  \n",
       "75%      0.105008    0.209480   19.740458  \n",
       "max      0.186441    0.350101   29.137716  "
      ]
     },
     "execution_count": 6,
     "metadata": {},
     "output_type": "execute_result"
    }
   ],
   "source": [
    "df = compute_league_variance(player_dfs_2023)\n",
    "df.describe()"
   ]
  },
  {
   "cell_type": "code",
   "execution_count": 7,
   "metadata": {},
   "outputs": [],
   "source": [
    "# Need more standardized method to define the thresholds\n",
    "thresholds = {\n",
    "    'BA': {\n",
    "        'std': 0.01,\n",
    "        'std_roc': 0.002,\n",
    "        'mean': 0.01\n",
    "    },\n",
    "    'OBP': {\n",
    "        'std': 0.015,\n",
    "        'std_roc': 0.0025,\n",
    "        'mean': 0.015\n",
    "    },\n",
    "    'SLG': {\n",
    "        'std': 0.03,\n",
    "        'std_roc': 0.006,\n",
    "        'mean': 0.03\n",
    "    },\n",
    "    'OPS': {\n",
    "        'std': 0.04,\n",
    "        'std_roc': 0.008,\n",
    "        'mean': 0.04\n",
    "    },\n",
    "    'wOBA': {\n",
    "        'std': 0.02,\n",
    "        'std_roc': 0.004,\n",
    "        'mean': 0.02\n",
    "    },\n",
    "    'K%': {\n",
    "        'std': 0.025,\n",
    "        'std_roc': 0.001,\n",
    "        'mean': 0.025\n",
    "    },\n",
    "    'BB%': {\n",
    "        'std': 0.015,\n",
    "        'std_roc': 0.001,\n",
    "        'mean': 0.015 \n",
    "    },\n",
    "    'ISO': {\n",
    "        'std': 0.025,\n",
    "        'std_roc': 0.001,\n",
    "        'mean': 0.025\n",
    "    },\n",
    "    'wRC+': {\n",
    "        'std': 1.5,\n",
    "        'std_roc': 0.15,\n",
    "        'mean': 1.5\n",
    "    }\n",
    "}"
   ]
  },
  {
   "cell_type": "code",
   "execution_count": 8,
   "metadata": {},
   "outputs": [
    {
     "name": "stdout",
     "output_type": "stream",
     "text": [
      "Computing stability for BA\n",
      "Computing stability for OBP\n",
      "Computing stability for SLG\n",
      "Computing stability for OPS\n",
      "Computing stability for wOBA\n",
      "Computing stability for K%\n",
      "Computing stability for BB%\n",
      "Computing stability for ISO\n",
      "Computing stability for wRC+\n"
     ]
    }
   ],
   "source": [
    "stability_df = pd.DataFrame()\n",
    "stat_columns = ['BA','OBP','SLG','OPS','wOBA','K%','BB%','ISO','wRC+']\n",
    "for stat in stat_columns:\n",
    "    print(f\"Computing stability for {stat}\")\n",
    "    stability, log = sliding_window_stability(player_dfs_2023, stat, thresholds)\n",
    "    stability_df = pd.concat([stability_df, stability], axis=1)"
   ]
  },
  {
   "cell_type": "code",
   "execution_count": 9,
   "metadata": {},
   "outputs": [
    {
     "data": {
      "text/html": [
       "<div>\n",
       "<style scoped>\n",
       "    .dataframe tbody tr th:only-of-type {\n",
       "        vertical-align: middle;\n",
       "    }\n",
       "\n",
       "    .dataframe tbody tr th {\n",
       "        vertical-align: top;\n",
       "    }\n",
       "\n",
       "    .dataframe thead th {\n",
       "        text-align: right;\n",
       "    }\n",
       "</style>\n",
       "<table border=\"1\" class=\"dataframe\">\n",
       "  <thead>\n",
       "    <tr style=\"text-align: right;\">\n",
       "      <th></th>\n",
       "      <th>Season BA</th>\n",
       "      <th>Game Threshold BA</th>\n",
       "      <th>BA Mean</th>\n",
       "      <th>BA Std</th>\n",
       "      <th>Season OBP</th>\n",
       "      <th>Game Threshold OBP</th>\n",
       "      <th>OBP Mean</th>\n",
       "      <th>OBP Std</th>\n",
       "      <th>Season SLG</th>\n",
       "      <th>Game Threshold SLG</th>\n",
       "      <th>...</th>\n",
       "      <th>BB% Mean</th>\n",
       "      <th>BB% Std</th>\n",
       "      <th>Season ISO</th>\n",
       "      <th>Game Threshold ISO</th>\n",
       "      <th>ISO Mean</th>\n",
       "      <th>ISO Std</th>\n",
       "      <th>Season wRC+</th>\n",
       "      <th>Game Threshold wRC+</th>\n",
       "      <th>wRC+ Mean</th>\n",
       "      <th>wRC+ Std</th>\n",
       "    </tr>\n",
       "  </thead>\n",
       "  <tbody>\n",
       "    <tr>\n",
       "      <th>682928</th>\n",
       "      <td>0.245</td>\n",
       "      <td>42</td>\n",
       "      <td>0.2445</td>\n",
       "      <td>0.007517</td>\n",
       "      <td>0.3</td>\n",
       "      <td>23</td>\n",
       "      <td>0.2965</td>\n",
       "      <td>0.009107</td>\n",
       "      <td>0.412</td>\n",
       "      <td>43</td>\n",
       "      <td>...</td>\n",
       "      <td>0.061158</td>\n",
       "      <td>0.006906</td>\n",
       "      <td>0.166963</td>\n",
       "      <td>44</td>\n",
       "      <td>0.147765</td>\n",
       "      <td>0.014121</td>\n",
       "      <td>15.244444</td>\n",
       "      <td>56</td>\n",
       "      <td>14.210012</td>\n",
       "      <td>0.571451</td>\n",
       "    </tr>\n",
       "    <tr>\n",
       "      <th>547989</th>\n",
       "      <td>0.237</td>\n",
       "      <td>29</td>\n",
       "      <td>0.2449</td>\n",
       "      <td>0.006641</td>\n",
       "      <td>0.296</td>\n",
       "      <td>28</td>\n",
       "      <td>0.2844</td>\n",
       "      <td>0.01048</td>\n",
       "      <td>0.383</td>\n",
       "      <td>102</td>\n",
       "      <td>...</td>\n",
       "      <td>0.059802</td>\n",
       "      <td>0.007284</td>\n",
       "      <td>0.146296</td>\n",
       "      <td>126</td>\n",
       "      <td>0.123637</td>\n",
       "      <td>0.00631</td>\n",
       "      <td>13.426644</td>\n",
       "      <td>126</td>\n",
       "      <td>11.981439</td>\n",
       "      <td>0.511012</td>\n",
       "    </tr>\n",
       "    <tr>\n",
       "      <th>660670</th>\n",
       "      <td>0.338</td>\n",
       "      <td>39</td>\n",
       "      <td>0.3474</td>\n",
       "      <td>0.005719</td>\n",
       "      <td>0.416</td>\n",
       "      <td>55</td>\n",
       "      <td>0.4147</td>\n",
       "      <td>0.00882</td>\n",
       "      <td>0.596</td>\n",
       "      <td>33</td>\n",
       "      <td>...</td>\n",
       "      <td>0.11967</td>\n",
       "      <td>0.008715</td>\n",
       "      <td>0.258165</td>\n",
       "      <td>54</td>\n",
       "      <td>0.242841</td>\n",
       "      <td>0.009192</td>\n",
       "      <td>26.997814</td>\n",
       "      <td>28</td>\n",
       "      <td>26.746327</td>\n",
       "      <td>0.852148</td>\n",
       "    </tr>\n",
       "    <tr>\n",
       "      <th>642715</th>\n",
       "      <td>0.217</td>\n",
       "      <td>42</td>\n",
       "      <td>0.2254</td>\n",
       "      <td>0.007763</td>\n",
       "      <td>0.31</td>\n",
       "      <td>41</td>\n",
       "      <td>0.3229</td>\n",
       "      <td>0.009327</td>\n",
       "      <td>0.407</td>\n",
       "      <td>34</td>\n",
       "      <td>...</td>\n",
       "      <td>0.126025</td>\n",
       "      <td>0.007382</td>\n",
       "      <td>0.189873</td>\n",
       "      <td>26</td>\n",
       "      <td>0.198045</td>\n",
       "      <td>0.015132</td>\n",
       "      <td>15.783359</td>\n",
       "      <td>42</td>\n",
       "      <td>14.575921</td>\n",
       "      <td>1.076936</td>\n",
       "    </tr>\n",
       "    <tr>\n",
       "      <th>645277</th>\n",
       "      <td>0.28</td>\n",
       "      <td>141</td>\n",
       "      <td>0.2723</td>\n",
       "      <td>0.004001</td>\n",
       "      <td>0.336</td>\n",
       "      <td>115</td>\n",
       "      <td>0.3215</td>\n",
       "      <td>0.003274</td>\n",
       "      <td>0.513</td>\n",
       "      <td>48</td>\n",
       "      <td>...</td>\n",
       "      <td>0.05714</td>\n",
       "      <td>0.003596</td>\n",
       "      <td>0.233221</td>\n",
       "      <td>47</td>\n",
       "      <td>0.236947</td>\n",
       "      <td>0.009599</td>\n",
       "      <td>20.904559</td>\n",
       "      <td>48</td>\n",
       "      <td>19.523249</td>\n",
       "      <td>0.831126</td>\n",
       "    </tr>\n",
       "    <tr>\n",
       "      <th>...</th>\n",
       "      <td>...</td>\n",
       "      <td>...</td>\n",
       "      <td>...</td>\n",
       "      <td>...</td>\n",
       "      <td>...</td>\n",
       "      <td>...</td>\n",
       "      <td>...</td>\n",
       "      <td>...</td>\n",
       "      <td>...</td>\n",
       "      <td>...</td>\n",
       "      <td>...</td>\n",
       "      <td>...</td>\n",
       "      <td>...</td>\n",
       "      <td>...</td>\n",
       "      <td>...</td>\n",
       "      <td>...</td>\n",
       "      <td>...</td>\n",
       "      <td>...</td>\n",
       "      <td>...</td>\n",
       "      <td>...</td>\n",
       "      <td>...</td>\n",
       "    </tr>\n",
       "    <tr>\n",
       "      <th>665750</th>\n",
       "      <td>0.266</td>\n",
       "      <td>97</td>\n",
       "      <td>0.2758</td>\n",
       "      <td>0.002616</td>\n",
       "      <td>0.312</td>\n",
       "      <td>91</td>\n",
       "      <td>0.326</td>\n",
       "      <td>0.004163</td>\n",
       "      <td>0.421</td>\n",
       "      <td>31</td>\n",
       "      <td>...</td>\n",
       "      <td>0.075283</td>\n",
       "      <td>0.014456</td>\n",
       "      <td>0.154599</td>\n",
       "      <td>22</td>\n",
       "      <td>0.142231</td>\n",
       "      <td>0.018068</td>\n",
       "      <td>16.102527</td>\n",
       "      <td>32</td>\n",
       "      <td>17.439483</td>\n",
       "      <td>1.031471</td>\n",
       "    </tr>\n",
       "    <tr>\n",
       "      <th>673548</th>\n",
       "      <td>0.285</td>\n",
       "      <td>45</td>\n",
       "      <td>0.2846</td>\n",
       "      <td>0.006484</td>\n",
       "      <td>0.357</td>\n",
       "      <td>27</td>\n",
       "      <td>0.3445</td>\n",
       "      <td>0.010752</td>\n",
       "      <td>0.485</td>\n",
       "      <td>45</td>\n",
       "      <td>...</td>\n",
       "      <td>0.097483</td>\n",
       "      <td>0.00807</td>\n",
       "      <td>0.2</td>\n",
       "      <td>49</td>\n",
       "      <td>0.181978</td>\n",
       "      <td>0.010502</td>\n",
       "      <td>20.537931</td>\n",
       "      <td>51</td>\n",
       "      <td>19.285131</td>\n",
       "      <td>1.200411</td>\n",
       "    </tr>\n",
       "    <tr>\n",
       "      <th>665487</th>\n",
       "      <td>0.257</td>\n",
       "      <td>42</td>\n",
       "      <td>0.2533</td>\n",
       "      <td>0.006945</td>\n",
       "      <td>0.322</td>\n",
       "      <td>23</td>\n",
       "      <td>0.3168</td>\n",
       "      <td>0.012874</td>\n",
       "      <td>0.449</td>\n",
       "      <td>35</td>\n",
       "      <td>...</td>\n",
       "      <td>0.082605</td>\n",
       "      <td>0.009581</td>\n",
       "      <td>0.191304</td>\n",
       "      <td>28</td>\n",
       "      <td>0.211837</td>\n",
       "      <td>0.011904</td>\n",
       "      <td>17.972283</td>\n",
       "      <td>30</td>\n",
       "      <td>18.998596</td>\n",
       "      <td>1.15336</td>\n",
       "    </tr>\n",
       "    <tr>\n",
       "      <th>672580</th>\n",
       "      <td>0.272</td>\n",
       "      <td>71</td>\n",
       "      <td>0.2755</td>\n",
       "      <td>0.002461</td>\n",
       "      <td>0.323</td>\n",
       "      <td>36</td>\n",
       "      <td>0.3225</td>\n",
       "      <td>0.004927</td>\n",
       "      <td>0.358</td>\n",
       "      <td>23</td>\n",
       "      <td>...</td>\n",
       "      <td>0.086962</td>\n",
       "      <td>0.003824</td>\n",
       "      <td>0.086207</td>\n",
       "      <td>20</td>\n",
       "      <td>0.082955</td>\n",
       "      <td>0.009357</td>\n",
       "      <td>12.373592</td>\n",
       "      <td>72</td>\n",
       "      <td>13.871069</td>\n",
       "      <td>0.218511</td>\n",
       "    </tr>\n",
       "    <tr>\n",
       "      <th>547180</th>\n",
       "      <td>0.293</td>\n",
       "      <td>39</td>\n",
       "      <td>0.2938</td>\n",
       "      <td>0.00391</td>\n",
       "      <td>0.401</td>\n",
       "      <td>24</td>\n",
       "      <td>0.4145</td>\n",
       "      <td>0.01423</td>\n",
       "      <td>0.499</td>\n",
       "      <td>24</td>\n",
       "      <td>...</td>\n",
       "      <td>0.145122</td>\n",
       "      <td>0.005013</td>\n",
       "      <td>0.205689</td>\n",
       "      <td>110</td>\n",
       "      <td>0.186594</td>\n",
       "      <td>0.003414</td>\n",
       "      <td>22.331599</td>\n",
       "      <td>24</td>\n",
       "      <td>23.272695</td>\n",
       "      <td>1.428434</td>\n",
       "    </tr>\n",
       "  </tbody>\n",
       "</table>\n",
       "<p>133 rows × 36 columns</p>\n",
       "</div>"
      ],
      "text/plain": [
       "       Season BA Game Threshold BA BA Mean    BA Std Season OBP  \\\n",
       "682928     0.245                42  0.2445  0.007517        0.3   \n",
       "547989     0.237                29  0.2449  0.006641      0.296   \n",
       "660670     0.338                39  0.3474  0.005719      0.416   \n",
       "642715     0.217                42  0.2254  0.007763       0.31   \n",
       "645277      0.28               141  0.2723  0.004001      0.336   \n",
       "...          ...               ...     ...       ...        ...   \n",
       "665750     0.266                97  0.2758  0.002616      0.312   \n",
       "673548     0.285                45  0.2846  0.006484      0.357   \n",
       "665487     0.257                42  0.2533  0.006945      0.322   \n",
       "672580     0.272                71  0.2755  0.002461      0.323   \n",
       "547180     0.293                39  0.2938   0.00391      0.401   \n",
       "\n",
       "       Game Threshold OBP OBP Mean   OBP Std Season SLG Game Threshold SLG  \\\n",
       "682928                 23   0.2965  0.009107      0.412                 43   \n",
       "547989                 28   0.2844   0.01048      0.383                102   \n",
       "660670                 55   0.4147   0.00882      0.596                 33   \n",
       "642715                 41   0.3229  0.009327      0.407                 34   \n",
       "645277                115   0.3215  0.003274      0.513                 48   \n",
       "...                   ...      ...       ...        ...                ...   \n",
       "665750                 91    0.326  0.004163      0.421                 31   \n",
       "673548                 27   0.3445  0.010752      0.485                 45   \n",
       "665487                 23   0.3168  0.012874      0.449                 35   \n",
       "672580                 36   0.3225  0.004927      0.358                 23   \n",
       "547180                 24   0.4145   0.01423      0.499                 24   \n",
       "\n",
       "        ...  BB% Mean   BB% Std Season ISO Game Threshold ISO  ISO Mean  \\\n",
       "682928  ...  0.061158  0.006906   0.166963                 44  0.147765   \n",
       "547989  ...  0.059802  0.007284   0.146296                126  0.123637   \n",
       "660670  ...   0.11967  0.008715   0.258165                 54  0.242841   \n",
       "642715  ...  0.126025  0.007382   0.189873                 26  0.198045   \n",
       "645277  ...   0.05714  0.003596   0.233221                 47  0.236947   \n",
       "...     ...       ...       ...        ...                ...       ...   \n",
       "665750  ...  0.075283  0.014456   0.154599                 22  0.142231   \n",
       "673548  ...  0.097483   0.00807        0.2                 49  0.181978   \n",
       "665487  ...  0.082605  0.009581   0.191304                 28  0.211837   \n",
       "672580  ...  0.086962  0.003824   0.086207                 20  0.082955   \n",
       "547180  ...  0.145122  0.005013   0.205689                110  0.186594   \n",
       "\n",
       "         ISO Std Season wRC+ Game Threshold wRC+  wRC+ Mean  wRC+ Std  \n",
       "682928  0.014121   15.244444                  56  14.210012  0.571451  \n",
       "547989   0.00631   13.426644                 126  11.981439  0.511012  \n",
       "660670  0.009192   26.997814                  28  26.746327  0.852148  \n",
       "642715  0.015132   15.783359                  42  14.575921  1.076936  \n",
       "645277  0.009599   20.904559                  48  19.523249  0.831126  \n",
       "...          ...         ...                 ...        ...       ...  \n",
       "665750  0.018068   16.102527                  32  17.439483  1.031471  \n",
       "673548  0.010502   20.537931                  51  19.285131  1.200411  \n",
       "665487  0.011904   17.972283                  30  18.998596   1.15336  \n",
       "672580  0.009357   12.373592                  72  13.871069  0.218511  \n",
       "547180  0.003414   22.331599                  24  23.272695  1.428434  \n",
       "\n",
       "[133 rows x 36 columns]"
      ]
     },
     "execution_count": 9,
     "metadata": {},
     "output_type": "execute_result"
    }
   ],
   "source": [
    "stability_df"
   ]
  },
  {
   "cell_type": "code",
   "execution_count": 11,
   "metadata": {},
   "outputs": [
    {
     "data": {
      "application/vnd.plotly.v1+json": {
       "config": {
        "plotlyServerURL": "https://plot.ly"
       },
       "data": [
        {
         "hovertemplate": "x=%{x}<br>y=%{y}<extra></extra>",
         "legendgroup": "",
         "line": {
          "color": "#636efa",
          "dash": "solid"
         },
         "marker": {
          "symbol": "circle"
         },
         "mode": "lines+markers",
         "name": "",
         "orientation": "v",
         "showlegend": false,
         "type": "scatter",
         "x": [
          1,
          2,
          3,
          4,
          5,
          6,
          7,
          8,
          9,
          10,
          11,
          12,
          13,
          14,
          15,
          16,
          17,
          18,
          19,
          20,
          21,
          22,
          23,
          24,
          25,
          26,
          27,
          28,
          29,
          30,
          31,
          32,
          33,
          34,
          35,
          36,
          37,
          38,
          39,
          40,
          41,
          42,
          43,
          44,
          45,
          46,
          47,
          48,
          49,
          50,
          51,
          52,
          53,
          54,
          55,
          56,
          57,
          58,
          59,
          60,
          61,
          62,
          63,
          64,
          65,
          66,
          67,
          68,
          69,
          70,
          71,
          72,
          73,
          74,
          75,
          76,
          77,
          78,
          79,
          80,
          81,
          82,
          83,
          84,
          85,
          86,
          87,
          88,
          89,
          90,
          91,
          92,
          93,
          94,
          95,
          96,
          97,
          98,
          99,
          100,
          101,
          102,
          104,
          105,
          106,
          107,
          108,
          109,
          110,
          111,
          112,
          113,
          114,
          115,
          116,
          117,
          118,
          119,
          120,
          121,
          122,
          123,
          124,
          125,
          126,
          127,
          128,
          129,
          130
         ],
         "xaxis": "x",
         "y": [
          0.25,
          0.125,
          0.083,
          0.443,
          0.654,
          0.656,
          0.563,
          0.531,
          0.557,
          0.587,
          0.703,
          0.721,
          0.73,
          0.77,
          0.886,
          0.849,
          0.809,
          0.874,
          0.943,
          0.915,
          0.93,
          0.935,
          0.956,
          0.976,
          0.962,
          0.973,
          0.937,
          0.939,
          0.933,
          0.927,
          0.934,
          0.921,
          0.909,
          0.89,
          0.863,
          0.834,
          0.831,
          0.838,
          0.822,
          0.802,
          0.789,
          0.782,
          0.773,
          0.771,
          0.769,
          0.78,
          0.774,
          0.775,
          0.78,
          0.799,
          0.792,
          0.786,
          0.793,
          0.797,
          0.838,
          0.861,
          0.846,
          0.846,
          0.875,
          0.893,
          0.882,
          0.884,
          0.888,
          0.894,
          0.887,
          0.913,
          0.91,
          0.918,
          0.903,
          0.905,
          0.91,
          0.915,
          0.908,
          0.902,
          0.9,
          0.912,
          0.909,
          0.903,
          0.907,
          0.916,
          0.925,
          0.935,
          0.939,
          0.928,
          0.938,
          0.942,
          0.935,
          0.929,
          0.932,
          0.919,
          0.939,
          0.933,
          0.926,
          0.924,
          0.919,
          0.916,
          0.907,
          0.905,
          0.914,
          0.91,
          0.901,
          0.897,
          0.915,
          0.911,
          0.916,
          0.912,
          0.91,
          0.92,
          0.916,
          0.91,
          0.909,
          0.912,
          0.91,
          0.907,
          0.903,
          0.901,
          0.897,
          0.89,
          0.891,
          0.894,
          0.897,
          0.896,
          0.89,
          0.886,
          0.892,
          0.891,
          0.888,
          0.881,
          0.881
         ],
         "yaxis": "y"
        }
       ],
       "layout": {
        "annotations": [
         {
          "showarrow": false,
          "text": "Min: 0.083",
          "x": 1,
          "xanchor": "right",
          "xref": "x domain",
          "y": 0.083,
          "yanchor": "top",
          "yref": "y"
         },
         {
          "showarrow": false,
          "text": "Max: 0.976",
          "x": 1,
          "xanchor": "right",
          "xref": "x domain",
          "y": 0.976,
          "yanchor": "bottom",
          "yref": "y"
         },
         {
          "showarrow": false,
          "text": "End of Season Value 0.881",
          "x": 119,
          "y": 0.83695
         },
         {
          "showarrow": false,
          "text": "OPS Stabilized (Est: 0.851)",
          "x": 62,
          "xanchor": "left",
          "xref": "x",
          "y": 0,
          "yanchor": "bottom",
          "yref": "y domain"
         }
        ],
        "legend": {
         "tracegroupgap": 0
        },
        "margin": {
         "t": 60
        },
        "shapes": [
         {
          "line": {
           "color": "black",
           "dash": "dot"
          },
          "type": "line",
          "x0": 0,
          "x1": 1,
          "xref": "x domain",
          "y0": 0.083,
          "y1": 0.083,
          "yref": "y"
         },
         {
          "line": {
           "color": "black",
           "dash": "dot"
          },
          "type": "line",
          "x0": 0,
          "x1": 1,
          "xref": "x domain",
          "y0": 0.976,
          "y1": 0.976,
          "yref": "y"
         },
         {
          "line": {
           "color": "black",
           "dash": "dot"
          },
          "type": "line",
          "x0": 62,
          "x1": 62,
          "xref": "x",
          "y0": 0,
          "y1": 1,
          "yref": "y domain"
         }
        ],
        "template": {
         "data": {
          "bar": [
           {
            "error_x": {
             "color": "#2a3f5f"
            },
            "error_y": {
             "color": "#2a3f5f"
            },
            "marker": {
             "line": {
              "color": "#E5ECF6",
              "width": 0.5
             },
             "pattern": {
              "fillmode": "overlay",
              "size": 10,
              "solidity": 0.2
             }
            },
            "type": "bar"
           }
          ],
          "barpolar": [
           {
            "marker": {
             "line": {
              "color": "#E5ECF6",
              "width": 0.5
             },
             "pattern": {
              "fillmode": "overlay",
              "size": 10,
              "solidity": 0.2
             }
            },
            "type": "barpolar"
           }
          ],
          "carpet": [
           {
            "aaxis": {
             "endlinecolor": "#2a3f5f",
             "gridcolor": "white",
             "linecolor": "white",
             "minorgridcolor": "white",
             "startlinecolor": "#2a3f5f"
            },
            "baxis": {
             "endlinecolor": "#2a3f5f",
             "gridcolor": "white",
             "linecolor": "white",
             "minorgridcolor": "white",
             "startlinecolor": "#2a3f5f"
            },
            "type": "carpet"
           }
          ],
          "choropleth": [
           {
            "colorbar": {
             "outlinewidth": 0,
             "ticks": ""
            },
            "type": "choropleth"
           }
          ],
          "contour": [
           {
            "colorbar": {
             "outlinewidth": 0,
             "ticks": ""
            },
            "colorscale": [
             [
              0,
              "#0d0887"
             ],
             [
              0.1111111111111111,
              "#46039f"
             ],
             [
              0.2222222222222222,
              "#7201a8"
             ],
             [
              0.3333333333333333,
              "#9c179e"
             ],
             [
              0.4444444444444444,
              "#bd3786"
             ],
             [
              0.5555555555555556,
              "#d8576b"
             ],
             [
              0.6666666666666666,
              "#ed7953"
             ],
             [
              0.7777777777777778,
              "#fb9f3a"
             ],
             [
              0.8888888888888888,
              "#fdca26"
             ],
             [
              1,
              "#f0f921"
             ]
            ],
            "type": "contour"
           }
          ],
          "contourcarpet": [
           {
            "colorbar": {
             "outlinewidth": 0,
             "ticks": ""
            },
            "type": "contourcarpet"
           }
          ],
          "heatmap": [
           {
            "colorbar": {
             "outlinewidth": 0,
             "ticks": ""
            },
            "colorscale": [
             [
              0,
              "#0d0887"
             ],
             [
              0.1111111111111111,
              "#46039f"
             ],
             [
              0.2222222222222222,
              "#7201a8"
             ],
             [
              0.3333333333333333,
              "#9c179e"
             ],
             [
              0.4444444444444444,
              "#bd3786"
             ],
             [
              0.5555555555555556,
              "#d8576b"
             ],
             [
              0.6666666666666666,
              "#ed7953"
             ],
             [
              0.7777777777777778,
              "#fb9f3a"
             ],
             [
              0.8888888888888888,
              "#fdca26"
             ],
             [
              1,
              "#f0f921"
             ]
            ],
            "type": "heatmap"
           }
          ],
          "heatmapgl": [
           {
            "colorbar": {
             "outlinewidth": 0,
             "ticks": ""
            },
            "colorscale": [
             [
              0,
              "#0d0887"
             ],
             [
              0.1111111111111111,
              "#46039f"
             ],
             [
              0.2222222222222222,
              "#7201a8"
             ],
             [
              0.3333333333333333,
              "#9c179e"
             ],
             [
              0.4444444444444444,
              "#bd3786"
             ],
             [
              0.5555555555555556,
              "#d8576b"
             ],
             [
              0.6666666666666666,
              "#ed7953"
             ],
             [
              0.7777777777777778,
              "#fb9f3a"
             ],
             [
              0.8888888888888888,
              "#fdca26"
             ],
             [
              1,
              "#f0f921"
             ]
            ],
            "type": "heatmapgl"
           }
          ],
          "histogram": [
           {
            "marker": {
             "pattern": {
              "fillmode": "overlay",
              "size": 10,
              "solidity": 0.2
             }
            },
            "type": "histogram"
           }
          ],
          "histogram2d": [
           {
            "colorbar": {
             "outlinewidth": 0,
             "ticks": ""
            },
            "colorscale": [
             [
              0,
              "#0d0887"
             ],
             [
              0.1111111111111111,
              "#46039f"
             ],
             [
              0.2222222222222222,
              "#7201a8"
             ],
             [
              0.3333333333333333,
              "#9c179e"
             ],
             [
              0.4444444444444444,
              "#bd3786"
             ],
             [
              0.5555555555555556,
              "#d8576b"
             ],
             [
              0.6666666666666666,
              "#ed7953"
             ],
             [
              0.7777777777777778,
              "#fb9f3a"
             ],
             [
              0.8888888888888888,
              "#fdca26"
             ],
             [
              1,
              "#f0f921"
             ]
            ],
            "type": "histogram2d"
           }
          ],
          "histogram2dcontour": [
           {
            "colorbar": {
             "outlinewidth": 0,
             "ticks": ""
            },
            "colorscale": [
             [
              0,
              "#0d0887"
             ],
             [
              0.1111111111111111,
              "#46039f"
             ],
             [
              0.2222222222222222,
              "#7201a8"
             ],
             [
              0.3333333333333333,
              "#9c179e"
             ],
             [
              0.4444444444444444,
              "#bd3786"
             ],
             [
              0.5555555555555556,
              "#d8576b"
             ],
             [
              0.6666666666666666,
              "#ed7953"
             ],
             [
              0.7777777777777778,
              "#fb9f3a"
             ],
             [
              0.8888888888888888,
              "#fdca26"
             ],
             [
              1,
              "#f0f921"
             ]
            ],
            "type": "histogram2dcontour"
           }
          ],
          "mesh3d": [
           {
            "colorbar": {
             "outlinewidth": 0,
             "ticks": ""
            },
            "type": "mesh3d"
           }
          ],
          "parcoords": [
           {
            "line": {
             "colorbar": {
              "outlinewidth": 0,
              "ticks": ""
             }
            },
            "type": "parcoords"
           }
          ],
          "pie": [
           {
            "automargin": true,
            "type": "pie"
           }
          ],
          "scatter": [
           {
            "fillpattern": {
             "fillmode": "overlay",
             "size": 10,
             "solidity": 0.2
            },
            "type": "scatter"
           }
          ],
          "scatter3d": [
           {
            "line": {
             "colorbar": {
              "outlinewidth": 0,
              "ticks": ""
             }
            },
            "marker": {
             "colorbar": {
              "outlinewidth": 0,
              "ticks": ""
             }
            },
            "type": "scatter3d"
           }
          ],
          "scattercarpet": [
           {
            "marker": {
             "colorbar": {
              "outlinewidth": 0,
              "ticks": ""
             }
            },
            "type": "scattercarpet"
           }
          ],
          "scattergeo": [
           {
            "marker": {
             "colorbar": {
              "outlinewidth": 0,
              "ticks": ""
             }
            },
            "type": "scattergeo"
           }
          ],
          "scattergl": [
           {
            "marker": {
             "colorbar": {
              "outlinewidth": 0,
              "ticks": ""
             }
            },
            "type": "scattergl"
           }
          ],
          "scattermapbox": [
           {
            "marker": {
             "colorbar": {
              "outlinewidth": 0,
              "ticks": ""
             }
            },
            "type": "scattermapbox"
           }
          ],
          "scatterpolar": [
           {
            "marker": {
             "colorbar": {
              "outlinewidth": 0,
              "ticks": ""
             }
            },
            "type": "scatterpolar"
           }
          ],
          "scatterpolargl": [
           {
            "marker": {
             "colorbar": {
              "outlinewidth": 0,
              "ticks": ""
             }
            },
            "type": "scatterpolargl"
           }
          ],
          "scatterternary": [
           {
            "marker": {
             "colorbar": {
              "outlinewidth": 0,
              "ticks": ""
             }
            },
            "type": "scatterternary"
           }
          ],
          "surface": [
           {
            "colorbar": {
             "outlinewidth": 0,
             "ticks": ""
            },
            "colorscale": [
             [
              0,
              "#0d0887"
             ],
             [
              0.1111111111111111,
              "#46039f"
             ],
             [
              0.2222222222222222,
              "#7201a8"
             ],
             [
              0.3333333333333333,
              "#9c179e"
             ],
             [
              0.4444444444444444,
              "#bd3786"
             ],
             [
              0.5555555555555556,
              "#d8576b"
             ],
             [
              0.6666666666666666,
              "#ed7953"
             ],
             [
              0.7777777777777778,
              "#fb9f3a"
             ],
             [
              0.8888888888888888,
              "#fdca26"
             ],
             [
              1,
              "#f0f921"
             ]
            ],
            "type": "surface"
           }
          ],
          "table": [
           {
            "cells": {
             "fill": {
              "color": "#EBF0F8"
             },
             "line": {
              "color": "white"
             }
            },
            "header": {
             "fill": {
              "color": "#C8D4E3"
             },
             "line": {
              "color": "white"
             }
            },
            "type": "table"
           }
          ]
         },
         "layout": {
          "annotationdefaults": {
           "arrowcolor": "#2a3f5f",
           "arrowhead": 0,
           "arrowwidth": 1
          },
          "autotypenumbers": "strict",
          "coloraxis": {
           "colorbar": {
            "outlinewidth": 0,
            "ticks": ""
           }
          },
          "colorscale": {
           "diverging": [
            [
             0,
             "#8e0152"
            ],
            [
             0.1,
             "#c51b7d"
            ],
            [
             0.2,
             "#de77ae"
            ],
            [
             0.3,
             "#f1b6da"
            ],
            [
             0.4,
             "#fde0ef"
            ],
            [
             0.5,
             "#f7f7f7"
            ],
            [
             0.6,
             "#e6f5d0"
            ],
            [
             0.7,
             "#b8e186"
            ],
            [
             0.8,
             "#7fbc41"
            ],
            [
             0.9,
             "#4d9221"
            ],
            [
             1,
             "#276419"
            ]
           ],
           "sequential": [
            [
             0,
             "#0d0887"
            ],
            [
             0.1111111111111111,
             "#46039f"
            ],
            [
             0.2222222222222222,
             "#7201a8"
            ],
            [
             0.3333333333333333,
             "#9c179e"
            ],
            [
             0.4444444444444444,
             "#bd3786"
            ],
            [
             0.5555555555555556,
             "#d8576b"
            ],
            [
             0.6666666666666666,
             "#ed7953"
            ],
            [
             0.7777777777777778,
             "#fb9f3a"
            ],
            [
             0.8888888888888888,
             "#fdca26"
            ],
            [
             1,
             "#f0f921"
            ]
           ],
           "sequentialminus": [
            [
             0,
             "#0d0887"
            ],
            [
             0.1111111111111111,
             "#46039f"
            ],
            [
             0.2222222222222222,
             "#7201a8"
            ],
            [
             0.3333333333333333,
             "#9c179e"
            ],
            [
             0.4444444444444444,
             "#bd3786"
            ],
            [
             0.5555555555555556,
             "#d8576b"
            ],
            [
             0.6666666666666666,
             "#ed7953"
            ],
            [
             0.7777777777777778,
             "#fb9f3a"
            ],
            [
             0.8888888888888888,
             "#fdca26"
            ],
            [
             1,
             "#f0f921"
            ]
           ]
          },
          "colorway": [
           "#636efa",
           "#EF553B",
           "#00cc96",
           "#ab63fa",
           "#FFA15A",
           "#19d3f3",
           "#FF6692",
           "#B6E880",
           "#FF97FF",
           "#FECB52"
          ],
          "font": {
           "color": "#2a3f5f"
          },
          "geo": {
           "bgcolor": "white",
           "lakecolor": "white",
           "landcolor": "#E5ECF6",
           "showlakes": true,
           "showland": true,
           "subunitcolor": "white"
          },
          "hoverlabel": {
           "align": "left"
          },
          "hovermode": "closest",
          "mapbox": {
           "style": "light"
          },
          "paper_bgcolor": "white",
          "plot_bgcolor": "#E5ECF6",
          "polar": {
           "angularaxis": {
            "gridcolor": "white",
            "linecolor": "white",
            "ticks": ""
           },
           "bgcolor": "#E5ECF6",
           "radialaxis": {
            "gridcolor": "white",
            "linecolor": "white",
            "ticks": ""
           }
          },
          "scene": {
           "xaxis": {
            "backgroundcolor": "#E5ECF6",
            "gridcolor": "white",
            "gridwidth": 2,
            "linecolor": "white",
            "showbackground": true,
            "ticks": "",
            "zerolinecolor": "white"
           },
           "yaxis": {
            "backgroundcolor": "#E5ECF6",
            "gridcolor": "white",
            "gridwidth": 2,
            "linecolor": "white",
            "showbackground": true,
            "ticks": "",
            "zerolinecolor": "white"
           },
           "zaxis": {
            "backgroundcolor": "#E5ECF6",
            "gridcolor": "white",
            "gridwidth": 2,
            "linecolor": "white",
            "showbackground": true,
            "ticks": "",
            "zerolinecolor": "white"
           }
          },
          "shapedefaults": {
           "line": {
            "color": "#2a3f5f"
           }
          },
          "ternary": {
           "aaxis": {
            "gridcolor": "white",
            "linecolor": "white",
            "ticks": ""
           },
           "baxis": {
            "gridcolor": "white",
            "linecolor": "white",
            "ticks": ""
           },
           "bgcolor": "#E5ECF6",
           "caxis": {
            "gridcolor": "white",
            "linecolor": "white",
            "ticks": ""
           }
          },
          "title": {
           "x": 0.05
          },
          "xaxis": {
           "automargin": true,
           "gridcolor": "white",
           "linecolor": "white",
           "ticks": "",
           "title": {
            "standoff": 15
           },
           "zerolinecolor": "white",
           "zerolinewidth": 2
          },
          "yaxis": {
           "automargin": true,
           "gridcolor": "white",
           "linecolor": "white",
           "ticks": "",
           "title": {
            "standoff": 15
           },
           "zerolinecolor": "white",
           "zerolinewidth": 2
          }
         }
        },
        "title": {
         "text": "Cody Bellinger OPS over time"
        },
        "xaxis": {
         "anchor": "y",
         "domain": [
          0,
          1
         ],
         "title": {
          "text": "G"
         }
        },
        "yaxis": {
         "anchor": "x",
         "domain": [
          0,
          1
         ],
         "nticks": 20,
         "title": {
          "text": "OPS"
         }
        }
       }
      }
     },
     "metadata": {},
     "output_type": "display_data"
    }
   ],
   "source": [
    "player_key = 641355\n",
    "fig = create_figure(player_dfs_2023[player_key], x_column='G', y_column='OPS')\n",
    "fig.add_vline(x=stability_df.loc[player_key]['Game Threshold OPS'], line_dash=\"dot\", line_color=\"black\", annotation_text=f'OPS Stabilized (Est: {round(stability_df.loc[player_key]['OPS Mean'],3)})', annotation_position=\"bottom right\")\n",
    "fig.show()"
   ]
  },
  {
   "cell_type": "code",
   "execution_count": 12,
   "metadata": {},
   "outputs": [
    {
     "data": {
      "application/vnd.plotly.v1+json": {
       "config": {
        "plotlyServerURL": "https://plot.ly"
       },
       "data": [
        {
         "hovertemplate": "x=%{x}<br>y=%{y}<extra></extra>",
         "legendgroup": "",
         "line": {
          "color": "#636efa",
          "dash": "solid"
         },
         "marker": {
          "symbol": "circle"
         },
         "mode": "lines+markers",
         "name": "",
         "orientation": "v",
         "showlegend": false,
         "type": "scatter",
         "x": [
          1,
          2,
          3,
          4,
          5,
          6,
          7,
          8,
          9,
          10,
          11,
          12,
          13,
          14,
          15,
          16,
          17,
          18,
          19,
          20,
          21,
          22,
          23,
          24,
          25,
          26,
          27,
          28,
          29,
          30,
          31,
          32,
          33,
          34,
          35,
          36,
          37,
          38,
          39,
          40,
          41,
          42,
          43,
          44,
          45,
          46,
          47,
          48,
          49,
          50,
          51,
          52,
          53,
          54,
          55,
          56,
          57,
          58,
          59,
          60,
          61,
          62,
          63,
          64,
          65,
          66,
          67,
          68,
          69,
          70,
          71,
          72,
          73,
          74,
          75,
          76,
          77,
          78,
          79,
          80,
          81,
          82,
          83,
          84,
          85,
          86,
          87,
          88,
          89,
          90,
          91,
          92,
          93,
          94,
          95,
          96,
          97,
          98,
          99,
          100,
          101,
          102,
          104,
          105,
          106,
          107,
          108,
          109,
          110,
          111,
          112,
          113,
          114,
          115,
          116,
          117,
          118,
          119,
          120,
          121,
          122,
          123,
          124,
          125,
          126,
          127,
          128,
          129,
          130
         ],
         "xaxis": "x",
         "y": [
          0.25,
          0.375,
          0.3333333333333333,
          0.23529411764705882,
          0.17391304347826086,
          0.19230769230769232,
          0.16666666666666666,
          0.14705882352941177,
          0.15789473684210525,
          0.13953488372093023,
          0.14893617021276595,
          0.1346153846153846,
          0.16071428571428573,
          0.15,
          0.13846153846153847,
          0.14285714285714285,
          0.16,
          0.1518987341772152,
          0.14285714285714285,
          0.14772727272727273,
          0.14130434782608695,
          0.14583333333333334,
          0.16831683168316833,
          0.1619047619047619,
          0.16363636363636364,
          0.15789473684210525,
          0.17796610169491525,
          0.18032786885245902,
          0.19047619047619047,
          0.19230769230769232,
          0.19117647058823528,
          0.19285714285714287,
          0.18620689655172415,
          0.18666666666666668,
          0.1870967741935484,
          0.19375,
          0.1901840490797546,
          0.19161676646706588,
          0.19411764705882353,
          0.20114942528735633,
          0.20670391061452514,
          0.20218579234972678,
          0.20540540540540542,
          0.20212765957446807,
          0.19895287958115182,
          0.2,
          0.20100502512562815,
          0.2019704433497537,
          0.19806763285024154,
          0.1943127962085308,
          0.18981481481481483,
          0.19090909090909092,
          0.18666666666666668,
          0.18340611353711792,
          0.18025751072961374,
          0.17721518987341772,
          0.17427385892116182,
          0.17551020408163265,
          0.17670682730923695,
          0.17716535433070865,
          0.17509727626459143,
          0.17624521072796934,
          0.17669172932330826,
          0.17407407407407408,
          0.17153284671532848,
          0.16906474820143885,
          0.16607773851590105,
          0.1672473867595819,
          0.17123287671232876,
          0.16835016835016836,
          0.16556291390728478,
          0.16339869281045752,
          0.16129032258064516,
          0.1592356687898089,
          0.16037735849056603,
          0.1574074074074074,
          0.15501519756838905,
          0.15615615615615616,
          0.15476190476190477,
          0.15294117647058825,
          0.1511627906976744,
          0.14985590778097982,
          0.15384615384615385,
          0.15774647887323945,
          0.15598885793871867,
          0.15426997245179064,
          0.15258855585831063,
          0.15363881401617252,
          0.15466666666666667,
          0.15526315789473685,
          0.15364583333333334,
          0.1524547803617571,
          0.15306122448979592,
          0.15656565656565657,
          0.155,
          0.15308641975308643,
          0.15158924205378974,
          0.1497584541062802,
          0.15035799522673032,
          0.15130023640661938,
          0.14988290398126464,
          0.1531322505800464,
          0.15227272727272728,
          0.1554054054054054,
          0.15777777777777777,
          0.15638766519823788,
          0.1568627450980392,
          0.15982721382289417,
          0.15845824411134904,
          0.1574468085106383,
          0.15789473684210525,
          0.15866388308977036,
          0.15734989648033126,
          0.15811088295687886,
          0.16056910569105692,
          0.1592741935483871,
          0.1593625498007968,
          0.1600790513833992,
          0.15851272015655576,
          0.15891472868217055,
          0.15738963531669867,
          0.1580952380952381,
          0.15689981096408318,
          0.1575984990619137,
          0.15613382899628253,
          0.15653775322283608,
          0.15722120658135283,
          0.15789473684210525,
          0.1564748201438849
         ],
         "yaxis": "y"
        }
       ],
       "layout": {
        "annotations": [
         {
          "showarrow": false,
          "text": "Min: 0.1346153846153846",
          "x": 1,
          "xanchor": "right",
          "xref": "x domain",
          "y": 0.1346153846153846,
          "yanchor": "top",
          "yref": "y"
         },
         {
          "showarrow": false,
          "text": "Max: 0.375",
          "x": 1,
          "xanchor": "right",
          "xref": "x domain",
          "y": 0.375,
          "yanchor": "bottom",
          "yref": "y"
         },
         {
          "showarrow": false,
          "text": "End of Season Value 0.1564748201438849",
          "x": 119,
          "y": 0.14865107913669065
         },
         {
          "showarrow": false,
          "text": "K% Stabilized (Est: 0.149)",
          "x": 23,
          "xanchor": "left",
          "xref": "x",
          "y": 0,
          "yanchor": "bottom",
          "yref": "y domain"
         }
        ],
        "legend": {
         "tracegroupgap": 0
        },
        "margin": {
         "t": 60
        },
        "shapes": [
         {
          "line": {
           "color": "black",
           "dash": "dot"
          },
          "type": "line",
          "x0": 0,
          "x1": 1,
          "xref": "x domain",
          "y0": 0.1346153846153846,
          "y1": 0.1346153846153846,
          "yref": "y"
         },
         {
          "line": {
           "color": "black",
           "dash": "dot"
          },
          "type": "line",
          "x0": 0,
          "x1": 1,
          "xref": "x domain",
          "y0": 0.375,
          "y1": 0.375,
          "yref": "y"
         },
         {
          "line": {
           "color": "black",
           "dash": "dot"
          },
          "type": "line",
          "x0": 23,
          "x1": 23,
          "xref": "x",
          "y0": 0,
          "y1": 1,
          "yref": "y domain"
         }
        ],
        "template": {
         "data": {
          "bar": [
           {
            "error_x": {
             "color": "#2a3f5f"
            },
            "error_y": {
             "color": "#2a3f5f"
            },
            "marker": {
             "line": {
              "color": "#E5ECF6",
              "width": 0.5
             },
             "pattern": {
              "fillmode": "overlay",
              "size": 10,
              "solidity": 0.2
             }
            },
            "type": "bar"
           }
          ],
          "barpolar": [
           {
            "marker": {
             "line": {
              "color": "#E5ECF6",
              "width": 0.5
             },
             "pattern": {
              "fillmode": "overlay",
              "size": 10,
              "solidity": 0.2
             }
            },
            "type": "barpolar"
           }
          ],
          "carpet": [
           {
            "aaxis": {
             "endlinecolor": "#2a3f5f",
             "gridcolor": "white",
             "linecolor": "white",
             "minorgridcolor": "white",
             "startlinecolor": "#2a3f5f"
            },
            "baxis": {
             "endlinecolor": "#2a3f5f",
             "gridcolor": "white",
             "linecolor": "white",
             "minorgridcolor": "white",
             "startlinecolor": "#2a3f5f"
            },
            "type": "carpet"
           }
          ],
          "choropleth": [
           {
            "colorbar": {
             "outlinewidth": 0,
             "ticks": ""
            },
            "type": "choropleth"
           }
          ],
          "contour": [
           {
            "colorbar": {
             "outlinewidth": 0,
             "ticks": ""
            },
            "colorscale": [
             [
              0,
              "#0d0887"
             ],
             [
              0.1111111111111111,
              "#46039f"
             ],
             [
              0.2222222222222222,
              "#7201a8"
             ],
             [
              0.3333333333333333,
              "#9c179e"
             ],
             [
              0.4444444444444444,
              "#bd3786"
             ],
             [
              0.5555555555555556,
              "#d8576b"
             ],
             [
              0.6666666666666666,
              "#ed7953"
             ],
             [
              0.7777777777777778,
              "#fb9f3a"
             ],
             [
              0.8888888888888888,
              "#fdca26"
             ],
             [
              1,
              "#f0f921"
             ]
            ],
            "type": "contour"
           }
          ],
          "contourcarpet": [
           {
            "colorbar": {
             "outlinewidth": 0,
             "ticks": ""
            },
            "type": "contourcarpet"
           }
          ],
          "heatmap": [
           {
            "colorbar": {
             "outlinewidth": 0,
             "ticks": ""
            },
            "colorscale": [
             [
              0,
              "#0d0887"
             ],
             [
              0.1111111111111111,
              "#46039f"
             ],
             [
              0.2222222222222222,
              "#7201a8"
             ],
             [
              0.3333333333333333,
              "#9c179e"
             ],
             [
              0.4444444444444444,
              "#bd3786"
             ],
             [
              0.5555555555555556,
              "#d8576b"
             ],
             [
              0.6666666666666666,
              "#ed7953"
             ],
             [
              0.7777777777777778,
              "#fb9f3a"
             ],
             [
              0.8888888888888888,
              "#fdca26"
             ],
             [
              1,
              "#f0f921"
             ]
            ],
            "type": "heatmap"
           }
          ],
          "heatmapgl": [
           {
            "colorbar": {
             "outlinewidth": 0,
             "ticks": ""
            },
            "colorscale": [
             [
              0,
              "#0d0887"
             ],
             [
              0.1111111111111111,
              "#46039f"
             ],
             [
              0.2222222222222222,
              "#7201a8"
             ],
             [
              0.3333333333333333,
              "#9c179e"
             ],
             [
              0.4444444444444444,
              "#bd3786"
             ],
             [
              0.5555555555555556,
              "#d8576b"
             ],
             [
              0.6666666666666666,
              "#ed7953"
             ],
             [
              0.7777777777777778,
              "#fb9f3a"
             ],
             [
              0.8888888888888888,
              "#fdca26"
             ],
             [
              1,
              "#f0f921"
             ]
            ],
            "type": "heatmapgl"
           }
          ],
          "histogram": [
           {
            "marker": {
             "pattern": {
              "fillmode": "overlay",
              "size": 10,
              "solidity": 0.2
             }
            },
            "type": "histogram"
           }
          ],
          "histogram2d": [
           {
            "colorbar": {
             "outlinewidth": 0,
             "ticks": ""
            },
            "colorscale": [
             [
              0,
              "#0d0887"
             ],
             [
              0.1111111111111111,
              "#46039f"
             ],
             [
              0.2222222222222222,
              "#7201a8"
             ],
             [
              0.3333333333333333,
              "#9c179e"
             ],
             [
              0.4444444444444444,
              "#bd3786"
             ],
             [
              0.5555555555555556,
              "#d8576b"
             ],
             [
              0.6666666666666666,
              "#ed7953"
             ],
             [
              0.7777777777777778,
              "#fb9f3a"
             ],
             [
              0.8888888888888888,
              "#fdca26"
             ],
             [
              1,
              "#f0f921"
             ]
            ],
            "type": "histogram2d"
           }
          ],
          "histogram2dcontour": [
           {
            "colorbar": {
             "outlinewidth": 0,
             "ticks": ""
            },
            "colorscale": [
             [
              0,
              "#0d0887"
             ],
             [
              0.1111111111111111,
              "#46039f"
             ],
             [
              0.2222222222222222,
              "#7201a8"
             ],
             [
              0.3333333333333333,
              "#9c179e"
             ],
             [
              0.4444444444444444,
              "#bd3786"
             ],
             [
              0.5555555555555556,
              "#d8576b"
             ],
             [
              0.6666666666666666,
              "#ed7953"
             ],
             [
              0.7777777777777778,
              "#fb9f3a"
             ],
             [
              0.8888888888888888,
              "#fdca26"
             ],
             [
              1,
              "#f0f921"
             ]
            ],
            "type": "histogram2dcontour"
           }
          ],
          "mesh3d": [
           {
            "colorbar": {
             "outlinewidth": 0,
             "ticks": ""
            },
            "type": "mesh3d"
           }
          ],
          "parcoords": [
           {
            "line": {
             "colorbar": {
              "outlinewidth": 0,
              "ticks": ""
             }
            },
            "type": "parcoords"
           }
          ],
          "pie": [
           {
            "automargin": true,
            "type": "pie"
           }
          ],
          "scatter": [
           {
            "fillpattern": {
             "fillmode": "overlay",
             "size": 10,
             "solidity": 0.2
            },
            "type": "scatter"
           }
          ],
          "scatter3d": [
           {
            "line": {
             "colorbar": {
              "outlinewidth": 0,
              "ticks": ""
             }
            },
            "marker": {
             "colorbar": {
              "outlinewidth": 0,
              "ticks": ""
             }
            },
            "type": "scatter3d"
           }
          ],
          "scattercarpet": [
           {
            "marker": {
             "colorbar": {
              "outlinewidth": 0,
              "ticks": ""
             }
            },
            "type": "scattercarpet"
           }
          ],
          "scattergeo": [
           {
            "marker": {
             "colorbar": {
              "outlinewidth": 0,
              "ticks": ""
             }
            },
            "type": "scattergeo"
           }
          ],
          "scattergl": [
           {
            "marker": {
             "colorbar": {
              "outlinewidth": 0,
              "ticks": ""
             }
            },
            "type": "scattergl"
           }
          ],
          "scattermapbox": [
           {
            "marker": {
             "colorbar": {
              "outlinewidth": 0,
              "ticks": ""
             }
            },
            "type": "scattermapbox"
           }
          ],
          "scatterpolar": [
           {
            "marker": {
             "colorbar": {
              "outlinewidth": 0,
              "ticks": ""
             }
            },
            "type": "scatterpolar"
           }
          ],
          "scatterpolargl": [
           {
            "marker": {
             "colorbar": {
              "outlinewidth": 0,
              "ticks": ""
             }
            },
            "type": "scatterpolargl"
           }
          ],
          "scatterternary": [
           {
            "marker": {
             "colorbar": {
              "outlinewidth": 0,
              "ticks": ""
             }
            },
            "type": "scatterternary"
           }
          ],
          "surface": [
           {
            "colorbar": {
             "outlinewidth": 0,
             "ticks": ""
            },
            "colorscale": [
             [
              0,
              "#0d0887"
             ],
             [
              0.1111111111111111,
              "#46039f"
             ],
             [
              0.2222222222222222,
              "#7201a8"
             ],
             [
              0.3333333333333333,
              "#9c179e"
             ],
             [
              0.4444444444444444,
              "#bd3786"
             ],
             [
              0.5555555555555556,
              "#d8576b"
             ],
             [
              0.6666666666666666,
              "#ed7953"
             ],
             [
              0.7777777777777778,
              "#fb9f3a"
             ],
             [
              0.8888888888888888,
              "#fdca26"
             ],
             [
              1,
              "#f0f921"
             ]
            ],
            "type": "surface"
           }
          ],
          "table": [
           {
            "cells": {
             "fill": {
              "color": "#EBF0F8"
             },
             "line": {
              "color": "white"
             }
            },
            "header": {
             "fill": {
              "color": "#C8D4E3"
             },
             "line": {
              "color": "white"
             }
            },
            "type": "table"
           }
          ]
         },
         "layout": {
          "annotationdefaults": {
           "arrowcolor": "#2a3f5f",
           "arrowhead": 0,
           "arrowwidth": 1
          },
          "autotypenumbers": "strict",
          "coloraxis": {
           "colorbar": {
            "outlinewidth": 0,
            "ticks": ""
           }
          },
          "colorscale": {
           "diverging": [
            [
             0,
             "#8e0152"
            ],
            [
             0.1,
             "#c51b7d"
            ],
            [
             0.2,
             "#de77ae"
            ],
            [
             0.3,
             "#f1b6da"
            ],
            [
             0.4,
             "#fde0ef"
            ],
            [
             0.5,
             "#f7f7f7"
            ],
            [
             0.6,
             "#e6f5d0"
            ],
            [
             0.7,
             "#b8e186"
            ],
            [
             0.8,
             "#7fbc41"
            ],
            [
             0.9,
             "#4d9221"
            ],
            [
             1,
             "#276419"
            ]
           ],
           "sequential": [
            [
             0,
             "#0d0887"
            ],
            [
             0.1111111111111111,
             "#46039f"
            ],
            [
             0.2222222222222222,
             "#7201a8"
            ],
            [
             0.3333333333333333,
             "#9c179e"
            ],
            [
             0.4444444444444444,
             "#bd3786"
            ],
            [
             0.5555555555555556,
             "#d8576b"
            ],
            [
             0.6666666666666666,
             "#ed7953"
            ],
            [
             0.7777777777777778,
             "#fb9f3a"
            ],
            [
             0.8888888888888888,
             "#fdca26"
            ],
            [
             1,
             "#f0f921"
            ]
           ],
           "sequentialminus": [
            [
             0,
             "#0d0887"
            ],
            [
             0.1111111111111111,
             "#46039f"
            ],
            [
             0.2222222222222222,
             "#7201a8"
            ],
            [
             0.3333333333333333,
             "#9c179e"
            ],
            [
             0.4444444444444444,
             "#bd3786"
            ],
            [
             0.5555555555555556,
             "#d8576b"
            ],
            [
             0.6666666666666666,
             "#ed7953"
            ],
            [
             0.7777777777777778,
             "#fb9f3a"
            ],
            [
             0.8888888888888888,
             "#fdca26"
            ],
            [
             1,
             "#f0f921"
            ]
           ]
          },
          "colorway": [
           "#636efa",
           "#EF553B",
           "#00cc96",
           "#ab63fa",
           "#FFA15A",
           "#19d3f3",
           "#FF6692",
           "#B6E880",
           "#FF97FF",
           "#FECB52"
          ],
          "font": {
           "color": "#2a3f5f"
          },
          "geo": {
           "bgcolor": "white",
           "lakecolor": "white",
           "landcolor": "#E5ECF6",
           "showlakes": true,
           "showland": true,
           "subunitcolor": "white"
          },
          "hoverlabel": {
           "align": "left"
          },
          "hovermode": "closest",
          "mapbox": {
           "style": "light"
          },
          "paper_bgcolor": "white",
          "plot_bgcolor": "#E5ECF6",
          "polar": {
           "angularaxis": {
            "gridcolor": "white",
            "linecolor": "white",
            "ticks": ""
           },
           "bgcolor": "#E5ECF6",
           "radialaxis": {
            "gridcolor": "white",
            "linecolor": "white",
            "ticks": ""
           }
          },
          "scene": {
           "xaxis": {
            "backgroundcolor": "#E5ECF6",
            "gridcolor": "white",
            "gridwidth": 2,
            "linecolor": "white",
            "showbackground": true,
            "ticks": "",
            "zerolinecolor": "white"
           },
           "yaxis": {
            "backgroundcolor": "#E5ECF6",
            "gridcolor": "white",
            "gridwidth": 2,
            "linecolor": "white",
            "showbackground": true,
            "ticks": "",
            "zerolinecolor": "white"
           },
           "zaxis": {
            "backgroundcolor": "#E5ECF6",
            "gridcolor": "white",
            "gridwidth": 2,
            "linecolor": "white",
            "showbackground": true,
            "ticks": "",
            "zerolinecolor": "white"
           }
          },
          "shapedefaults": {
           "line": {
            "color": "#2a3f5f"
           }
          },
          "ternary": {
           "aaxis": {
            "gridcolor": "white",
            "linecolor": "white",
            "ticks": ""
           },
           "baxis": {
            "gridcolor": "white",
            "linecolor": "white",
            "ticks": ""
           },
           "bgcolor": "#E5ECF6",
           "caxis": {
            "gridcolor": "white",
            "linecolor": "white",
            "ticks": ""
           }
          },
          "title": {
           "x": 0.05
          },
          "xaxis": {
           "automargin": true,
           "gridcolor": "white",
           "linecolor": "white",
           "ticks": "",
           "title": {
            "standoff": 15
           },
           "zerolinecolor": "white",
           "zerolinewidth": 2
          },
          "yaxis": {
           "automargin": true,
           "gridcolor": "white",
           "linecolor": "white",
           "ticks": "",
           "title": {
            "standoff": 15
           },
           "zerolinecolor": "white",
           "zerolinewidth": 2
          }
         }
        },
        "title": {
         "text": "Cody Bellinger K% over time"
        },
        "xaxis": {
         "anchor": "y",
         "domain": [
          0,
          1
         ],
         "title": {
          "text": "G"
         }
        },
        "yaxis": {
         "anchor": "x",
         "domain": [
          0,
          1
         ],
         "nticks": 20,
         "title": {
          "text": "K%"
         }
        }
       }
      }
     },
     "metadata": {},
     "output_type": "display_data"
    }
   ],
   "source": [
    "fig = create_figure(player_dfs_2023[player_key], x_column='G', y_column='K%')\n",
    "fig.add_vline(x=stability_df.loc[player_key]['Game Threshold K%'], line_dash=\"dot\", line_color=\"black\", annotation_text=f'K% Stabilized (Est: {round(stability_df.loc[player_key]['K% Mean'],3)})', annotation_position=\"bottom right\")\n",
    "fig.show()"
   ]
  },
  {
   "cell_type": "code",
   "execution_count": 13,
   "metadata": {},
   "outputs": [
    {
     "data": {
      "image/png": "[encoded data removed]",
      "text/plain": [
       "<Figure size 1000x600 with 1 Axes>"
      ]
     },
     "metadata": {},
     "output_type": "display_data"
    }
   ],
   "source": [
    "# Plot distribution of OPS for all players in player_dfs_2023\n",
    "sns.set(style=\"whitegrid\")\n",
    "\n",
    "ops = [df['OPS'].iloc[-1] for df in player_dfs_2023.values()]\n",
    "plt.figure(figsize=(10,6))\n",
    "sns.histplot(ops, kde=True, bins=100, color='blue')\n",
    "plt.title('Distribution of OPS at end of season 2023')\n",
    "plt.xlabel('OPS')\n",
    "plt.show()\n"
   ]
  },
  {
   "cell_type": "code",
   "execution_count": null,
   "metadata": {},
   "outputs": [],
   "source": []
  }
 ],
 "metadata": {
  "kernelspec": {
   "display_name": "statstability",
   "language": "python",
   "name": "python3"
  },
  "language_info": {
   "codemirror_mode": {
    "name": "ipython",
    "version": 3
   },
   "file_extension": ".py",
   "mimetype": "text/x-python",
   "name": "python",
   "nbconvert_exporter": "python",
   "pygments_lexer": "ipython3",
   "version": "3.12.1"
  }
 },
 "nbformat": 4,
 "nbformat_minor": 2
}
