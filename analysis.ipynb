{
 "cells": [
  {
   "cell_type": "code",
   "execution_count": 43,
   "metadata": {},
   "outputs": [],
   "source": [
    "import pickle\n",
    "import plotly.express as px\n",
    "from plotly.graph_objs import Figure\n",
    "import pandas as pd\n",
    "import numpy as np\n",
    "import matplotlib.pyplot as plt\n",
    "import seaborn as sns"
   ]
  },
  {
   "cell_type": "markdown",
   "metadata": {},
   "source": [
    "# Utility Functions"
   ]
  },
  {
   "cell_type": "code",
   "execution_count": 44,
   "metadata": {},
   "outputs": [],
   "source": [
    "def create_figure(df, x_column, y_column) -> Figure:\n",
    "    x_data = df[x_column]\n",
    "    y_data = df[y_column]\n",
    "\n",
    "    min_value = y_data.min()\n",
    "    max_value = y_data.max()\n",
    "    season_value = y_data.iloc[-1]\n",
    "    \n",
    "    fig = px.line(x=x_data, y=y_data, markers=True)\n",
    "    fig.update_layout(\n",
    "        xaxis_title=x_column,\n",
    "        yaxis_title=y_column,\n",
    "        title=f'{df['Name'].iloc[0]} {y_column} over time'\n",
    "    )\n",
    "    fig.add_hline(y=min_value, line_dash=\"dot\", line_color=\"black\", annotation_text=f'Min: {min_value}', annotation_position=\"bottom right\")\n",
    "    fig.add_hline(y=max_value, line_dash=\"dot\", line_color=\"black\", annotation_text=f'Max: {max_value}', annotation_position=\"top right\")\n",
    "    \n",
    "    fig.add_annotation(text=f\"End of Season Value {season_value}\", x=x_data.iloc[-12], y=season_value-season_value*0.05, showarrow=False)\n",
    "    \n",
    "    fig.update_yaxes(nticks=20)\n",
    "    return fig"
   ]
  },
  {
   "cell_type": "code",
   "execution_count": 74,
   "metadata": {},
   "outputs": [],
   "source": [
    "import plotly.graph_objects as go\n",
    "\n",
    "\n",
    "def create_stability_animation(df, x_column, y_column, thresholds, log):\n",
    "    x_data = list(df[x_column])\n",
    "    y_data = list(df[y_column])\n",
    "    x_axis = [x_data[0], x_data[-1]]\n",
    "    y_axis = [min(y_data)-0.05*max(y_data), max(y_data)+0.05*max(y_data)]\n",
    "\n",
    "    for i, (x_val, y_val) in enumerate(zip(x_data, y_data)):\n",
    "\n",
    "        fig = go.Figure()\n",
    "        fig.update_layout(\n",
    "            title=f'{df[\"Name\"].iloc[0]} {y_column} over time',\n",
    "            xaxis_title=x_column,\n",
    "            yaxis_title=y_column,\n",
    "            xaxis_range=x_axis,\n",
    "            yaxis_range=y_axis\n",
    "        )\n",
    "        if i < len(log):\n",
    "            fig.add_annotation(text=f\"Game: {log[i]['Game']}<br>Mean: {round(log[i]['Window Mean'],3)}<br>Std Dev: {round(log[i]['Window Std'],3)}\", x=x_val, y=0.5, showarrow=False, align=\"left\", xanchor=\"left\")\n",
    "            fig.add_annotation(text=f\"Std Dev ROC: {round(log[i]['Std ROC'],3)}\", x=x_val, y=0.1, showarrow=False, align=\"left\", xanchor=\"left\")\n",
    "            shape_x_ref = x_val\n",
    "            line_thickness = 2\n",
    "            line_dash = \"dot\"\n",
    "            line_color = \"red\"\n",
    "        else:\n",
    "            fig.add_annotation(text=f\"<b>Game: {log[-1]['Game']}<br>Mean: {round(log[-1]['Window Mean'],3)}<br>Std Dev: {round(log[-1]['Window Std'],3)}</b>\", x=x_data[len(log)], y=0.5, showarrow=False, align=\"left\", xanchor=\"left\")\n",
    "            fig.add_annotation(text=f\"<b>Std Dev ROC: {round(log[-1]['Std ROC'])}</b>\", x=x_data[len(log)], y=0.1, showarrow=False, align=\"left\", xanchor=\"left\")\n",
    "            shape_x_ref = x_data[len(log)]\n",
    "            line_thickness = 4\n",
    "            line_dash = \"solid\"\n",
    "            line_color = \"green\"\n",
    "            fig.add_shape(type=\"line\",\n",
    "                            x0=shape_x_ref, y0=log[-1]['Window Mean'], x1=x_data[-1], y1=log[-1]['Window Mean'],  # Start and end points of the line\n",
    "                            line=dict(color=\"black\", width=1, dash='dot')  # Line style\n",
    "                         )\n",
    "        fig.add_trace(go.Scatter(x=x_data[:i+1], y=y_data[:i+1], mode='lines+markers',\n",
    "                                 line=dict(width=2), marker=dict(size=5)))\n",
    "        fig.add_trace(go.Scatter(x=[x_val], y=[y_val], mode='markers', marker=dict(color='red', size=5)))\n",
    "        fig.add_shape(type='rect',\n",
    "                      x0=shape_x_ref-thresholds['window']['size'], y0=0, x1=shape_x_ref, y1=1,\n",
    "                      xref='x', yref='paper', line=dict(color='red', width=0), fillcolor='red', opacity=0.2)\n",
    "        \n",
    "        fig.add_vline(x=shape_x_ref, line_dash=line_dash, line_color=line_color, line_width=line_thickness)\n",
    "        fig.add_vline(x=shape_x_ref-thresholds['window']['size'], line_dash=\"dot\", line_color=\"red\")\n",
    "\n",
    "        fig.add_shape(type='rect',\n",
    "                    x0=shape_x_ref-thresholds['window']['size']-thresholds['window']['lag'], y0=0, x1=shape_x_ref-thresholds['window']['lag'], y1=1,\n",
    "                    xref='x', yref='paper', line=dict(color='red', width=0), fillcolor='blue', opacity=0.2)\n",
    "        fig.add_vline(x=shape_x_ref-thresholds['window']['lag'], line_dash=\"dot\", line_color=\"blue\")\n",
    "        fig.add_vline(x=shape_x_ref-thresholds['window']['lag']-thresholds['window']['size'], line_dash=\"dot\", line_color=\"blue\")\n",
    "        \n",
    "        fig.write_image(f'./images/{i}.png')\n",
    "\n",
    "    return"
   ]
  },
  {
   "cell_type": "code",
   "execution_count": 46,
   "metadata": {},
   "outputs": [],
   "source": [
    "def compute_league_variance(dfs:dict):\n",
    "    \"\"\"\n",
    "    Compute the season stat variance of each stat across the league \n",
    "    \"\"\"\n",
    "    stat_columns = ['BA','OBP','SLG','OPS','wOBA','K%','BB%','ISO','wRC+']\n",
    "    player_values = {}\n",
    "    for key, df in dfs.items():\n",
    "        player_values[key] = df[stat_columns].iloc[-1].to_dict()\n",
    "    \n",
    "    return pd.DataFrame(player_values).T"
   ]
  },
  {
   "cell_type": "markdown",
   "metadata": {},
   "source": [
    "# Stability Algorithms"
   ]
  },
  {
   "cell_type": "code",
   "execution_count": 47,
   "metadata": {},
   "outputs": [],
   "source": [
    "def sliding_window_stability(dfs:dict, stat:str, thresholds:dict, player='all', log_stat='OPS') -> dict:\n",
    "    \"\"\"\n",
    "    Works by computing the standard deviation for a given stat over a sliding window of games\n",
    "    so that we can see how a player's performance stabilizes over time\n",
    "    \"\"\"\n",
    "    window_size = thresholds['window']['size'] # games\n",
    "    window_lag = thresholds['window']['lag'] # games\n",
    "    lagged_std = 0\n",
    "    log = []\n",
    "    log_flag = False\n",
    "    stability_columns = [f'Season {stat}', f'Game Threshold {stat}', f'{stat} Mean', f'{stat} Std']\n",
    "    stability = pd.DataFrame(index=dfs.keys(), columns=stability_columns, dtype=float).fillna(-1)\n",
    "\n",
    "    for player_id, df in dfs.items():\n",
    "        i = 0\n",
    "        stability.at[player_id,f'Season {stat}'] = df[stat].iloc[-1]\n",
    "        stability.at[player_id,f'Game Threshold {stat}'] = df['G'].iloc[-1]\n",
    "        stability.at[player_id,f'{stat} Mean'] = -1\n",
    "        stability.at[player_id,f'{stat} Std'] = -1\n",
    "\n",
    "        while i+window_size < len(df):\n",
    "            window_stats = df.iloc[i:i+window_size][stat]\n",
    "            window_std = window_stats.std()\n",
    "            window_mean = window_stats.mean()\n",
    "            mean_diff = abs(window_mean - stability.at[player_id,f'Season {stat}']) / stability.at[player_id,f'Season {stat}'] # % difference\n",
    "            window_std_roc = abs(window_std - lagged_std)\n",
    "\n",
    "            if player_id == player and stat == log_stat:\n",
    "                log.append({\n",
    "                    'Game': i+window_size,\n",
    "                    'Window Mean': window_mean,\n",
    "                    'Window Std': window_std,\n",
    "                    'Mean Diff': mean_diff,\n",
    "                    'Std ROC': window_std_roc\n",
    "                })\n",
    "                log_flag = True\n",
    "\n",
    "            if window_std < thresholds[stat]['std'] and mean_diff < thresholds[stat]['mean'] and window_std_roc < thresholds[stat]['std_roc']:\n",
    "                stability.at[player_id, f'Game Threshold {stat}'] = i+window_size\n",
    "                stability.at[player_id, f'{stat} Mean'] = window_mean\n",
    "                stability.at[player_id, f'{stat} Std'] = window_std\n",
    "                break\n",
    "            i+=1\n",
    "            # if i-window_lag > 0:\n",
    "            lagged_window = df.iloc[i-window_lag:i-window_lag+window_size][stat]\n",
    "            lagged_std = lagged_window.std()\n",
    "    if log_flag:\n",
    "        return stability, log\n",
    "    else:\n",
    "        return stability\n"
   ]
  },
  {
   "cell_type": "markdown",
   "metadata": {},
   "source": [
    "The above code computes stability off of when at a certain point a window gets below a standard deviation threshhold and a difference between the current value and the season mean. I worry that this is not a comprehensive way to measure stability since you could essentially get lucky by finding a temporarily stable period of time that is relatively close to the player's season value. \n",
    "\n",
    "Ideas to get around this:\n",
    "* After you find the first window match (let's say at 65 games), compute how many \"false\" windows follow it (how many don't satisfy the threshold criteria). If the number of false windows is below another threshold, then keep the first window match, else move to the next one\n",
    "* Create a measure of the std deviation rate of change - negative values means the value is getting more stable, then as it approaches 0 it's getting as stable as it will get\n",
    "\n",
    "Will start by implementing the second option"
   ]
  },
  {
   "cell_type": "markdown",
   "metadata": {},
   "source": [
    "# Analysis"
   ]
  },
  {
   "cell_type": "code",
   "execution_count": 48,
   "metadata": {},
   "outputs": [
    {
     "data": {
      "text/plain": [
       "dict_keys([682928, 547989, 660670, 642715, 645277, 624413, 641313, 606115, 571448, 668227, 650333, 595879, 605137, 641355, 643217, 605141, 666182, 593428, 664761, 608324, 600869, 592192, 682998, 592206, 656305, 661388, 621043, 641487, 630105, 605204, 650559, 646240, 553869, 650490, 592273, 669242, 642731, 664034, 518692, 670770, 666969, 665926, 502671, 663757, 665489, 666971, 664023, 671739, 663647, 669720, 683002, 571771, 606192, 663538, 663697, 673962, 673490, 680757, 518934, 596019, 663993, 592518, 606466, 656716, 641857, 643446, 669004, 608841, 593160, 571970, 607043, 663457, 660271, 621566, 681546, 542303, 670623, 665161, 521692, 663728, 608070, 592663, 592669, 668804, 663586, 673357, 677594, 667670, 642708, 660688, 668939, 467793, 623993, 656941, 608369, 543760, 642086, 669257, 624585, 665742, 543807, 668715, 663886, 681082, 664702, 553993, 669261, 621020, 657041, 679529, 650402, 678662, 663656, 457759, 607208, 662139, 683734, 657077, 663837, 683011, 664774, 572233, 677951, 592885, 807799, 592696, 595777, 669394, 665750, 673548, 665487, 672580, 547180])"
      ]
     },
     "execution_count": 48,
     "metadata": {},
     "output_type": "execute_result"
    }
   ],
   "source": [
    "player_dfs_2023 = pickle.load(open('2023_player_dfs.pkl', 'rb'))\n",
    "player_dfs_2023.keys()"
   ]
  },
  {
   "cell_type": "code",
   "execution_count": 49,
   "metadata": {},
   "outputs": [
    {
     "data": {
      "text/html": [
       "<div>\n",
       "<style scoped>\n",
       "    .dataframe tbody tr th:only-of-type {\n",
       "        vertical-align: middle;\n",
       "    }\n",
       "\n",
       "    .dataframe tbody tr th {\n",
       "        vertical-align: top;\n",
       "    }\n",
       "\n",
       "    .dataframe thead th {\n",
       "        text-align: right;\n",
       "    }\n",
       "</style>\n",
       "<table border=\"1\" class=\"dataframe\">\n",
       "  <thead>\n",
       "    <tr style=\"text-align: right;\">\n",
       "      <th></th>\n",
       "      <th>BA</th>\n",
       "      <th>OBP</th>\n",
       "      <th>SLG</th>\n",
       "      <th>OPS</th>\n",
       "      <th>wOBA</th>\n",
       "      <th>K%</th>\n",
       "      <th>BB%</th>\n",
       "      <th>ISO</th>\n",
       "      <th>wRC+</th>\n",
       "    </tr>\n",
       "  </thead>\n",
       "  <tbody>\n",
       "    <tr>\n",
       "      <th>count</th>\n",
       "      <td>133.000000</td>\n",
       "      <td>133.000000</td>\n",
       "      <td>133.000000</td>\n",
       "      <td>133.000000</td>\n",
       "      <td>133.000000</td>\n",
       "      <td>133.000000</td>\n",
       "      <td>133.000000</td>\n",
       "      <td>133.000000</td>\n",
       "      <td>133.000000</td>\n",
       "    </tr>\n",
       "    <tr>\n",
       "      <th>mean</th>\n",
       "      <td>0.261774</td>\n",
       "      <td>0.334398</td>\n",
       "      <td>0.444383</td>\n",
       "      <td>0.778714</td>\n",
       "      <td>0.417922</td>\n",
       "      <td>0.207879</td>\n",
       "      <td>0.089364</td>\n",
       "      <td>0.182616</td>\n",
       "      <td>17.833764</td>\n",
       "    </tr>\n",
       "    <tr>\n",
       "      <th>std</th>\n",
       "      <td>0.025463</td>\n",
       "      <td>0.029555</td>\n",
       "      <td>0.060298</td>\n",
       "      <td>0.081808</td>\n",
       "      <td>0.044471</td>\n",
       "      <td>0.052094</td>\n",
       "      <td>0.029938</td>\n",
       "      <td>0.050986</td>\n",
       "      <td>3.557708</td>\n",
       "    </tr>\n",
       "    <tr>\n",
       "      <th>min</th>\n",
       "      <td>0.197000</td>\n",
       "      <td>0.267000</td>\n",
       "      <td>0.296000</td>\n",
       "      <td>0.582000</td>\n",
       "      <td>0.297691</td>\n",
       "      <td>0.055105</td>\n",
       "      <td>0.032759</td>\n",
       "      <td>0.050710</td>\n",
       "      <td>8.215267</td>\n",
       "    </tr>\n",
       "    <tr>\n",
       "      <th>25%</th>\n",
       "      <td>0.248000</td>\n",
       "      <td>0.315000</td>\n",
       "      <td>0.407000</td>\n",
       "      <td>0.717000</td>\n",
       "      <td>0.386575</td>\n",
       "      <td>0.170608</td>\n",
       "      <td>0.065123</td>\n",
       "      <td>0.153518</td>\n",
       "      <td>15.326027</td>\n",
       "    </tr>\n",
       "    <tr>\n",
       "      <th>50%</th>\n",
       "      <td>0.262000</td>\n",
       "      <td>0.328000</td>\n",
       "      <td>0.441000</td>\n",
       "      <td>0.778000</td>\n",
       "      <td>0.417373</td>\n",
       "      <td>0.209756</td>\n",
       "      <td>0.088123</td>\n",
       "      <td>0.178752</td>\n",
       "      <td>17.789855</td>\n",
       "    </tr>\n",
       "    <tr>\n",
       "      <th>75%</th>\n",
       "      <td>0.275000</td>\n",
       "      <td>0.352000</td>\n",
       "      <td>0.475000</td>\n",
       "      <td>0.818000</td>\n",
       "      <td>0.441756</td>\n",
       "      <td>0.238532</td>\n",
       "      <td>0.105008</td>\n",
       "      <td>0.209480</td>\n",
       "      <td>19.740458</td>\n",
       "    </tr>\n",
       "    <tr>\n",
       "      <th>max</th>\n",
       "      <td>0.354000</td>\n",
       "      <td>0.416000</td>\n",
       "      <td>0.654000</td>\n",
       "      <td>1.066000</td>\n",
       "      <td>0.559221</td>\n",
       "      <td>0.326996</td>\n",
       "      <td>0.186441</td>\n",
       "      <td>0.350101</td>\n",
       "      <td>29.137716</td>\n",
       "    </tr>\n",
       "  </tbody>\n",
       "</table>\n",
       "</div>"
      ],
      "text/plain": [
       "               BA         OBP         SLG         OPS        wOBA          K%  \\\n",
       "count  133.000000  133.000000  133.000000  133.000000  133.000000  133.000000   \n",
       "mean     0.261774    0.334398    0.444383    0.778714    0.417922    0.207879   \n",
       "std      0.025463    0.029555    0.060298    0.081808    0.044471    0.052094   \n",
       "min      0.197000    0.267000    0.296000    0.582000    0.297691    0.055105   \n",
       "25%      0.248000    0.315000    0.407000    0.717000    0.386575    0.170608   \n",
       "50%      0.262000    0.328000    0.441000    0.778000    0.417373    0.209756   \n",
       "75%      0.275000    0.352000    0.475000    0.818000    0.441756    0.238532   \n",
       "max      0.354000    0.416000    0.654000    1.066000    0.559221    0.326996   \n",
       "\n",
       "              BB%         ISO        wRC+  \n",
       "count  133.000000  133.000000  133.000000  \n",
       "mean     0.089364    0.182616   17.833764  \n",
       "std      0.029938    0.050986    3.557708  \n",
       "min      0.032759    0.050710    8.215267  \n",
       "25%      0.065123    0.153518   15.326027  \n",
       "50%      0.088123    0.178752   17.789855  \n",
       "75%      0.105008    0.209480   19.740458  \n",
       "max      0.186441    0.350101   29.137716  "
      ]
     },
     "execution_count": 49,
     "metadata": {},
     "output_type": "execute_result"
    }
   ],
   "source": [
    "df = compute_league_variance(player_dfs_2023)\n",
    "df.describe()"
   ]
  },
  {
   "cell_type": "code",
   "execution_count": 50,
   "metadata": {},
   "outputs": [],
   "source": [
    "# Thresholds set by global accuracy threshold to final season value\n",
    "thresholds = {\n",
    "    'window':{\n",
    "        'size': 10,\n",
    "        'lag': 5\n",
    "    },\n",
    "    'BA': {\n",
    "        'std': 0.015,\n",
    "        'std_roc': 0.002,\n",
    "        'mean': 0.05\n",
    "    },\n",
    "    'OBP': {\n",
    "        'std': 0.02,\n",
    "        'std_roc': 0.003,\n",
    "        'mean': 0.05\n",
    "    },\n",
    "    'SLG': {\n",
    "        'std': 0.04,\n",
    "        'std_roc': 0.006,\n",
    "        'mean': 0.05\n",
    "    },\n",
    "    'OPS': {\n",
    "        'std': 0.05,\n",
    "        'std_roc': 0.008,\n",
    "        'mean': 0.05\n",
    "    },\n",
    "    'wOBA': {\n",
    "        'std': 0.03,\n",
    "        'std_roc': 0.006,\n",
    "        'mean': 0.05\n",
    "    },\n",
    "    'K%': {\n",
    "        'std': 0.03,\n",
    "        'std_roc': 0.002,\n",
    "        'mean': 0.05\n",
    "    },\n",
    "    'BB%': {\n",
    "        'std': 0.03,\n",
    "        'std_roc': 0.002,\n",
    "        'mean': 0.1 \n",
    "    },\n",
    "    'ISO': {\n",
    "        'std': 0.03,\n",
    "        'std_roc': 0.002,\n",
    "        'mean': 0.15\n",
    "    },\n",
    "    'wRC+': {\n",
    "        'std': 1.5,\n",
    "        'std_roc': 0.15,\n",
    "        'mean': 0.05\n",
    "    }\n",
    "}"
   ]
  },
  {
   "cell_type": "code",
   "execution_count": 52,
   "metadata": {},
   "outputs": [
    {
     "name": "stdout",
     "output_type": "stream",
     "text": [
      "Computing stability for BA\n",
      "Computing stability for OBP\n",
      "Computing stability for SLG\n",
      "Computing stability for OPS\n",
      "Computing stability for wOBA\n",
      "Computing stability for K%\n",
      "Computing stability for BB%\n",
      "Computing stability for ISO\n",
      "Computing stability for wRC+\n"
     ]
    }
   ],
   "source": [
    "player_key = 641355\n",
    "stability_df = pd.DataFrame()\n",
    "stat_columns = ['BA','OBP','SLG','OPS','wOBA','K%','BB%','ISO','wRC+']\n",
    "for stat in stat_columns:\n",
    "    print(f\"Computing stability for {stat}\")\n",
    "    if stat == 'OPS':\n",
    "        stability, log = sliding_window_stability(player_dfs_2023, stat, thresholds, player=player_key, log_stat='OPS')\n",
    "    else:\n",
    "        stability = sliding_window_stability(player_dfs_2023, stat, thresholds)\n",
    "    stability_df = pd.concat([stability_df, stability], axis=1)"
   ]
  },
  {
   "cell_type": "code",
   "execution_count": 53,
   "metadata": {},
   "outputs": [
    {
     "data": {
      "text/plain": [
       "[{'Game': 10,\n",
       "  'Window Mean': 0.44489999999999996,\n",
       "  'Window Std': 0.21439913453390821,\n",
       "  'Mean Diff': 0.495005675368899,\n",
       "  'Std ROC': 0.20314648052597653},\n",
       " {'Game': 11,\n",
       "  'Window Mean': 0.4902,\n",
       "  'Window Std': 0.21649008188726696,\n",
       "  'Mean Diff': 0.44358683314415437,\n",
       "  'Std ROC': nan},\n",
       " {'Game': 12,\n",
       "  'Window Mean': 0.5498000000000001,\n",
       "  'Window Std': 0.1844474029213869,\n",
       "  'Mean Diff': 0.37593643586833136,\n",
       "  'Std ROC': nan},\n",
       " {'Game': 13,\n",
       "  'Window Mean': 0.6144999999999999,\n",
       "  'Window Std': 0.0936284026232306,\n",
       "  'Mean Diff': 0.30249716231555057,\n",
       "  'Std ROC': nan},\n",
       " {'Game': 14,\n",
       "  'Window Mean': 0.6472,\n",
       "  'Window Std': 0.0836471424762642,\n",
       "  'Mean Diff': 0.2653802497162316,\n",
       "  'Std ROC': nan},\n",
       " {'Game': 15,\n",
       "  'Window Mean': 0.6704,\n",
       "  'Window Std': 0.11282651382641502,\n",
       "  'Mean Diff': 0.23904653802497164,\n",
       "  'Std ROC': 0.10157262070749319},\n",
       " {'Game': 16,\n",
       "  'Window Mean': 0.6897,\n",
       "  'Window Std': 0.12584562853838913,\n",
       "  'Mean Diff': 0.2171396140749149,\n",
       "  'Std ROC': 0.09064445334887783},\n",
       " {'Game': 17,\n",
       "  'Window Mean': 0.7143,\n",
       "  'Window Std': 0.12232111655620037,\n",
       "  'Mean Diff': 0.18921679909194092,\n",
       "  'Std ROC': 0.06212628636518652},\n",
       " {'Game': 18,\n",
       "  'Window Mean': 0.7485999999999999,\n",
       "  'Window Std': 0.11294167619715152,\n",
       "  'Mean Diff': 0.150283768444949,\n",
       "  'Std ROC': 0.019313273573920917},\n",
       " {'Game': 19,\n",
       "  'Window Mean': 0.7871999999999999,\n",
       "  'Window Std': 0.10592638953537498,\n",
       "  'Mean Diff': 0.10646992054483553,\n",
       "  'Std ROC': 0.022279247059110774},\n",
       " {'Game': 20,\n",
       "  'Window Mean': 0.82,\n",
       "  'Window Std': 0.08594442648854227,\n",
       "  'Mean Diff': 0.06923950056753696,\n",
       "  'Std ROC': 0.026882087337872757},\n",
       " {'Game': 21,\n",
       "  'Window Mean': 0.8427,\n",
       "  'Window Std': 0.08146989900843407,\n",
       "  'Mean Diff': 0.043473325766174804,\n",
       "  'Std ROC': 0.044375729529955055},\n",
       " {'Game': 22,\n",
       "  'Window Mean': 0.8641,\n",
       "  'Window Std': 0.07368468859494036,\n",
       "  'Mean Diff': 0.019182746878547135,\n",
       "  'Std ROC': 0.04863642796126001},\n",
       " {'Game': 23,\n",
       "  'Window Mean': 0.8866999999999999,\n",
       "  'Window Std': 0.061662252094237785,\n",
       "  'Mean Diff': 0.006469920544835332,\n",
       "  'Std ROC': 0.05127942410291374},\n",
       " {'Game': 24,\n",
       "  'Window Mean': 0.9073,\n",
       "  'Window Std': 0.05199583316638619,\n",
       "  'Mean Diff': 0.02985244040862655,\n",
       "  'Std ROC': 0.05393055636898879},\n",
       " {'Game': 25,\n",
       "  'Window Mean': 0.9149,\n",
       "  'Window Std': 0.054050285228972955,\n",
       "  'Mean Diff': 0.038479001135073826,\n",
       "  'Std ROC': 0.03189414125956931},\n",
       " {'Game': 26,\n",
       "  'Window Mean': 0.9273000000000001,\n",
       "  'Window Std': 0.05141130442054762,\n",
       "  'Mean Diff': 0.05255391600454043,\n",
       "  'Std ROC': 0.03005859458788645},\n",
       " {'Game': 27,\n",
       "  'Window Mean': 0.9400999999999999,\n",
       "  'Window Std': 0.030274485040119894,\n",
       "  'Mean Diff': 0.06708286038592501,\n",
       "  'Std ROC': 0.04341020355482046},\n",
       " {'Game': 28,\n",
       "  'Window Mean': 0.9465999999999999,\n",
       "  'Window Std': 0.019602720899575796,\n",
       "  'Mean Diff': 0.07446083995459692,\n",
       "  'Std ROC': 0.04205953119466199},\n",
       " {'Game': 29,\n",
       "  'Window Mean': 0.9456,\n",
       "  'Window Std': 0.02005658661554018,\n",
       "  'Mean Diff': 0.07332576617480135,\n",
       "  'Std ROC': 0.03193924655084601},\n",
       " {'Game': 30,\n",
       "  'Window Mean': 0.9468,\n",
       "  'Window Std': 0.01830482632167444,\n",
       "  'Mean Diff': 0.07468785471055615,\n",
       "  'Std ROC': 0.035745458907298515},\n",
       " {'Game': 31,\n",
       "  'Window Mean': 0.9471999999999999,\n",
       "  'Window Std': 0.017936926529741156,\n",
       "  'Mean Diff': 0.07514188422247438,\n",
       "  'Std ROC': 0.03347437789080647},\n",
       " {'Game': 32,\n",
       "  'Window Mean': 0.9457999999999999,\n",
       "  'Window Std': 0.01947534053332284,\n",
       "  'Mean Diff': 0.07355278093076034,\n",
       "  'Std ROC': 0.010799144506797052},\n",
       " {'Game': 33,\n",
       "  'Window Mean': 0.9410999999999999,\n",
       "  'Window Std': 0.02221836077561876,\n",
       "  'Mean Diff': 0.0682179341657207,\n",
       "  'Std ROC': 0.0026156398760429633},\n",
       " {'Game': 34,\n",
       "  'Window Mean': 0.9325000000000001,\n",
       "  'Window Std': 0.023796591726080795,\n",
       "  'Mean Diff': 0.05845629965947798,\n",
       "  'Std ROC': 0.003740005110540616},\n",
       " {'Game': 35,\n",
       "  'Window Mean': 0.9226000000000001,\n",
       "  'Window Std': 0.0299562644162749,\n",
       "  'Mean Diff': 0.04721906923950066,\n",
       "  'Std ROC': 0.01165143809460046},\n",
       " {'Game': 36,\n",
       "  'Window Mean': 0.9087,\n",
       "  'Window Std': 0.03567460970743449,\n",
       "  'Mean Diff': 0.03144154370034046,\n",
       "  'Std ROC': 0.017737683177693333},\n",
       " {'Game': 37,\n",
       "  'Window Mean': 0.8981,\n",
       "  'Window Std': 0.041589127852788135,\n",
       "  'Mean Diff': 0.019409761634506247,\n",
       "  'Std ROC': 0.022113787319465294},\n",
       " {'Game': 38,\n",
       "  'Window Mean': 0.8879999999999999,\n",
       "  'Window Std': 0.04279927309870789,\n",
       "  'Mean Diff': 0.007945516458569689,\n",
       "  'Std ROC': 0.020580912323089128},\n",
       " {'Game': 39,\n",
       "  'Window Mean': 0.8769,\n",
       "  'Window Std': 0.04420268971202749,\n",
       "  'Mean Diff': 0.004653802497162307,\n",
       "  'Std ROC': 0.020406097985946694},\n",
       " {'Game': 40,\n",
       "  'Window Mean': 0.8644000000000001,\n",
       "  'Window Std': 0.04609458874001495,\n",
       "  'Mean Diff': 0.01884222474460834,\n",
       "  'Std ROC': 0.01613832432374005},\n",
       " {'Game': 41,\n",
       "  'Window Mean': 0.8499000000000001,\n",
       "  'Window Std': 0.044548226052722295,\n",
       "  'Mean Diff': 0.035300794551645746,\n",
       "  'Std ROC': 0.008873616345287806},\n",
       " {'Game': 42,\n",
       "  'Window Mean': 0.836,\n",
       "  'Window Std': 0.04147824061413941,\n",
       "  'Mean Diff': 0.05107832009080595,\n",
       "  'Std ROC': 0.0001108872386487228},\n",
       " {'Game': 43,\n",
       "  'Window Mean': 0.8224,\n",
       "  'Window Std': 0.036929963745205886,\n",
       "  'Mean Diff': 0.06651532349602722,\n",
       "  'Std ROC': 0.005869309353502002},\n",
       " {'Game': 44,\n",
       "  'Window Mean': 0.8105,\n",
       "  'Window Std': 0.031500440914021766,\n",
       "  'Mean Diff': 0.08002270147559593,\n",
       "  'Std ROC': 0.012702248798005723},\n",
       " {'Game': 45,\n",
       "  'Window Mean': 0.8010999999999999,\n",
       "  'Window Std': 0.02791435313796667,\n",
       "  'Mean Diff': 0.09069239500567546,\n",
       "  'Std ROC': 0.018180235602048282},\n",
       " {'Game': 46,\n",
       "  'Window Mean': 0.7957000000000001,\n",
       "  'Window Std': 0.026000213674335637,\n",
       "  'Mean Diff': 0.096821793416572,\n",
       "  'Std ROC': 0.018548012378386658},\n",
       " {'Game': 47,\n",
       "  'Window Mean': 0.79,\n",
       "  'Window Std': 0.023532483459630365,\n",
       "  'Mean Diff': 0.10329171396140746,\n",
       "  'Std ROC': 0.017945757154509048},\n",
       " {'Game': 48,\n",
       "  'Window Mean': 0.7837000000000001,\n",
       "  'Window Std': 0.01669364483202447,\n",
       "  'Mean Diff': 0.11044267877412026,\n",
       "  'Std ROC': 0.020236318913181416},\n",
       " {'Game': 49,\n",
       "  'Window Mean': 0.7795000000000001,\n",
       "  'Window Std': 0.00987983355685263,\n",
       "  'Mean Diff': 0.11520998864926212,\n",
       "  'Std ROC': 0.021620607357169135},\n",
       " {'Game': 50,\n",
       "  'Window Mean': 0.7792000000000001,\n",
       "  'Window Std': 0.009138441393974754,\n",
       "  'Mean Diff': 0.11555051078320078,\n",
       "  'Std ROC': 0.018775911743991916},\n",
       " {'Game': 51,\n",
       "  'Window Mean': 0.7795000000000001,\n",
       "  'Window Std': 0.009536479667279987,\n",
       "  'Mean Diff': 0.11520998864926212,\n",
       "  'Std ROC': 0.01646373400705565},\n",
       " {'Game': 52,\n",
       "  'Window Mean': 0.7798999999999999,\n",
       "  'Window Std': 0.009734817238483054,\n",
       "  'Mean Diff': 0.11475595913734402,\n",
       "  'Std ROC': 0.01379766622114731},\n",
       " {'Game': 53,\n",
       "  'Window Mean': 0.7819,\n",
       "  'Window Std': 0.010202940752547776,\n",
       "  'Mean Diff': 0.11248581157775252,\n",
       "  'Std ROC': 0.006490704079476694},\n",
       " {'Game': 54,\n",
       "  'Window Mean': 0.7845,\n",
       "  'Window Std': 0.010426994879744711,\n",
       "  'Mean Diff': 0.10953461975028381,\n",
       "  'Std ROC': 0.000547161322892082},\n",
       " {'Game': 55,\n",
       "  'Window Mean': 0.7914,\n",
       "  'Window Std': 0.01863211087224298,\n",
       "  'Mean Diff': 0.10170261066969355,\n",
       "  'Std ROC': 0.009493669478268225},\n",
       " {'Game': 56,\n",
       "  'Window Mean': 0.7995,\n",
       "  'Window Std': 0.02824987708921146,\n",
       "  'Mean Diff': 0.09250851305334849,\n",
       "  'Std ROC': 0.018713397421931476},\n",
       " {'Game': 57,\n",
       "  'Window Mean': 0.8067,\n",
       "  'Window Std': 0.03014059646980388,\n",
       "  'Mean Diff': 0.08433598183881956,\n",
       "  'Std ROC': 0.020405779231320822},\n",
       " {'Game': 58,\n",
       "  'Window Mean': 0.8138,\n",
       "  'Window Std': 0.030205959676858445,\n",
       "  'Mean Diff': 0.07627695800227019,\n",
       "  'Std ROC': 0.020003018924310667},\n",
       " {'Game': 59,\n",
       "  'Window Mean': 0.8233,\n",
       "  'Window Std': 0.03318650997686323,\n",
       "  'Mean Diff': 0.0654937570942111,\n",
       "  'Std ROC': 0.022759515097118523},\n",
       " {'Game': 60,\n",
       "  'Window Mean': 0.8327,\n",
       "  'Window Std': 0.038436238687525645,\n",
       "  'Mean Diff': 0.05482406356413168,\n",
       "  'Std ROC': 0.019804127815282666},\n",
       " {'Game': 61,\n",
       "  'Window Mean': 0.8417,\n",
       "  'Window Std': 0.03838416919049367,\n",
       "  'Mean Diff': 0.04460839954597049,\n",
       "  'Std ROC': 0.010134292101282211},\n",
       " {'Game': 62,\n",
       "  'Window Mean': 0.8514999999999999,\n",
       "  'Window Std': 0.03493883544456257,\n",
       "  'Mean Diff': 0.03348467650397285,\n",
       "  'Std ROC': 0.00479823897475869}]"
      ]
     },
     "execution_count": 53,
     "metadata": {},
     "output_type": "execute_result"
    }
   ],
   "source": [
    "log"
   ]
  },
  {
   "cell_type": "code",
   "execution_count": 54,
   "metadata": {},
   "outputs": [
    {
     "data": {
      "text/plain": [
       "Season BA               0.261774\n",
       "Game Threshold BA      58.105263\n",
       "BA Mean                 0.263303\n",
       "BA Std                  0.007441\n",
       "Season OBP              0.334398\n",
       "Game Threshold OBP     51.879699\n",
       "OBP Mean                0.336944\n",
       "OBP Std                 0.008487\n",
       "Season SLG              0.444383\n",
       "Game Threshold SLG     58.067669\n",
       "SLG Mean                0.441796\n",
       "SLG Std                 0.015891\n",
       "Season OPS              0.778714\n",
       "Game Threshold OPS     53.766917\n",
       "OPS Mean                0.779061\n",
       "OPS Std                 0.023067\n",
       "Season wOBA             0.417922\n",
       "Game Threshold wOBA    52.105263\n",
       "wOBA Mean               0.418416\n",
       "wOBA Std                0.013154\n",
       "Season K%               0.207879\n",
       "Game Threshold K%      60.533835\n",
       "K% Mean                 0.208178\n",
       "K% Std                  0.007430\n",
       "Season BB%              0.089364\n",
       "Game Threshold BB%     55.180451\n",
       "BB% Mean                0.091786\n",
       "BB% Std                 0.005848\n",
       "Season ISO              0.182616\n",
       "Game Threshold ISO     48.977444\n",
       "ISO Mean                0.178279\n",
       "ISO Std                 0.012094\n",
       "Season wRC+            17.833764\n",
       "Game Threshold wRC+    73.842105\n",
       "wRC+ Mean              17.621342\n",
       "wRC+ Std                0.673918\n",
       "BA Error                0.035567\n",
       "OBP Error               0.035795\n",
       "SLG Error               0.035696\n",
       "OPS Error               0.035525\n",
       "wOBA Error              0.033778\n",
       "K% Error                0.036086\n",
       "BB% Error               0.074539\n",
       "ISO Error               0.097365\n",
       "wRC+ Error              0.040441\n",
       "dtype: float64"
      ]
     },
     "execution_count": 54,
     "metadata": {},
     "output_type": "execute_result"
    }
   ],
   "source": [
    "stability_df['BA Error'] = ((stability_df['BA Mean'] - stability_df['Season BA']) / stability_df['Season BA']).abs()\n",
    "stability_df['OBP Error'] = ((stability_df['OBP Mean'] - stability_df['Season OBP']) / stability_df['Season OBP']).abs()\n",
    "stability_df['SLG Error'] = ((stability_df['SLG Mean'] - stability_df['Season SLG']) / stability_df['Season SLG']).abs() \n",
    "stability_df['OPS Error'] = ((stability_df['OPS Mean'] - stability_df['Season OPS']) / stability_df['Season OPS']).abs() \n",
    "stability_df['wOBA Error'] = ((stability_df['wOBA Mean'] - stability_df['Season wOBA']) / stability_df['Season wOBA']).abs()\n",
    "stability_df['K% Error'] = ((stability_df['K% Mean'] - stability_df['Season K%']) / stability_df['Season K%']).abs() \n",
    "stability_df['BB% Error'] = ((stability_df['BB% Mean'] - stability_df['Season BB%']) / stability_df['Season BB%']).abs()\n",
    "stability_df['ISO Error'] = ((stability_df['ISO Mean'] - stability_df['Season ISO']) / stability_df['Season ISO']).abs()\n",
    "stability_df['wRC+ Error'] = ((stability_df['wRC+ Mean'] - stability_df['Season wRC+']) / stability_df['Season wRC+']).abs()\n",
    "stability_df.mean()"
   ]
  },
  {
   "cell_type": "code",
   "execution_count": 55,
   "metadata": {},
   "outputs": [
    {
     "data": {
      "application/vnd.plotly.v1+json": {
       "config": {
        "plotlyServerURL": "https://plot.ly"
       },
       "data": [
        {
         "hovertemplate": "x=%{x}<br>y=%{y}<extra></extra>",
         "legendgroup": "",
         "line": {
          "color": "#636efa",
          "dash": "solid"
         },
         "marker": {
          "symbol": "circle"
         },
         "mode": "lines+markers",
         "name": "",
         "orientation": "v",
         "showlegend": false,
         "type": "scatter",
         "x": [
          1,
          2,
          3,
          4,
          5,
          6,
          7,
          8,
          9,
          10,
          11,
          12,
          13,
          14,
          15,
          16,
          17,
          18,
          19,
          20,
          21,
          22,
          23,
          24,
          25,
          26,
          27,
          28,
          29,
          30,
          31,
          32,
          33,
          34,
          35,
          36,
          37,
          38,
          39,
          40,
          41,
          42,
          43,
          44,
          45,
          46,
          47,
          48,
          49,
          50,
          51,
          52,
          53,
          54,
          55,
          56,
          57,
          58,
          59,
          60,
          61,
          62,
          63,
          64,
          65,
          66,
          67,
          68,
          69,
          70,
          71,
          72,
          73,
          74,
          75,
          76,
          77,
          78,
          79,
          80,
          81,
          82,
          83,
          84,
          85,
          86,
          87,
          88,
          89,
          90,
          91,
          92,
          93,
          94,
          95,
          96,
          97,
          98,
          99,
          100,
          101,
          102,
          104,
          105,
          106,
          107,
          108,
          109,
          110,
          111,
          112,
          113,
          114,
          115,
          116,
          117,
          118,
          119,
          120,
          121,
          122,
          123,
          124,
          125,
          126,
          127,
          128,
          129,
          130
         ],
         "xaxis": "x",
         "y": [
          0.25,
          0.125,
          0.083,
          0.443,
          0.654,
          0.656,
          0.563,
          0.531,
          0.557,
          0.587,
          0.703,
          0.721,
          0.73,
          0.77,
          0.886,
          0.849,
          0.809,
          0.874,
          0.943,
          0.915,
          0.93,
          0.935,
          0.956,
          0.976,
          0.962,
          0.973,
          0.937,
          0.939,
          0.933,
          0.927,
          0.934,
          0.921,
          0.909,
          0.89,
          0.863,
          0.834,
          0.831,
          0.838,
          0.822,
          0.802,
          0.789,
          0.782,
          0.773,
          0.771,
          0.769,
          0.78,
          0.774,
          0.775,
          0.78,
          0.799,
          0.792,
          0.786,
          0.793,
          0.797,
          0.838,
          0.861,
          0.846,
          0.846,
          0.875,
          0.893,
          0.882,
          0.884,
          0.888,
          0.894,
          0.887,
          0.913,
          0.91,
          0.918,
          0.903,
          0.905,
          0.91,
          0.915,
          0.908,
          0.902,
          0.9,
          0.912,
          0.909,
          0.903,
          0.907,
          0.916,
          0.925,
          0.935,
          0.939,
          0.928,
          0.938,
          0.942,
          0.935,
          0.929,
          0.932,
          0.919,
          0.939,
          0.933,
          0.926,
          0.924,
          0.919,
          0.916,
          0.907,
          0.905,
          0.914,
          0.91,
          0.901,
          0.897,
          0.915,
          0.911,
          0.916,
          0.912,
          0.91,
          0.92,
          0.916,
          0.91,
          0.909,
          0.912,
          0.91,
          0.907,
          0.903,
          0.901,
          0.897,
          0.89,
          0.891,
          0.894,
          0.897,
          0.896,
          0.89,
          0.886,
          0.892,
          0.891,
          0.888,
          0.881,
          0.881
         ],
         "yaxis": "y"
        }
       ],
       "layout": {
        "annotations": [
         {
          "showarrow": false,
          "text": "Min: 0.083",
          "x": 1,
          "xanchor": "right",
          "xref": "x domain",
          "y": 0.083,
          "yanchor": "top",
          "yref": "y"
         },
         {
          "showarrow": false,
          "text": "Max: 0.976",
          "x": 1,
          "xanchor": "right",
          "xref": "x domain",
          "y": 0.976,
          "yanchor": "bottom",
          "yref": "y"
         },
         {
          "showarrow": false,
          "text": "End of Season Value 0.881",
          "x": 119,
          "y": 0.83695
         },
         {
          "showarrow": false,
          "text": "OPS Stabilized (Est: 0.851)",
          "x": 62,
          "xanchor": "left",
          "xref": "x",
          "y": 0,
          "yanchor": "bottom",
          "yref": "y domain"
         }
        ],
        "legend": {
         "tracegroupgap": 0
        },
        "margin": {
         "t": 60
        },
        "shapes": [
         {
          "line": {
           "color": "black",
           "dash": "dot"
          },
          "type": "line",
          "x0": 0,
          "x1": 1,
          "xref": "x domain",
          "y0": 0.083,
          "y1": 0.083,
          "yref": "y"
         },
         {
          "line": {
           "color": "black",
           "dash": "dot"
          },
          "type": "line",
          "x0": 0,
          "x1": 1,
          "xref": "x domain",
          "y0": 0.976,
          "y1": 0.976,
          "yref": "y"
         },
         {
          "line": {
           "color": "black",
           "dash": "dot"
          },
          "type": "line",
          "x0": 62,
          "x1": 62,
          "xref": "x",
          "y0": 0,
          "y1": 1,
          "yref": "y domain"
         }
        ],
        "template": {
         "data": {
          "bar": [
           {
            "error_x": {
             "color": "#2a3f5f"
            },
            "error_y": {
             "color": "#2a3f5f"
            },
            "marker": {
             "line": {
              "color": "#E5ECF6",
              "width": 0.5
             },
             "pattern": {
              "fillmode": "overlay",
              "size": 10,
              "solidity": 0.2
             }
            },
            "type": "bar"
           }
          ],
          "barpolar": [
           {
            "marker": {
             "line": {
              "color": "#E5ECF6",
              "width": 0.5
             },
             "pattern": {
              "fillmode": "overlay",
              "size": 10,
              "solidity": 0.2
             }
            },
            "type": "barpolar"
           }
          ],
          "carpet": [
           {
            "aaxis": {
             "endlinecolor": "#2a3f5f",
             "gridcolor": "white",
             "linecolor": "white",
             "minorgridcolor": "white",
             "startlinecolor": "#2a3f5f"
            },
            "baxis": {
             "endlinecolor": "#2a3f5f",
             "gridcolor": "white",
             "linecolor": "white",
             "minorgridcolor": "white",
             "startlinecolor": "#2a3f5f"
            },
            "type": "carpet"
           }
          ],
          "choropleth": [
           {
            "colorbar": {
             "outlinewidth": 0,
             "ticks": ""
            },
            "type": "choropleth"
           }
          ],
          "contour": [
           {
            "colorbar": {
             "outlinewidth": 0,
             "ticks": ""
            },
            "colorscale": [
             [
              0,
              "#0d0887"
             ],
             [
              0.1111111111111111,
              "#46039f"
             ],
             [
              0.2222222222222222,
              "#7201a8"
             ],
             [
              0.3333333333333333,
              "#9c179e"
             ],
             [
              0.4444444444444444,
              "#bd3786"
             ],
             [
              0.5555555555555556,
              "#d8576b"
             ],
             [
              0.6666666666666666,
              "#ed7953"
             ],
             [
              0.7777777777777778,
              "#fb9f3a"
             ],
             [
              0.8888888888888888,
              "#fdca26"
             ],
             [
              1,
              "#f0f921"
             ]
            ],
            "type": "contour"
           }
          ],
          "contourcarpet": [
           {
            "colorbar": {
             "outlinewidth": 0,
             "ticks": ""
            },
            "type": "contourcarpet"
           }
          ],
          "heatmap": [
           {
            "colorbar": {
             "outlinewidth": 0,
             "ticks": ""
            },
            "colorscale": [
             [
              0,
              "#0d0887"
             ],
             [
              0.1111111111111111,
              "#46039f"
             ],
             [
              0.2222222222222222,
              "#7201a8"
             ],
             [
              0.3333333333333333,
              "#9c179e"
             ],
             [
              0.4444444444444444,
              "#bd3786"
             ],
             [
              0.5555555555555556,
              "#d8576b"
             ],
             [
              0.6666666666666666,
              "#ed7953"
             ],
             [
              0.7777777777777778,
              "#fb9f3a"
             ],
             [
              0.8888888888888888,
              "#fdca26"
             ],
             [
              1,
              "#f0f921"
             ]
            ],
            "type": "heatmap"
           }
          ],
          "heatmapgl": [
           {
            "colorbar": {
             "outlinewidth": 0,
             "ticks": ""
            },
            "colorscale": [
             [
              0,
              "#0d0887"
             ],
             [
              0.1111111111111111,
              "#46039f"
             ],
             [
              0.2222222222222222,
              "#7201a8"
             ],
             [
              0.3333333333333333,
              "#9c179e"
             ],
             [
              0.4444444444444444,
              "#bd3786"
             ],
             [
              0.5555555555555556,
              "#d8576b"
             ],
             [
              0.6666666666666666,
              "#ed7953"
             ],
             [
              0.7777777777777778,
              "#fb9f3a"
             ],
             [
              0.8888888888888888,
              "#fdca26"
             ],
             [
              1,
              "#f0f921"
             ]
            ],
            "type": "heatmapgl"
           }
          ],
          "histogram": [
           {
            "marker": {
             "pattern": {
              "fillmode": "overlay",
              "size": 10,
              "solidity": 0.2
             }
            },
            "type": "histogram"
           }
          ],
          "histogram2d": [
           {
            "colorbar": {
             "outlinewidth": 0,
             "ticks": ""
            },
            "colorscale": [
             [
              0,
              "#0d0887"
             ],
             [
              0.1111111111111111,
              "#46039f"
             ],
             [
              0.2222222222222222,
              "#7201a8"
             ],
             [
              0.3333333333333333,
              "#9c179e"
             ],
             [
              0.4444444444444444,
              "#bd3786"
             ],
             [
              0.5555555555555556,
              "#d8576b"
             ],
             [
              0.6666666666666666,
              "#ed7953"
             ],
             [
              0.7777777777777778,
              "#fb9f3a"
             ],
             [
              0.8888888888888888,
              "#fdca26"
             ],
             [
              1,
              "#f0f921"
             ]
            ],
            "type": "histogram2d"
           }
          ],
          "histogram2dcontour": [
           {
            "colorbar": {
             "outlinewidth": 0,
             "ticks": ""
            },
            "colorscale": [
             [
              0,
              "#0d0887"
             ],
             [
              0.1111111111111111,
              "#46039f"
             ],
             [
              0.2222222222222222,
              "#7201a8"
             ],
             [
              0.3333333333333333,
              "#9c179e"
             ],
             [
              0.4444444444444444,
              "#bd3786"
             ],
             [
              0.5555555555555556,
              "#d8576b"
             ],
             [
              0.6666666666666666,
              "#ed7953"
             ],
             [
              0.7777777777777778,
              "#fb9f3a"
             ],
             [
              0.8888888888888888,
              "#fdca26"
             ],
             [
              1,
              "#f0f921"
             ]
            ],
            "type": "histogram2dcontour"
           }
          ],
          "mesh3d": [
           {
            "colorbar": {
             "outlinewidth": 0,
             "ticks": ""
            },
            "type": "mesh3d"
           }
          ],
          "parcoords": [
           {
            "line": {
             "colorbar": {
              "outlinewidth": 0,
              "ticks": ""
             }
            },
            "type": "parcoords"
           }
          ],
          "pie": [
           {
            "automargin": true,
            "type": "pie"
           }
          ],
          "scatter": [
           {
            "fillpattern": {
             "fillmode": "overlay",
             "size": 10,
             "solidity": 0.2
            },
            "type": "scatter"
           }
          ],
          "scatter3d": [
           {
            "line": {
             "colorbar": {
              "outlinewidth": 0,
              "ticks": ""
             }
            },
            "marker": {
             "colorbar": {
              "outlinewidth": 0,
              "ticks": ""
             }
            },
            "type": "scatter3d"
           }
          ],
          "scattercarpet": [
           {
            "marker": {
             "colorbar": {
              "outlinewidth": 0,
              "ticks": ""
             }
            },
            "type": "scattercarpet"
           }
          ],
          "scattergeo": [
           {
            "marker": {
             "colorbar": {
              "outlinewidth": 0,
              "ticks": ""
             }
            },
            "type": "scattergeo"
           }
          ],
          "scattergl": [
           {
            "marker": {
             "colorbar": {
              "outlinewidth": 0,
              "ticks": ""
             }
            },
            "type": "scattergl"
           }
          ],
          "scattermapbox": [
           {
            "marker": {
             "colorbar": {
              "outlinewidth": 0,
              "ticks": ""
             }
            },
            "type": "scattermapbox"
           }
          ],
          "scatterpolar": [
           {
            "marker": {
             "colorbar": {
              "outlinewidth": 0,
              "ticks": ""
             }
            },
            "type": "scatterpolar"
           }
          ],
          "scatterpolargl": [
           {
            "marker": {
             "colorbar": {
              "outlinewidth": 0,
              "ticks": ""
             }
            },
            "type": "scatterpolargl"
           }
          ],
          "scatterternary": [
           {
            "marker": {
             "colorbar": {
              "outlinewidth": 0,
              "ticks": ""
             }
            },
            "type": "scatterternary"
           }
          ],
          "surface": [
           {
            "colorbar": {
             "outlinewidth": 0,
             "ticks": ""
            },
            "colorscale": [
             [
              0,
              "#0d0887"
             ],
             [
              0.1111111111111111,
              "#46039f"
             ],
             [
              0.2222222222222222,
              "#7201a8"
             ],
             [
              0.3333333333333333,
              "#9c179e"
             ],
             [
              0.4444444444444444,
              "#bd3786"
             ],
             [
              0.5555555555555556,
              "#d8576b"
             ],
             [
              0.6666666666666666,
              "#ed7953"
             ],
             [
              0.7777777777777778,
              "#fb9f3a"
             ],
             [
              0.8888888888888888,
              "#fdca26"
             ],
             [
              1,
              "#f0f921"
             ]
            ],
            "type": "surface"
           }
          ],
          "table": [
           {
            "cells": {
             "fill": {
              "color": "#EBF0F8"
             },
             "line": {
              "color": "white"
             }
            },
            "header": {
             "fill": {
              "color": "#C8D4E3"
             },
             "line": {
              "color": "white"
             }
            },
            "type": "table"
           }
          ]
         },
         "layout": {
          "annotationdefaults": {
           "arrowcolor": "#2a3f5f",
           "arrowhead": 0,
           "arrowwidth": 1
          },
          "autotypenumbers": "strict",
          "coloraxis": {
           "colorbar": {
            "outlinewidth": 0,
            "ticks": ""
           }
          },
          "colorscale": {
           "diverging": [
            [
             0,
             "#8e0152"
            ],
            [
             0.1,
             "#c51b7d"
            ],
            [
             0.2,
             "#de77ae"
            ],
            [
             0.3,
             "#f1b6da"
            ],
            [
             0.4,
             "#fde0ef"
            ],
            [
             0.5,
             "#f7f7f7"
            ],
            [
             0.6,
             "#e6f5d0"
            ],
            [
             0.7,
             "#b8e186"
            ],
            [
             0.8,
             "#7fbc41"
            ],
            [
             0.9,
             "#4d9221"
            ],
            [
             1,
             "#276419"
            ]
           ],
           "sequential": [
            [
             0,
             "#0d0887"
            ],
            [
             0.1111111111111111,
             "#46039f"
            ],
            [
             0.2222222222222222,
             "#7201a8"
            ],
            [
             0.3333333333333333,
             "#9c179e"
            ],
            [
             0.4444444444444444,
             "#bd3786"
            ],
            [
             0.5555555555555556,
             "#d8576b"
            ],
            [
             0.6666666666666666,
             "#ed7953"
            ],
            [
             0.7777777777777778,
             "#fb9f3a"
            ],
            [
             0.8888888888888888,
             "#fdca26"
            ],
            [
             1,
             "#f0f921"
            ]
           ],
           "sequentialminus": [
            [
             0,
             "#0d0887"
            ],
            [
             0.1111111111111111,
             "#46039f"
            ],
            [
             0.2222222222222222,
             "#7201a8"
            ],
            [
             0.3333333333333333,
             "#9c179e"
            ],
            [
             0.4444444444444444,
             "#bd3786"
            ],
            [
             0.5555555555555556,
             "#d8576b"
            ],
            [
             0.6666666666666666,
             "#ed7953"
            ],
            [
             0.7777777777777778,
             "#fb9f3a"
            ],
            [
             0.8888888888888888,
             "#fdca26"
            ],
            [
             1,
             "#f0f921"
            ]
           ]
          },
          "colorway": [
           "#636efa",
           "#EF553B",
           "#00cc96",
           "#ab63fa",
           "#FFA15A",
           "#19d3f3",
           "#FF6692",
           "#B6E880",
           "#FF97FF",
           "#FECB52"
          ],
          "font": {
           "color": "#2a3f5f"
          },
          "geo": {
           "bgcolor": "white",
           "lakecolor": "white",
           "landcolor": "#E5ECF6",
           "showlakes": true,
           "showland": true,
           "subunitcolor": "white"
          },
          "hoverlabel": {
           "align": "left"
          },
          "hovermode": "closest",
          "mapbox": {
           "style": "light"
          },
          "paper_bgcolor": "white",
          "plot_bgcolor": "#E5ECF6",
          "polar": {
           "angularaxis": {
            "gridcolor": "white",
            "linecolor": "white",
            "ticks": ""
           },
           "bgcolor": "#E5ECF6",
           "radialaxis": {
            "gridcolor": "white",
            "linecolor": "white",
            "ticks": ""
           }
          },
          "scene": {
           "xaxis": {
            "backgroundcolor": "#E5ECF6",
            "gridcolor": "white",
            "gridwidth": 2,
            "linecolor": "white",
            "showbackground": true,
            "ticks": "",
            "zerolinecolor": "white"
           },
           "yaxis": {
            "backgroundcolor": "#E5ECF6",
            "gridcolor": "white",
            "gridwidth": 2,
            "linecolor": "white",
            "showbackground": true,
            "ticks": "",
            "zerolinecolor": "white"
           },
           "zaxis": {
            "backgroundcolor": "#E5ECF6",
            "gridcolor": "white",
            "gridwidth": 2,
            "linecolor": "white",
            "showbackground": true,
            "ticks": "",
            "zerolinecolor": "white"
           }
          },
          "shapedefaults": {
           "line": {
            "color": "#2a3f5f"
           }
          },
          "ternary": {
           "aaxis": {
            "gridcolor": "white",
            "linecolor": "white",
            "ticks": ""
           },
           "baxis": {
            "gridcolor": "white",
            "linecolor": "white",
            "ticks": ""
           },
           "bgcolor": "#E5ECF6",
           "caxis": {
            "gridcolor": "white",
            "linecolor": "white",
            "ticks": ""
           }
          },
          "title": {
           "x": 0.05
          },
          "xaxis": {
           "automargin": true,
           "gridcolor": "white",
           "linecolor": "white",
           "ticks": "",
           "title": {
            "standoff": 15
           },
           "zerolinecolor": "white",
           "zerolinewidth": 2
          },
          "yaxis": {
           "automargin": true,
           "gridcolor": "white",
           "linecolor": "white",
           "ticks": "",
           "title": {
            "standoff": 15
           },
           "zerolinecolor": "white",
           "zerolinewidth": 2
          }
         }
        },
        "title": {
         "text": "Cody Bellinger OPS over time"
        },
        "xaxis": {
         "anchor": "y",
         "domain": [
          0,
          1
         ],
         "title": {
          "text": "G"
         }
        },
        "yaxis": {
         "anchor": "x",
         "domain": [
          0,
          1
         ],
         "nticks": 20,
         "title": {
          "text": "OPS"
         }
        }
       }
      }
     },
     "metadata": {},
     "output_type": "display_data"
    }
   ],
   "source": [
    "player_key = 641355\n",
    "fig = create_figure(player_dfs_2023[player_key], x_column='G', y_column='OPS')\n",
    "fig.add_vline(x=stability_df.loc[player_key]['Game Threshold OPS'], line_dash=\"dot\", line_color=\"black\", annotation_text=f'OPS Stabilized (Est: {round(stability_df.loc[player_key]['OPS Mean'],3)})', annotation_position=\"bottom right\")\n",
    "fig.show()"
   ]
  },
  {
   "cell_type": "code",
   "execution_count": 75,
   "metadata": {},
   "outputs": [],
   "source": [
    "create_stability_animation(player_dfs_2023[player_key], x_column='G', y_column='OPS', thresholds=thresholds, log=log)"
   ]
  },
  {
   "cell_type": "code",
   "execution_count": null,
   "metadata": {},
   "outputs": [],
   "source": [
    "# Plot distribution of OPS for all players in player_dfs_2023\n",
    "sns.set(style=\"whitegrid\")\n",
    "\n",
    "ops = [df['OPS'].iloc[-1] for df in player_dfs_2023.values()]\n",
    "plt.figure(figsize=(10,6))\n",
    "sns.histplot(ops, kde=True, bins=100, color='blue')\n",
    "plt.title('Distribution of OPS at end of season 2023')\n",
    "plt.xlabel('OPS')\n",
    "plt.show()\n"
   ]
  },
  {
   "cell_type": "code",
   "execution_count": null,
   "metadata": {},
   "outputs": [],
   "source": []
  }
 ],
 "metadata": {
  "kernelspec": {
   "display_name": "statstability",
   "language": "python",
   "name": "python3"
  },
  "language_info": {
   "codemirror_mode": {
    "name": "ipython",
    "version": 3
   },
   "file_extension": ".py",
   "mimetype": "text/x-python",
   "name": "python",
   "nbconvert_exporter": "python",
   "pygments_lexer": "ipython3",
   "version": "3.1.0"
  }
 },
 "nbformat": 4,
 "nbformat_minor": 2
}
