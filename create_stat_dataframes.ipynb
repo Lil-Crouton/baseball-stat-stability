{
 "cells": [
  {
   "cell_type": "code",
   "execution_count": 9,
   "metadata": {},
   "outputs": [],
   "source": [
    "import pandas as pd"
   ]
  },
  {
   "cell_type": "code",
   "execution_count": 10,
   "metadata": {},
   "outputs": [],
   "source": [
    "days = 186\n",
    "year = '2023'\n",
    "qualifying_pa = 503\n",
    "\n",
    "# Set start and end dates for the seasons\n",
    "start_dates = [\"2023-03-30\", \"2022-04-07\", \"2021-04-01\"]\n",
    "end_dates = [\"2023-10-01\", \"2022-10-05\", \"2021-10-03\"]"
   ]
  },
  {
   "cell_type": "code",
   "execution_count": 11,
   "metadata": {},
   "outputs": [],
   "source": [
    "# Get stats from the last game of the season to get the qualifying players\n",
    "season_stats = pd.read_csv(f'./{year} Stats/stats_{year}_{days-1}.csv')"
   ]
  },
  {
   "cell_type": "code",
   "execution_count": 12,
   "metadata": {},
   "outputs": [
    {
     "data": {
      "text/plain": [
       "0      682928\n",
       "1      547989\n",
       "3      660670\n",
       "4      642715\n",
       "12     645277\n",
       "        ...  \n",
       "624    664774\n",
       "627    572233\n",
       "648    677951\n",
       "653    592885\n",
       "655    807799\n",
       "Name: mlbID, Length: 133, dtype: int64"
      ]
     },
     "execution_count": 12,
     "metadata": {},
     "output_type": "execute_result"
    }
   ],
   "source": [
    "# Get the players who have enough plate appearances to qualify based on fangraphs\n",
    "season_stats_qual = season_stats[season_stats['PA'] >= qualifying_pa]\n",
    "qual_ids = season_stats_qual['mlbID']\n",
    "qual_ids"
   ]
  },
  {
   "cell_type": "code",
   "execution_count": 13,
   "metadata": {},
   "outputs": [],
   "source": [
    "player_dfs = {}\n",
    "\n",
    "for day in range(0, days):\n",
    "    # Load csv of league wide stats through the day\n",
    "    date_stats = pd.read_csv(f'./2023 Stats/stats_{year}_{day}.csv')\n",
    "    \n",
    "    # Filter for players that met the PA threshold (from Fangraphs)\n",
    "    date_stats_qual = date_stats[date_stats['mlbID'].isin(qual_ids)].copy()\n",
    "\n",
    "    # Add new column for day\n",
    "    date_stats_qual['Day'] = day\n",
    "\n",
    "    # Loop over each player in dataframe\n",
    "    for player_id in date_stats_qual['mlbID'].unique():\n",
    "        # Filter for player\n",
    "        player_stats = date_stats_qual[date_stats_qual['mlbID'] == player_id]\n",
    "\n",
    "        # If player already has dataframe append the new stats\n",
    "        if player_id in player_dfs:\n",
    "            player_dfs[player_id] = pd.concat([player_dfs[player_id], player_stats])\n",
    "        else:\n",
    "            player_dfs[player_id] = player_stats\n"
   ]
  },
  {
   "cell_type": "code",
   "execution_count": 14,
   "metadata": {},
   "outputs": [],
   "source": [
    "columns_to_remove = ['\\xa0', 'Opp']\n",
    "for player_id, df in player_dfs.items():\n",
    "    # Remove columns that have the @ symbol and the Opp column b/c these are only defined for the first couple games\n",
    "    if all(col in df.columns for col in columns_to_remove):\n",
    "        player_dfs[player_id] = df.drop(columns=columns_to_remove)\n",
    "    \n",
    "    # Make the Date column defined as the first day of the season + the day number\n",
    "    player_dfs[player_id]['Date'] = pd.to_datetime(player_dfs[player_id]['Day'], origin=f'{start_dates[0]}', unit='D')\n",
    "\n",
    "    # For rows that have the same G as another row, keep only first row with that unique G\n",
    "    player_dfs[player_id] = player_dfs[player_id].drop_duplicates(subset='G', keep='first')\n"
   ]
  },
  {
   "cell_type": "code",
   "execution_count": null,
   "metadata": {},
   "outputs": [],
   "source": []
  }
 ],
 "metadata": {
  "kernelspec": {
   "display_name": "Python 3",
   "language": "python",
   "name": "python3"
  },
  "language_info": {
   "codemirror_mode": {
    "name": "ipython",
    "version": 3
   },
   "file_extension": ".py",
   "mimetype": "text/x-python",
   "name": "python",
   "nbconvert_exporter": "python",
   "pygments_lexer": "ipython3",
   "version": "3.12.1"
  }
 },
 "nbformat": 4,
 "nbformat_minor": 2
}
