{
 "cells": [
  {
   "cell_type": "code",
   "execution_count": 1,
   "metadata": {},
   "outputs": [],
   "source": [
    "from datetime import datetime\n",
    "from datetime import timedelta\n",
    "from pybaseball import batting_stats\n",
    "from pybaseball import batting_stats_range\n",
    "import time\n",
    "import pandas as pd"
   ]
  },
  {
   "cell_type": "code",
   "execution_count": 2,
   "metadata": {},
   "outputs": [],
   "source": [
    "def compute_season_dates(season):\n",
    "    dates = []\n",
    "    for i in range(0, season[1]):\n",
    "        dates.append(season[0] + timedelta(days=i))\n",
    "\n",
    "    return dates"
   ]
  },
  {
   "cell_type": "code",
   "execution_count": 3,
   "metadata": {},
   "outputs": [],
   "source": [
    "def compute_stats(season_data, dates):\n",
    "    stats = []\n",
    "    start_date = dates[0].strftime('%Y-%m-%d')\n",
    "    stats.append(batting_stats_range(start_date))\n",
    "    for date in dates:\n",
    "        print(f'Getting stats through {date.strftime(\"%Y-%m-%d\")}')\n",
    "        date_string = date.strftime('%Y-%m-%d')\n",
    "        time.sleep(5)\n",
    "        stats.append(batting_stats_range(start_date, date_string))\n",
    "\n",
    "    return stats"
   ]
  },
  {
   "cell_type": "code",
   "execution_count": 4,
   "metadata": {},
   "outputs": [],
   "source": [
    "# Pull data from pybaseball\n",
    "season_data_21 = batting_stats(2021)\n",
    "season_data_22 = batting_stats(2022)\n",
    "season_data_23 = batting_stats(2023)"
   ]
  },
  {
   "cell_type": "code",
   "execution_count": 5,
   "metadata": {},
   "outputs": [],
   "source": [
    "season_data = {\n",
    "    '2021': season_data_21,\n",
    "    '2022': season_data_22,\n",
    "    '2023': season_data_23\n",
    "}"
   ]
  },
  {
   "cell_type": "code",
   "execution_count": 6,
   "metadata": {},
   "outputs": [],
   "source": [
    "fg21_ids = season_data_21['IDfg']\n",
    "fg22_ids = season_data_22['IDfg']\n",
    "fg23_ids = season_data_23['IDfg']\n",
    "fg_ids = {\n",
    "    '2021': fg21_ids,\n",
    "    '2022': fg22_ids,\n",
    "    '2023': fg23_ids\n",
    "}"
   ]
  },
  {
   "cell_type": "code",
   "execution_count": 7,
   "metadata": {},
   "outputs": [],
   "source": [
    "# Set start and end dates for the seasons\n",
    "start_dates = [\"2023-03-30\", \"2022-04-07\", \"2021-04-01\"]\n",
    "end_dates = [\"2023-10-01\", \"2022-10-05\", \"2021-10-03\"]\n",
    "\n",
    "# Convert the start and end dates to datetime objects\n",
    "start_datetimes = [datetime.strptime(date, \"%Y-%m-%d\") for date in start_dates]\n",
    "end_datetimes = [datetime.strptime(date, \"%Y-%m-%d\") for date in end_dates]\n",
    "season_lengths = [(end - start).days for start, end in zip(start_datetimes, end_datetimes)]\n",
    "\n",
    "seasons = dict(zip(['2023', '2022', '2021'], zip(start_datetimes, season_lengths)))"
   ]
  },
  {
   "cell_type": "code",
   "execution_count": 8,
   "metadata": {},
   "outputs": [
    {
     "ename": "IndexError",
     "evalue": "list index out of range",
     "output_type": "error",
     "traceback": [
      "\u001b[1;31m---------------------------------------------------------------------------\u001b[0m",
      "\u001b[1;31mIndexError\u001b[0m                                Traceback (most recent call last)",
      "Cell \u001b[1;32mIn[8], line 11\u001b[0m\n\u001b[0;32m      8\u001b[0m dates \u001b[38;5;241m=\u001b[39m compute_season_dates(seasons[season])\n\u001b[0;32m     10\u001b[0m \u001b[38;5;66;03m# Compute the stats through each date for the season\u001b[39;00m\n\u001b[1;32m---> 11\u001b[0m stats[season] \u001b[38;5;241m=\u001b[39m compute_stats(season_data[season], dates)\n",
      "Cell \u001b[1;32mIn[3], line 4\u001b[0m, in \u001b[0;36mcompute_stats\u001b[1;34m(season_data, dates)\u001b[0m\n\u001b[0;32m      2\u001b[0m stats \u001b[38;5;241m=\u001b[39m []\n\u001b[0;32m      3\u001b[0m start_date \u001b[38;5;241m=\u001b[39m dates[\u001b[38;5;241m0\u001b[39m]\u001b[38;5;241m.\u001b[39mstrftime(\u001b[38;5;124m'\u001b[39m\u001b[38;5;124m%\u001b[39m\u001b[38;5;124mY-\u001b[39m\u001b[38;5;124m%\u001b[39m\u001b[38;5;124mm-\u001b[39m\u001b[38;5;132;01m%d\u001b[39;00m\u001b[38;5;124m'\u001b[39m)\n\u001b[1;32m----> 4\u001b[0m stats\u001b[38;5;241m.\u001b[39mappend(batting_stats_range(start_date))\n\u001b[0;32m      5\u001b[0m \u001b[38;5;28;01mfor\u001b[39;00m date \u001b[38;5;129;01min\u001b[39;00m dates:\n\u001b[0;32m      6\u001b[0m     \u001b[38;5;28mprint\u001b[39m(\u001b[38;5;124mf\u001b[39m\u001b[38;5;124m'\u001b[39m\u001b[38;5;124mGetting stats through \u001b[39m\u001b[38;5;132;01m{\u001b[39;00mdate\u001b[38;5;241m.\u001b[39mstrftime(\u001b[38;5;124m\"\u001b[39m\u001b[38;5;124m%\u001b[39m\u001b[38;5;124mY-\u001b[39m\u001b[38;5;124m%\u001b[39m\u001b[38;5;124mm-\u001b[39m\u001b[38;5;132;01m%d\u001b[39;00m\u001b[38;5;124m\"\u001b[39m)\u001b[38;5;132;01m}\u001b[39;00m\u001b[38;5;124m'\u001b[39m)\n",
      "File \u001b[1;32mc:\\ProgramData\\Anaconda3\\envs\\stat-stability\\Lib\\site-packages\\pybaseball\\league_batting_stats.py:62\u001b[0m, in \u001b[0;36mbatting_stats_range\u001b[1;34m(start_dt, end_dt)\u001b[0m\n\u001b[0;32m     60\u001b[0m \u001b[38;5;66;03m# retrieve html from baseball reference\u001b[39;00m\n\u001b[0;32m     61\u001b[0m soup \u001b[38;5;241m=\u001b[39m get_soup(start_dt_date, end_dt_date)\n\u001b[1;32m---> 62\u001b[0m table \u001b[38;5;241m=\u001b[39m get_table(soup)\n\u001b[0;32m     63\u001b[0m table \u001b[38;5;241m=\u001b[39m table\u001b[38;5;241m.\u001b[39mdropna(how\u001b[38;5;241m=\u001b[39m\u001b[38;5;124m'\u001b[39m\u001b[38;5;124mall\u001b[39m\u001b[38;5;124m'\u001b[39m)  \u001b[38;5;66;03m# drop if all columns are NA\u001b[39;00m\n\u001b[0;32m     64\u001b[0m \u001b[38;5;66;03m# scraped data is initially in string format.\u001b[39;00m\n\u001b[0;32m     65\u001b[0m \u001b[38;5;66;03m# convert the necessary columns to numeric.\u001b[39;00m\n",
      "File \u001b[1;32mc:\\ProgramData\\Anaconda3\\envs\\stat-stability\\Lib\\site-packages\\pybaseball\\league_batting_stats.py:28\u001b[0m, in \u001b[0;36mget_table\u001b[1;34m(soup)\u001b[0m\n\u001b[0;32m     27\u001b[0m \u001b[38;5;28;01mdef\u001b[39;00m \u001b[38;5;21mget_table\u001b[39m(soup: BeautifulSoup) \u001b[38;5;241m-\u001b[39m\u001b[38;5;241m>\u001b[39m pd\u001b[38;5;241m.\u001b[39mDataFrame:\n\u001b[1;32m---> 28\u001b[0m     table \u001b[38;5;241m=\u001b[39m soup\u001b[38;5;241m.\u001b[39mfind_all(\u001b[38;5;124m'\u001b[39m\u001b[38;5;124mtable\u001b[39m\u001b[38;5;124m'\u001b[39m)[\u001b[38;5;241m0\u001b[39m]\n\u001b[0;32m     29\u001b[0m     data \u001b[38;5;241m=\u001b[39m []\n\u001b[0;32m     30\u001b[0m     headings \u001b[38;5;241m=\u001b[39m [th\u001b[38;5;241m.\u001b[39mget_text() \u001b[38;5;28;01mfor\u001b[39;00m th \u001b[38;5;129;01min\u001b[39;00m table\u001b[38;5;241m.\u001b[39mfind(\u001b[38;5;124m\"\u001b[39m\u001b[38;5;124mtr\u001b[39m\u001b[38;5;124m\"\u001b[39m)\u001b[38;5;241m.\u001b[39mfind_all(\u001b[38;5;124m\"\u001b[39m\u001b[38;5;124mth\u001b[39m\u001b[38;5;124m\"\u001b[39m)][\u001b[38;5;241m1\u001b[39m:]\n",
      "\u001b[1;31mIndexError\u001b[0m: list index out of range"
     ]
    }
   ],
   "source": [
    "stats = {\n",
    "    '2023': [],\n",
    "    '2022': [],\n",
    "    '2021': []\n",
    "}\n",
    "for season in seasons:\n",
    "    # Create a list of dates for the season\n",
    "    dates = compute_season_dates(seasons[season])\n",
    "    \n",
    "    # Compute the stats through each date for the season\n",
    "    stats[season] = compute_stats(season_data[season], dates)"
   ]
  },
  {
   "cell_type": "code",
   "execution_count": null,
   "metadata": {},
   "outputs": [],
   "source": []
  }
 ],
 "metadata": {
  "kernelspec": {
   "display_name": "statstability",
   "language": "python",
   "name": "python3"
  },
  "language_info": {
   "codemirror_mode": {
    "name": "ipython",
    "version": 3
   },
   "file_extension": ".py",
   "mimetype": "text/x-python",
   "name": "python",
   "nbconvert_exporter": "python",
   "pygments_lexer": "ipython3",
   "version": "3.12.1"
  }
 },
 "nbformat": 4,
 "nbformat_minor": 2
}
