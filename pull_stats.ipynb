{
 "cells": [
  {
   "cell_type": "code",
   "execution_count": 1,
   "metadata": {},
   "outputs": [],
   "source": [
    "from datetime import datetime\n",
    "from datetime import timedelta\n",
    "from pybaseball import batting_stats\n",
    "from pybaseball import batting_stats_range\n",
    "import time\n",
    "import pandas as pd"
   ]
  },
  {
   "cell_type": "code",
   "execution_count": 2,
   "metadata": {},
   "outputs": [],
   "source": [
    "def compute_season_dates(season):\n",
    "    dates = []\n",
    "    for i in range(0, season[1]):\n",
    "        dates.append(season[0] + timedelta(days=i))\n",
    "\n",
    "    return dates"
   ]
  },
  {
   "cell_type": "code",
   "execution_count": 3,
   "metadata": {},
   "outputs": [],
   "source": [
    "def compute_stats(season_data, dates):\n",
    "    stats = []\n",
    "    start_date = dates[0].strftime('%Y-%m-%d')\n",
    "    stats.append(batting_stats_range(start_date))\n",
    "    for date in dates:\n",
    "        print(f'Getting stats through {date.strftime(\"%Y-%m-%d\")}')\n",
    "        date_string = date.strftime('%Y-%m-%d')\n",
    "        time.sleep(3)\n",
    "        stats.append(batting_stats_range(start_date, date_string))\n",
    "\n",
    "    return stats"
   ]
  },
  {
   "cell_type": "code",
   "execution_count": 4,
   "metadata": {},
   "outputs": [],
   "source": [
    "# Pull data from pybaseball\n",
    "season_data_21 = batting_stats(2021)\n",
    "season_data_22 = batting_stats(2022)\n",
    "season_data_23 = batting_stats(2023)"
   ]
  },
  {
   "cell_type": "code",
   "execution_count": 5,
   "metadata": {},
   "outputs": [],
   "source": [
    "season_data = {\n",
    "    '2021': season_data_21,\n",
    "    '2022': season_data_22,\n",
    "    '2023': season_data_23\n",
    "}"
   ]
  },
  {
   "cell_type": "code",
   "execution_count": 6,
   "metadata": {},
   "outputs": [],
   "source": [
    "fg21_ids = season_data_21['IDfg']\n",
    "fg22_ids = season_data_22['IDfg']\n",
    "fg23_ids = season_data_23['IDfg']\n",
    "fg_ids = {\n",
    "    '2021': fg21_ids,\n",
    "    '2022': fg22_ids,\n",
    "    '2023': fg23_ids\n",
    "}"
   ]
  },
  {
   "cell_type": "code",
   "execution_count": 7,
   "metadata": {},
   "outputs": [],
   "source": [
    "# Set start and end dates for the seasons\n",
    "start_dates = [\"2023-03-30\", \"2022-04-07\", \"2021-04-01\"]\n",
    "end_dates = [\"2023-10-01\", \"2022-10-05\", \"2021-10-03\"]\n",
    "\n",
    "# Convert the start and end dates to datetime objects\n",
    "start_datetimes = [datetime.strptime(date, \"%Y-%m-%d\") for date in start_dates]\n",
    "end_datetimes = [datetime.strptime(date, \"%Y-%m-%d\") for date in end_dates]\n",
    "season_lengths = [(end - start).days for start, end in zip(start_datetimes, end_datetimes)]\n",
    "\n",
    "seasons = dict(zip(['2023', '2022', '2021'], zip(start_datetimes, season_lengths)))"
   ]
  },
  {
   "cell_type": "code",
   "execution_count": 9,
   "metadata": {},
   "outputs": [
    {
     "name": "stdout",
     "output_type": "stream",
     "text": [
      "Getting stats through 2023-03-30\n",
      "Getting stats through 2023-03-31\n",
      "Getting stats through 2023-04-01\n",
      "Getting stats through 2023-04-02\n",
      "Getting stats through 2023-04-03\n",
      "Getting stats through 2023-04-04\n",
      "Getting stats through 2023-04-05\n",
      "Getting stats through 2023-04-06\n",
      "Getting stats through 2023-04-07\n",
      "Getting stats through 2023-04-08\n",
      "Getting stats through 2023-04-09\n",
      "Getting stats through 2023-04-10\n",
      "Getting stats through 2023-04-11\n",
      "Getting stats through 2023-04-12\n",
      "Getting stats through 2023-04-13\n",
      "Getting stats through 2023-04-14\n",
      "Getting stats through 2023-04-15\n",
      "Getting stats through 2023-04-16\n",
      "Getting stats through 2023-04-17\n",
      "Getting stats through 2023-04-18\n",
      "Getting stats through 2023-04-19\n",
      "Getting stats through 2023-04-20\n",
      "Getting stats through 2023-04-21\n",
      "Getting stats through 2023-04-22\n",
      "Getting stats through 2023-04-23\n",
      "Getting stats through 2023-04-24\n",
      "Getting stats through 2023-04-25\n",
      "Getting stats through 2023-04-26\n",
      "Getting stats through 2023-04-27\n",
      "Getting stats through 2023-04-28\n",
      "Getting stats through 2023-04-29\n",
      "Getting stats through 2023-04-30\n",
      "Getting stats through 2023-05-01\n",
      "Getting stats through 2023-05-02\n",
      "Getting stats through 2023-05-03\n",
      "Getting stats through 2023-05-04\n",
      "Getting stats through 2023-05-05\n",
      "Getting stats through 2023-05-06\n",
      "Getting stats through 2023-05-07\n",
      "Getting stats through 2023-05-08\n",
      "Getting stats through 2023-05-09\n",
      "Getting stats through 2023-05-10\n",
      "Getting stats through 2023-05-11\n",
      "Getting stats through 2023-05-12\n",
      "Getting stats through 2023-05-13\n",
      "Getting stats through 2023-05-14\n",
      "Getting stats through 2023-05-15\n",
      "Getting stats through 2023-05-16\n",
      "Getting stats through 2023-05-17\n",
      "Getting stats through 2023-05-18\n",
      "Getting stats through 2023-05-19\n",
      "Getting stats through 2023-05-20\n",
      "Getting stats through 2023-05-21\n",
      "Getting stats through 2023-05-22\n",
      "Getting stats through 2023-05-23\n",
      "Getting stats through 2023-05-24\n",
      "Getting stats through 2023-05-25\n",
      "Getting stats through 2023-05-26\n",
      "Getting stats through 2023-05-27\n",
      "Getting stats through 2023-05-28\n",
      "Getting stats through 2023-05-29\n",
      "Getting stats through 2023-05-30\n",
      "Getting stats through 2023-05-31\n",
      "Getting stats through 2023-06-01\n",
      "Getting stats through 2023-06-02\n",
      "Getting stats through 2023-06-03\n",
      "Getting stats through 2023-06-04\n",
      "Getting stats through 2023-06-05\n",
      "Getting stats through 2023-06-06\n",
      "Getting stats through 2023-06-07\n",
      "Getting stats through 2023-06-08\n",
      "Getting stats through 2023-06-09\n",
      "Getting stats through 2023-06-10\n",
      "Getting stats through 2023-06-11\n",
      "Getting stats through 2023-06-12\n",
      "Getting stats through 2023-06-13\n",
      "Getting stats through 2023-06-14\n",
      "Getting stats through 2023-06-15\n",
      "Getting stats through 2023-06-16\n",
      "Getting stats through 2023-06-17\n",
      "Getting stats through 2023-06-18\n",
      "Getting stats through 2023-06-19\n",
      "Getting stats through 2023-06-20\n",
      "Getting stats through 2023-06-21\n",
      "Getting stats through 2023-06-22\n",
      "Getting stats through 2023-06-23\n",
      "Getting stats through 2023-06-24\n"
     ]
    }
   ],
   "source": [
    "stats = {\n",
    "    '2023': [],\n",
    "    '2022': [],\n",
    "    '2021': []\n",
    "}\n",
    "for season in seasons:\n",
    "    # Create a list of dates for the season\n",
    "    dates = compute_season_dates(seasons[season])\n",
    "    \n",
    "    # Compute the stats through each date for the season\n",
    "    stats[season] = compute_stats(season_data[season], dates)\n",
    "    \n",
    "    for i, date in enumerate(stats[season]):\n",
    "        date.to_csv(f'stats_{season}_{i}.csv', index=False)\n"
   ]
  },
  {
   "cell_type": "code",
   "execution_count": null,
   "metadata": {},
   "outputs": [],
   "source": [
    "# Save the data to a csv\n",
    "for season in stats:\n",
    "    for i, date in enumerate(stats[season]):\n",
    "        date.to_csv(f'batting_stats_{season}_{i}.csv', index=False)    "
   ]
  }
 ],
 "metadata": {
  "kernelspec": {
   "display_name": "statstability",
   "language": "python",
   "name": "python3"
  },
  "language_info": {
   "codemirror_mode": {
    "name": "ipython",
    "version": 3
   },
   "file_extension": ".py",
   "mimetype": "text/x-python",
   "name": "python",
   "nbconvert_exporter": "python",
   "pygments_lexer": "ipython3",
   "version": "3.12.1"
  }
 },
 "nbformat": 4,
 "nbformat_minor": 2
}
