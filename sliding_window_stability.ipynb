{
 "cells": [
  {
   "cell_type": "code",
   "execution_count": 1,
   "metadata": {},
   "outputs": [],
   "source": [
    "import pickle\n",
    "import plotly.express as px\n",
    "from plotly.graph_objs import Figure\n",
    "import pandas as pd\n",
    "import numpy as np\n",
    "import matplotlib.pyplot as plt\n",
    "import seaborn as sns\n",
    "import plotly.graph_objects as go\n",
    "import os\n",
    "import shutil\n"
   ]
  },
  {
   "cell_type": "markdown",
   "metadata": {},
   "source": [
    "# Utility Functions"
   ]
  },
  {
   "cell_type": "code",
   "execution_count": 2,
   "metadata": {},
   "outputs": [],
   "source": [
    "def create_figure(df, x_column, y_column) -> Figure:\n",
    "    x_data = df[x_column]\n",
    "    y_data = df[y_column]\n",
    "\n",
    "    min_value = y_data.min()\n",
    "    max_value = y_data.max()\n",
    "    season_value = y_data.iloc[-1]\n",
    "    \n",
    "    fig = px.line(x=x_data, y=y_data, markers=True)\n",
    "    fig.update_layout(\n",
    "        xaxis_title=x_column,\n",
    "        yaxis_title=y_column,\n",
    "        title=f'{df['Name'].iloc[0]} {y_column} over time'\n",
    "    )\n",
    "    fig.add_hline(y=min_value, line_dash=\"dot\", line_color=\"black\", annotation_text=f'Min: {min_value}', annotation_position=\"bottom right\")\n",
    "    fig.add_hline(y=max_value, line_dash=\"dot\", line_color=\"black\", annotation_text=f'Max: {max_value}', annotation_position=\"top right\")\n",
    "    \n",
    "    fig.add_annotation(text=f\"End of Season Value {season_value}\", x=x_data.iloc[-12], y=season_value-season_value*0.05, showarrow=False)\n",
    "    \n",
    "    fig.update_yaxes(nticks=20)\n",
    "    return fig"
   ]
  },
  {
   "cell_type": "code",
   "execution_count": 45,
   "metadata": {},
   "outputs": [],
   "source": [
    "def create_stability_animation(df, x_column, y_column, thresholds, log):\n",
    "    directory = './images'\n",
    "    # remove files from ./images\n",
    "    for filename in os.listdir(directory):\n",
    "        file_path = os.path.join(directory, filename)\n",
    "        try:\n",
    "            if os.path.isfile(file_path) or os.path.islink(file_path):\n",
    "                os.unlink(file_path)\n",
    "            elif os.path.isdir(file_path):\n",
    "                shutil.rmtree(file_path)\n",
    "        except Exception as e:\n",
    "            print('Failed to delete %s. Reason: %s' % (file_path, e))\n",
    "    \n",
    "    x_data = list(range(1,len(df[x_column])))\n",
    "    y_data = list(df[y_column])\n",
    "    x_axis = [x_data[0], x_data[-1]]\n",
    "    y_axis = [min(y_data)-0.05*max(y_data), max(y_data)+0.05*max(y_data)]\n",
    "\n",
    "    for i, (x_val, y_val) in enumerate(zip(x_data, y_data)):\n",
    "        fig = go.Figure()\n",
    "        fig.update_layout(\n",
    "            title=f'{df[\"Name\"].iloc[0]} {y_column} over time',\n",
    "            xaxis_title='Player Game',\n",
    "            yaxis_title=y_column,\n",
    "            xaxis_range=x_axis,\n",
    "            yaxis_range=y_axis,\n",
    "            showlegend=False,\n",
    "            template= \"simple_white\"\n",
    "        )\n",
    "        k = i-(thresholds['window']['size']-1)\n",
    "        if k < len(log) and i >= thresholds['window']['size']-1:\n",
    "            fig.add_annotation(text=f\"Game: {log[k]['Game']}<br>Mean: {round(log[k]['Window Mean'],3)}<br>Std Dev: {round(log[k]['Window Std'],3)}\", x=x_val, y=(y_axis[1]-y_axis[0])/2+y_axis[0], showarrow=False, align=\"left\", xanchor=\"left\")\n",
    "            fig.add_annotation(text=f\"Std Dev ROC: {round(log[k]['Std ROC'],3)}\", x=x_val, y=y_axis[0]+y_axis[0]*0.1, showarrow=False, align=\"left\", xanchor=\"left\")\n",
    "            shape_x_ref = x_data[i]\n",
    "            line_thickness = 2\n",
    "            line_dash = \"dot\"\n",
    "            line_color = \"red\"\n",
    "        elif i < thresholds['window']['size']-1:\n",
    "            shape_x_ref = -1\n",
    "            line_thickness = 2\n",
    "            line_dash = \"dot\"\n",
    "            line_color = \"red\"\n",
    "        else:\n",
    "            fig.add_annotation(text=f\"<b>Game: {log[-1]['Game']}<br>Mean: {round(log[-1]['Window Mean'],3)}<br>Std Dev: {round(log[-1]['Window Std'],3)}</b>\", x=x_data[len(log)+thresholds['window']['size']], y=(y_axis[1]-y_axis[0])/2+y_axis[0], showarrow=False, align=\"left\", xanchor=\"left\")\n",
    "            fig.add_annotation(text=f\"<b>Std Dev ROC: {round(log[-1]['Std ROC'])}</b>\", x=x_data[len(log)+thresholds['window']['size']], y=y_axis[0]+y_axis[0]*0.1, showarrow=False, align=\"left\", xanchor=\"left\")\n",
    "            shape_x_ref = x_data[len(log)+thresholds['window']['size']]\n",
    "            line_thickness = 4\n",
    "            line_dash = \"solid\"\n",
    "            line_color = \"green\"\n",
    "            fig.add_shape(type=\"line\",\n",
    "                            x0=shape_x_ref, y0=log[-1]['Window Mean'], x1=x_data[-1], y1=log[-1]['Window Mean'],  # Start and end points of the line\n",
    "                            line=dict(color=\"black\", width=1, dash='dot')  # Line style\n",
    "                         )\n",
    "        fig.add_trace(go.Scatter(x=x_data[:i+1], y=y_data[:i+1], mode='lines+markers',\n",
    "                                 line=dict(width=2), marker=dict(size=5)))\n",
    "        fig.add_trace(go.Scatter(x=[x_val], y=[y_val], mode='markers', marker=dict(color='red', size=5)))\n",
    "        fig.add_shape(type='rect',\n",
    "                      x0=shape_x_ref-(thresholds['window']['size']-1), y0=0, x1=shape_x_ref, y1=1,\n",
    "                      xref='x', yref='paper', line=dict(color='red', width=0), fillcolor='red', opacity=0.2)\n",
    "        \n",
    "        fig.add_vline(x=shape_x_ref, line_dash=line_dash, line_color=line_color, line_width=line_thickness)\n",
    "\n",
    "        fig.add_shape(type='rect',\n",
    "                    x0=shape_x_ref-(thresholds['window']['size']-1)-thresholds['window']['lag'], y0=0, x1=shape_x_ref-thresholds['window']['lag'], y1=1,\n",
    "                    xref='x', yref='paper', line=dict(color='red', width=0), fillcolor='blue', opacity=0.2)\n",
    "        \n",
    "        fig.write_image(f'./images/{i+1}.png')\n",
    "    return"
   ]
  },
  {
   "cell_type": "code",
   "execution_count": 4,
   "metadata": {},
   "outputs": [],
   "source": [
    "def compute_league_variance(dfs:dict):\n",
    "    \"\"\"\n",
    "    Compute the season stat variance of each stat across the league \n",
    "    \"\"\"\n",
    "    stat_columns = ['BA','OBP','SLG','OPS','wOBA','K%','BB%','ISO','wRC+']\n",
    "    player_values = {}\n",
    "    for key, df in dfs.items():\n",
    "        player_values[key] = df[stat_columns].iloc[-1].to_dict()\n",
    "    \n",
    "    return pd.DataFrame(player_values).T"
   ]
  },
  {
   "cell_type": "markdown",
   "metadata": {},
   "source": [
    "# Stability Algorithms"
   ]
  },
  {
   "cell_type": "code",
   "execution_count": 5,
   "metadata": {},
   "outputs": [],
   "source": [
    "def sliding_window_stability(dfs:dict, stat:str, thresholds:dict, player='all', log_stat='OPS') -> dict:\n",
    "    \"\"\"\n",
    "    Works by computing the standard deviation for a given stat over a sliding window of games\n",
    "    so that we can see how a player's performance stabilizes over time\n",
    "    \"\"\"\n",
    "    window_size = thresholds['window']['size'] # games\n",
    "    window_lag = thresholds['window']['lag'] # games\n",
    "    lagged_std = 0\n",
    "    log = []\n",
    "    log_flag = False\n",
    "    stability_columns = [f'Season {stat}', f'Game Threshold {stat}', f'{stat} Mean', f'{stat} Std']\n",
    "    stability = pd.DataFrame(index=dfs.keys(), columns=stability_columns, dtype=float).fillna(-1)\n",
    "\n",
    "    for player_id, df in dfs.items():\n",
    "        i = 0\n",
    "        stability.at[player_id,f'Season {stat}'] = df[stat].iloc[-1]\n",
    "        stability.at[player_id,f'Game Threshold {stat}'] = df['G'].iloc[-1]\n",
    "        stability.at[player_id,f'{stat} Mean'] = -1\n",
    "        stability.at[player_id,f'{stat} Std'] = -1\n",
    "\n",
    "        while i+window_size < len(df):\n",
    "            window_stats = df.iloc[i:i+window_size][stat]\n",
    "            window_std = window_stats.std()\n",
    "            window_mean = window_stats.mean()\n",
    "            mean_diff = abs(window_mean - stability.at[player_id,f'Season {stat}']) / stability.at[player_id,f'Season {stat}'] # % difference\n",
    "            window_std_roc = abs(window_std - lagged_std)\n",
    "\n",
    "            if player_id == player and stat == log_stat:\n",
    "                log.append({\n",
    "                    'Player Game': i+window_size,\n",
    "                    'Window Mean': window_mean,\n",
    "                    'Window Std': window_std,\n",
    "                    'Mean Diff': mean_diff,\n",
    "                    'Std ROC': window_std_roc\n",
    "                })\n",
    "                log_flag = True\n",
    "\n",
    "            if window_std < thresholds[stat]['std'] and mean_diff < thresholds[stat]['mean'] and window_std_roc < thresholds[stat]['std_roc']:\n",
    "                stability.at[player_id, f'Game Threshold {stat}'] = i+window_size\n",
    "                stability.at[player_id, f'{stat} Mean'] = window_mean\n",
    "                stability.at[player_id, f'{stat} Std'] = window_std\n",
    "                break\n",
    "            i+=1\n",
    "            # if i-window_lag > 0:\n",
    "            lagged_window = df.iloc[i-window_lag:i-window_lag+window_size][stat]\n",
    "            lagged_std = lagged_window.std()\n",
    "    if log_flag:\n",
    "        return stability, log\n",
    "    else:\n",
    "        return stability\n"
   ]
  },
  {
   "cell_type": "markdown",
   "metadata": {},
   "source": [
    "The above code computes stability off of when at a certain point a window gets below a standard deviation threshhold and a difference between the current value and the season mean. I worry that this is not a comprehensive way to measure stability since you could essentially get lucky by finding a temporarily stable period of time that is relatively close to the player's season value. \n",
    "\n",
    "Ideas to get around this:\n",
    "* After you find the first window match (let's say at 65 games), compute how many \"false\" windows follow it (how many don't satisfy the threshold criteria). If the number of false windows is below another threshold, then keep the first window match, else move to the next one\n",
    "* Create a measure of the std deviation rate of change - negative values means the value is getting more stable, then as it approaches 0 it's getting as stable as it will get\n",
    "\n",
    "Will start by implementing the second option"
   ]
  },
  {
   "cell_type": "markdown",
   "metadata": {},
   "source": [
    "# Analysis"
   ]
  },
  {
   "cell_type": "code",
   "execution_count": 6,
   "metadata": {},
   "outputs": [
    {
     "data": {
      "text/plain": [
       "dict_keys([682928, 547989, 660670, 642715, 645277, 624413, 641313, 606115, 571448, 668227, 650333, 595879, 605137, 641355, 643217, 605141, 666182, 593428, 664761, 608324, 600869, 592192, 682998, 592206, 656305, 661388, 621043, 641487, 630105, 605204, 650559, 646240, 553869, 650490, 592273, 669242, 642731, 664034, 518692, 670770, 666969, 665926, 502671, 663757, 665489, 666971, 664023, 671739, 663647, 669720, 683002, 571771, 606192, 663538, 663697, 673962, 673490, 680757, 518934, 596019, 663993, 592518, 606466, 656716, 641857, 643446, 669004, 608841, 593160, 571970, 607043, 663457, 660271, 621566, 681546, 542303, 670623, 665161, 521692, 663728, 608070, 592663, 592669, 668804, 663586, 673357, 677594, 667670, 642708, 660688, 668939, 467793, 623993, 656941, 608369, 543760, 642086, 669257, 624585, 665742, 543807, 668715, 663886, 681082, 664702, 553993, 669261, 621020, 657041, 679529, 650402, 678662, 663656, 457759, 607208, 662139, 683734, 657077, 663837, 683011, 664774, 572233, 677951, 592885, 807799, 592696, 595777, 669394, 665750, 673548, 665487, 672580, 547180])"
      ]
     },
     "execution_count": 6,
     "metadata": {},
     "output_type": "execute_result"
    }
   ],
   "source": [
    "player_dfs_2023 = pickle.load(open('2023_player_dfs.pkl', 'rb'))\n",
    "player_dfs_2023.keys()"
   ]
  },
  {
   "cell_type": "code",
   "execution_count": 7,
   "metadata": {},
   "outputs": [
    {
     "data": {
      "text/html": [
       "<div>\n",
       "<style scoped>\n",
       "    .dataframe tbody tr th:only-of-type {\n",
       "        vertical-align: middle;\n",
       "    }\n",
       "\n",
       "    .dataframe tbody tr th {\n",
       "        vertical-align: top;\n",
       "    }\n",
       "\n",
       "    .dataframe thead th {\n",
       "        text-align: right;\n",
       "    }\n",
       "</style>\n",
       "<table border=\"1\" class=\"dataframe\">\n",
       "  <thead>\n",
       "    <tr style=\"text-align: right;\">\n",
       "      <th></th>\n",
       "      <th>BA</th>\n",
       "      <th>OBP</th>\n",
       "      <th>SLG</th>\n",
       "      <th>OPS</th>\n",
       "      <th>wOBA</th>\n",
       "      <th>K%</th>\n",
       "      <th>BB%</th>\n",
       "      <th>ISO</th>\n",
       "      <th>wRC+</th>\n",
       "    </tr>\n",
       "  </thead>\n",
       "  <tbody>\n",
       "    <tr>\n",
       "      <th>count</th>\n",
       "      <td>133.000000</td>\n",
       "      <td>133.000000</td>\n",
       "      <td>133.000000</td>\n",
       "      <td>133.000000</td>\n",
       "      <td>133.000000</td>\n",
       "      <td>133.000000</td>\n",
       "      <td>133.000000</td>\n",
       "      <td>133.000000</td>\n",
       "      <td>133.000000</td>\n",
       "    </tr>\n",
       "    <tr>\n",
       "      <th>mean</th>\n",
       "      <td>0.261774</td>\n",
       "      <td>0.334398</td>\n",
       "      <td>0.444383</td>\n",
       "      <td>0.778714</td>\n",
       "      <td>0.417922</td>\n",
       "      <td>0.207879</td>\n",
       "      <td>0.089364</td>\n",
       "      <td>0.182616</td>\n",
       "      <td>17.833764</td>\n",
       "    </tr>\n",
       "    <tr>\n",
       "      <th>std</th>\n",
       "      <td>0.025463</td>\n",
       "      <td>0.029555</td>\n",
       "      <td>0.060298</td>\n",
       "      <td>0.081808</td>\n",
       "      <td>0.044471</td>\n",
       "      <td>0.052094</td>\n",
       "      <td>0.029938</td>\n",
       "      <td>0.050986</td>\n",
       "      <td>3.557708</td>\n",
       "    </tr>\n",
       "    <tr>\n",
       "      <th>min</th>\n",
       "      <td>0.197000</td>\n",
       "      <td>0.267000</td>\n",
       "      <td>0.296000</td>\n",
       "      <td>0.582000</td>\n",
       "      <td>0.297691</td>\n",
       "      <td>0.055105</td>\n",
       "      <td>0.032759</td>\n",
       "      <td>0.050710</td>\n",
       "      <td>8.215267</td>\n",
       "    </tr>\n",
       "    <tr>\n",
       "      <th>25%</th>\n",
       "      <td>0.248000</td>\n",
       "      <td>0.315000</td>\n",
       "      <td>0.407000</td>\n",
       "      <td>0.717000</td>\n",
       "      <td>0.386575</td>\n",
       "      <td>0.170608</td>\n",
       "      <td>0.065123</td>\n",
       "      <td>0.153518</td>\n",
       "      <td>15.326027</td>\n",
       "    </tr>\n",
       "    <tr>\n",
       "      <th>50%</th>\n",
       "      <td>0.262000</td>\n",
       "      <td>0.328000</td>\n",
       "      <td>0.441000</td>\n",
       "      <td>0.778000</td>\n",
       "      <td>0.417373</td>\n",
       "      <td>0.209756</td>\n",
       "      <td>0.088123</td>\n",
       "      <td>0.178752</td>\n",
       "      <td>17.789855</td>\n",
       "    </tr>\n",
       "    <tr>\n",
       "      <th>75%</th>\n",
       "      <td>0.275000</td>\n",
       "      <td>0.352000</td>\n",
       "      <td>0.475000</td>\n",
       "      <td>0.818000</td>\n",
       "      <td>0.441756</td>\n",
       "      <td>0.238532</td>\n",
       "      <td>0.105008</td>\n",
       "      <td>0.209480</td>\n",
       "      <td>19.740458</td>\n",
       "    </tr>\n",
       "    <tr>\n",
       "      <th>max</th>\n",
       "      <td>0.354000</td>\n",
       "      <td>0.416000</td>\n",
       "      <td>0.654000</td>\n",
       "      <td>1.066000</td>\n",
       "      <td>0.559221</td>\n",
       "      <td>0.326996</td>\n",
       "      <td>0.186441</td>\n",
       "      <td>0.350101</td>\n",
       "      <td>29.137716</td>\n",
       "    </tr>\n",
       "  </tbody>\n",
       "</table>\n",
       "</div>"
      ],
      "text/plain": [
       "               BA         OBP         SLG         OPS        wOBA          K%  \\\n",
       "count  133.000000  133.000000  133.000000  133.000000  133.000000  133.000000   \n",
       "mean     0.261774    0.334398    0.444383    0.778714    0.417922    0.207879   \n",
       "std      0.025463    0.029555    0.060298    0.081808    0.044471    0.052094   \n",
       "min      0.197000    0.267000    0.296000    0.582000    0.297691    0.055105   \n",
       "25%      0.248000    0.315000    0.407000    0.717000    0.386575    0.170608   \n",
       "50%      0.262000    0.328000    0.441000    0.778000    0.417373    0.209756   \n",
       "75%      0.275000    0.352000    0.475000    0.818000    0.441756    0.238532   \n",
       "max      0.354000    0.416000    0.654000    1.066000    0.559221    0.326996   \n",
       "\n",
       "              BB%         ISO        wRC+  \n",
       "count  133.000000  133.000000  133.000000  \n",
       "mean     0.089364    0.182616   17.833764  \n",
       "std      0.029938    0.050986    3.557708  \n",
       "min      0.032759    0.050710    8.215267  \n",
       "25%      0.065123    0.153518   15.326027  \n",
       "50%      0.088123    0.178752   17.789855  \n",
       "75%      0.105008    0.209480   19.740458  \n",
       "max      0.186441    0.350101   29.137716  "
      ]
     },
     "execution_count": 7,
     "metadata": {},
     "output_type": "execute_result"
    }
   ],
   "source": [
    "df = compute_league_variance(player_dfs_2023)\n",
    "df.describe()"
   ]
  },
  {
   "cell_type": "code",
   "execution_count": 35,
   "metadata": {},
   "outputs": [],
   "source": [
    "# Thresholds set by global accuracy threshold to final season value\n",
    "thresholds = {\n",
    "    'window':{\n",
    "        'size': 20,\n",
    "        'lag': 10\n",
    "    },\n",
    "    'BA': {\n",
    "        'std': 0.015,\n",
    "        'std_roc': 0.002,\n",
    "        'mean': 0.05\n",
    "    },\n",
    "    'OBP': {\n",
    "        'std': 0.02,\n",
    "        'std_roc': 0.003,\n",
    "        'mean': 0.05\n",
    "    },\n",
    "    'SLG': {\n",
    "        'std': 0.04,\n",
    "        'std_roc': 0.006,\n",
    "        'mean': 0.05\n",
    "    },\n",
    "    'OPS': {\n",
    "        'std': 0.05,\n",
    "        'std_roc': 0.008,\n",
    "        'mean': 0.05\n",
    "    },\n",
    "    'wOBA': {\n",
    "        'std': 0.03,\n",
    "        'std_roc': 0.006,\n",
    "        'mean': 0.05\n",
    "    },\n",
    "    'K%': {\n",
    "        'std': 0.03,\n",
    "        'std_roc': 0.002,\n",
    "        'mean': 0.05\n",
    "    },\n",
    "    'BB%': {\n",
    "        'std': 0.03,\n",
    "        'std_roc': 0.002,\n",
    "        'mean': 0.1 \n",
    "    },\n",
    "    'ISO': {\n",
    "        'std': 0.03,\n",
    "        'std_roc': 0.002,\n",
    "        'mean': 0.15\n",
    "    },\n",
    "    'wRC+': {\n",
    "        'std': 1.5,\n",
    "        'std_roc': 0.15,\n",
    "        'mean': 0.05\n",
    "    }\n",
    "}"
   ]
  },
  {
   "cell_type": "code",
   "execution_count": 36,
   "metadata": {},
   "outputs": [
    {
     "name": "stdout",
     "output_type": "stream",
     "text": [
      "Computing stability for BA\n",
      "Computing stability for OBP\n",
      "Computing stability for SLG\n",
      "Computing stability for OPS\n",
      "Computing stability for wOBA\n",
      "Computing stability for K%\n",
      "Computing stability for BB%\n",
      "Computing stability for ISO\n",
      "Computing stability for wRC+\n"
     ]
    }
   ],
   "source": [
    "player_key = 595879\n",
    "stability_df = pd.DataFrame()\n",
    "stat_columns = ['BA','OBP','SLG','OPS','wOBA','K%','BB%','ISO','wRC+']\n",
    "for stat in stat_columns:\n",
    "    print(f\"Computing stability for {stat}\")\n",
    "    if stat == 'OPS':\n",
    "        stability, log = sliding_window_stability(player_dfs_2023, stat, thresholds, player=player_key, log_stat='OPS')\n",
    "    else:\n",
    "        stability = sliding_window_stability(player_dfs_2023, stat, thresholds)\n",
    "    stability_df = pd.concat([stability_df, stability], axis=1)"
   ]
  },
  {
   "cell_type": "code",
   "execution_count": 45,
   "metadata": {},
   "outputs": [],
   "source": [
    "stability_df['BA Error'] = ((stability_df['BA Mean'] - stability_df['Season BA']) / stability_df['Season BA']).abs()\n",
    "stability_df['OBP Error'] = ((stability_df['OBP Mean'] - stability_df['Season OBP']) / stability_df['Season OBP']).abs()\n",
    "stability_df['SLG Error'] = ((stability_df['SLG Mean'] - stability_df['Season SLG']) / stability_df['Season SLG']).abs() \n",
    "stability_df['OPS Error'] = ((stability_df['OPS Mean'] - stability_df['Season OPS']) / stability_df['Season OPS']).abs() \n",
    "stability_df['wOBA Error'] = ((stability_df['wOBA Mean'] - stability_df['Season wOBA']) / stability_df['Season wOBA']).abs()\n",
    "stability_df['K% Error'] = ((stability_df['K% Mean'] - stability_df['Season K%']) / stability_df['Season K%']).abs() \n",
    "stability_df['BB% Error'] = ((stability_df['BB% Mean'] - stability_df['Season BB%']) / stability_df['Season BB%']).abs()\n",
    "stability_df['ISO Error'] = ((stability_df['ISO Mean'] - stability_df['Season ISO']) / stability_df['Season ISO']).abs()\n",
    "stability_df['wRC+ Error'] = ((stability_df['wRC+ Mean'] - stability_df['Season wRC+']) / stability_df['Season wRC+']).abs()"
   ]
  },
  {
   "cell_type": "code",
   "execution_count": 46,
   "metadata": {},
   "outputs": [
    {
     "data": {
      "application/vnd.plotly.v1+json": {
       "config": {
        "plotlyServerURL": "https://plot.ly"
       },
       "data": [
        {
         "hovertemplate": "x=%{x}<br>y=%{y}<extra></extra>",
         "legendgroup": "",
         "line": {
          "color": "#636efa",
          "dash": "solid"
         },
         "marker": {
          "symbol": "circle"
         },
         "mode": "lines+markers",
         "name": "",
         "orientation": "v",
         "showlegend": false,
         "type": "scatter",
         "x": [
          1,
          2,
          3,
          4,
          5,
          6,
          7,
          8,
          9,
          10,
          11,
          12,
          13,
          14,
          16,
          17,
          18,
          19,
          20,
          21,
          22,
          24,
          25,
          27,
          28,
          29,
          30,
          31,
          32,
          33,
          34,
          35,
          36,
          37,
          38,
          39,
          40,
          41,
          42,
          43,
          44,
          45,
          46,
          47,
          48,
          49,
          50,
          51,
          52,
          53,
          54,
          55,
          56,
          57,
          58,
          59,
          60,
          61,
          63,
          64,
          65,
          66,
          67,
          68,
          69,
          70,
          71,
          72,
          73,
          74,
          75,
          76,
          77,
          78,
          79,
          80,
          81,
          82,
          83,
          84,
          85,
          86,
          87,
          88,
          89,
          90,
          91,
          92,
          93,
          94,
          95,
          96,
          98,
          99,
          100,
          101,
          102,
          103,
          104,
          105,
          106,
          107,
          108,
          109,
          110,
          111,
          112,
          113,
          114,
          115,
          116,
          117,
          118,
          119,
          120,
          121,
          122,
          123,
          124,
          125,
          126,
          127,
          128,
          129,
          130,
          131,
          132,
          133,
          134,
          135,
          136
         ],
         "xaxis": "x",
         "y": [
          0.833,
          0.452,
          0.282,
          0.321,
          0.243,
          0.232,
          0.228,
          0.198,
          0.293,
          0.291,
          0.263,
          0.328,
          0.449,
          0.504,
          0.5,
          0.5,
          0.5,
          0.5,
          0.542,
          0.571,
          0.58,
          0.544,
          0.575,
          0.612,
          0.65,
          0.716,
          0.714,
          0.707,
          0.694,
          0.667,
          0.695,
          0.689,
          0.684,
          0.674,
          0.669,
          0.656,
          0.635,
          0.619,
          0.608,
          0.628,
          0.636,
          0.629,
          0.623,
          0.61,
          0.594,
          0.592,
          0.578,
          0.581,
          0.599,
          0.588,
          0.583,
          0.572,
          0.571,
          0.57,
          0.588,
          0.578,
          0.576,
          0.584,
          0.587,
          0.599,
          0.614,
          0.607,
          0.62,
          0.622,
          0.628,
          0.623,
          0.615,
          0.606,
          0.597,
          0.596,
          0.59,
          0.593,
          0.592,
          0.583,
          0.59,
          0.582,
          0.579,
          0.597,
          0.59,
          0.584,
          0.589,
          0.582,
          0.582,
          0.575,
          0.59,
          0.601,
          0.595,
          0.604,
          0.605,
          0.6,
          0.599,
          0.596,
          0.589,
          0.595,
          0.592,
          0.594,
          0.593,
          0.593,
          0.588,
          0.587,
          0.589,
          0.584,
          0.584,
          0.582,
          0.585,
          0.592,
          0.592,
          0.594,
          0.593,
          0.592,
          0.59,
          0.586,
          0.581,
          0.579,
          0.586,
          0.589,
          0.586,
          0.586,
          0.581,
          0.576,
          0.576,
          0.586,
          0.586,
          0.585,
          0.583,
          0.591,
          0.591,
          0.587,
          0.587,
          0.588,
          0.593
         ],
         "yaxis": "y"
        }
       ],
       "layout": {
        "annotations": [
         {
          "showarrow": false,
          "text": "Min: 0.198",
          "x": 1,
          "xanchor": "right",
          "xref": "x domain",
          "y": 0.198,
          "yanchor": "top",
          "yref": "y"
         },
         {
          "showarrow": false,
          "text": "Max: 0.833",
          "x": 1,
          "xanchor": "right",
          "xref": "x domain",
          "y": 0.833,
          "yanchor": "bottom",
          "yref": "y"
         },
         {
          "showarrow": false,
          "text": "End of Season Value 0.593",
          "x": 125,
          "y": 0.56335
         },
         {
          "showarrow": false,
          "text": "OPS Stabilized (Est: 0.612)",
          "x": 47,
          "xanchor": "left",
          "xref": "x",
          "y": 0,
          "yanchor": "bottom",
          "yref": "y domain"
         }
        ],
        "legend": {
         "tracegroupgap": 0
        },
        "margin": {
         "t": 60
        },
        "shapes": [
         {
          "line": {
           "color": "black",
           "dash": "dot"
          },
          "type": "line",
          "x0": 0,
          "x1": 1,
          "xref": "x domain",
          "y0": 0.198,
          "y1": 0.198,
          "yref": "y"
         },
         {
          "line": {
           "color": "black",
           "dash": "dot"
          },
          "type": "line",
          "x0": 0,
          "x1": 1,
          "xref": "x domain",
          "y0": 0.833,
          "y1": 0.833,
          "yref": "y"
         },
         {
          "line": {
           "color": "black",
           "dash": "dot"
          },
          "type": "line",
          "x0": 47,
          "x1": 47,
          "xref": "x",
          "y0": 0,
          "y1": 1,
          "yref": "y domain"
         }
        ],
        "template": {
         "data": {
          "bar": [
           {
            "error_x": {
             "color": "#2a3f5f"
            },
            "error_y": {
             "color": "#2a3f5f"
            },
            "marker": {
             "line": {
              "color": "#E5ECF6",
              "width": 0.5
             },
             "pattern": {
              "fillmode": "overlay",
              "size": 10,
              "solidity": 0.2
             }
            },
            "type": "bar"
           }
          ],
          "barpolar": [
           {
            "marker": {
             "line": {
              "color": "#E5ECF6",
              "width": 0.5
             },
             "pattern": {
              "fillmode": "overlay",
              "size": 10,
              "solidity": 0.2
             }
            },
            "type": "barpolar"
           }
          ],
          "carpet": [
           {
            "aaxis": {
             "endlinecolor": "#2a3f5f",
             "gridcolor": "white",
             "linecolor": "white",
             "minorgridcolor": "white",
             "startlinecolor": "#2a3f5f"
            },
            "baxis": {
             "endlinecolor": "#2a3f5f",
             "gridcolor": "white",
             "linecolor": "white",
             "minorgridcolor": "white",
             "startlinecolor": "#2a3f5f"
            },
            "type": "carpet"
           }
          ],
          "choropleth": [
           {
            "colorbar": {
             "outlinewidth": 0,
             "ticks": ""
            },
            "type": "choropleth"
           }
          ],
          "contour": [
           {
            "colorbar": {
             "outlinewidth": 0,
             "ticks": ""
            },
            "colorscale": [
             [
              0,
              "#0d0887"
             ],
             [
              0.1111111111111111,
              "#46039f"
             ],
             [
              0.2222222222222222,
              "#7201a8"
             ],
             [
              0.3333333333333333,
              "#9c179e"
             ],
             [
              0.4444444444444444,
              "#bd3786"
             ],
             [
              0.5555555555555556,
              "#d8576b"
             ],
             [
              0.6666666666666666,
              "#ed7953"
             ],
             [
              0.7777777777777778,
              "#fb9f3a"
             ],
             [
              0.8888888888888888,
              "#fdca26"
             ],
             [
              1,
              "#f0f921"
             ]
            ],
            "type": "contour"
           }
          ],
          "contourcarpet": [
           {
            "colorbar": {
             "outlinewidth": 0,
             "ticks": ""
            },
            "type": "contourcarpet"
           }
          ],
          "heatmap": [
           {
            "colorbar": {
             "outlinewidth": 0,
             "ticks": ""
            },
            "colorscale": [
             [
              0,
              "#0d0887"
             ],
             [
              0.1111111111111111,
              "#46039f"
             ],
             [
              0.2222222222222222,
              "#7201a8"
             ],
             [
              0.3333333333333333,
              "#9c179e"
             ],
             [
              0.4444444444444444,
              "#bd3786"
             ],
             [
              0.5555555555555556,
              "#d8576b"
             ],
             [
              0.6666666666666666,
              "#ed7953"
             ],
             [
              0.7777777777777778,
              "#fb9f3a"
             ],
             [
              0.8888888888888888,
              "#fdca26"
             ],
             [
              1,
              "#f0f921"
             ]
            ],
            "type": "heatmap"
           }
          ],
          "heatmapgl": [
           {
            "colorbar": {
             "outlinewidth": 0,
             "ticks": ""
            },
            "colorscale": [
             [
              0,
              "#0d0887"
             ],
             [
              0.1111111111111111,
              "#46039f"
             ],
             [
              0.2222222222222222,
              "#7201a8"
             ],
             [
              0.3333333333333333,
              "#9c179e"
             ],
             [
              0.4444444444444444,
              "#bd3786"
             ],
             [
              0.5555555555555556,
              "#d8576b"
             ],
             [
              0.6666666666666666,
              "#ed7953"
             ],
             [
              0.7777777777777778,
              "#fb9f3a"
             ],
             [
              0.8888888888888888,
              "#fdca26"
             ],
             [
              1,
              "#f0f921"
             ]
            ],
            "type": "heatmapgl"
           }
          ],
          "histogram": [
           {
            "marker": {
             "pattern": {
              "fillmode": "overlay",
              "size": 10,
              "solidity": 0.2
             }
            },
            "type": "histogram"
           }
          ],
          "histogram2d": [
           {
            "colorbar": {
             "outlinewidth": 0,
             "ticks": ""
            },
            "colorscale": [
             [
              0,
              "#0d0887"
             ],
             [
              0.1111111111111111,
              "#46039f"
             ],
             [
              0.2222222222222222,
              "#7201a8"
             ],
             [
              0.3333333333333333,
              "#9c179e"
             ],
             [
              0.4444444444444444,
              "#bd3786"
             ],
             [
              0.5555555555555556,
              "#d8576b"
             ],
             [
              0.6666666666666666,
              "#ed7953"
             ],
             [
              0.7777777777777778,
              "#fb9f3a"
             ],
             [
              0.8888888888888888,
              "#fdca26"
             ],
             [
              1,
              "#f0f921"
             ]
            ],
            "type": "histogram2d"
           }
          ],
          "histogram2dcontour": [
           {
            "colorbar": {
             "outlinewidth": 0,
             "ticks": ""
            },
            "colorscale": [
             [
              0,
              "#0d0887"
             ],
             [
              0.1111111111111111,
              "#46039f"
             ],
             [
              0.2222222222222222,
              "#7201a8"
             ],
             [
              0.3333333333333333,
              "#9c179e"
             ],
             [
              0.4444444444444444,
              "#bd3786"
             ],
             [
              0.5555555555555556,
              "#d8576b"
             ],
             [
              0.6666666666666666,
              "#ed7953"
             ],
             [
              0.7777777777777778,
              "#fb9f3a"
             ],
             [
              0.8888888888888888,
              "#fdca26"
             ],
             [
              1,
              "#f0f921"
             ]
            ],
            "type": "histogram2dcontour"
           }
          ],
          "mesh3d": [
           {
            "colorbar": {
             "outlinewidth": 0,
             "ticks": ""
            },
            "type": "mesh3d"
           }
          ],
          "parcoords": [
           {
            "line": {
             "colorbar": {
              "outlinewidth": 0,
              "ticks": ""
             }
            },
            "type": "parcoords"
           }
          ],
          "pie": [
           {
            "automargin": true,
            "type": "pie"
           }
          ],
          "scatter": [
           {
            "fillpattern": {
             "fillmode": "overlay",
             "size": 10,
             "solidity": 0.2
            },
            "type": "scatter"
           }
          ],
          "scatter3d": [
           {
            "line": {
             "colorbar": {
              "outlinewidth": 0,
              "ticks": ""
             }
            },
            "marker": {
             "colorbar": {
              "outlinewidth": 0,
              "ticks": ""
             }
            },
            "type": "scatter3d"
           }
          ],
          "scattercarpet": [
           {
            "marker": {
             "colorbar": {
              "outlinewidth": 0,
              "ticks": ""
             }
            },
            "type": "scattercarpet"
           }
          ],
          "scattergeo": [
           {
            "marker": {
             "colorbar": {
              "outlinewidth": 0,
              "ticks": ""
             }
            },
            "type": "scattergeo"
           }
          ],
          "scattergl": [
           {
            "marker": {
             "colorbar": {
              "outlinewidth": 0,
              "ticks": ""
             }
            },
            "type": "scattergl"
           }
          ],
          "scattermapbox": [
           {
            "marker": {
             "colorbar": {
              "outlinewidth": 0,
              "ticks": ""
             }
            },
            "type": "scattermapbox"
           }
          ],
          "scatterpolar": [
           {
            "marker": {
             "colorbar": {
              "outlinewidth": 0,
              "ticks": ""
             }
            },
            "type": "scatterpolar"
           }
          ],
          "scatterpolargl": [
           {
            "marker": {
             "colorbar": {
              "outlinewidth": 0,
              "ticks": ""
             }
            },
            "type": "scatterpolargl"
           }
          ],
          "scatterternary": [
           {
            "marker": {
             "colorbar": {
              "outlinewidth": 0,
              "ticks": ""
             }
            },
            "type": "scatterternary"
           }
          ],
          "surface": [
           {
            "colorbar": {
             "outlinewidth": 0,
             "ticks": ""
            },
            "colorscale": [
             [
              0,
              "#0d0887"
             ],
             [
              0.1111111111111111,
              "#46039f"
             ],
             [
              0.2222222222222222,
              "#7201a8"
             ],
             [
              0.3333333333333333,
              "#9c179e"
             ],
             [
              0.4444444444444444,
              "#bd3786"
             ],
             [
              0.5555555555555556,
              "#d8576b"
             ],
             [
              0.6666666666666666,
              "#ed7953"
             ],
             [
              0.7777777777777778,
              "#fb9f3a"
             ],
             [
              0.8888888888888888,
              "#fdca26"
             ],
             [
              1,
              "#f0f921"
             ]
            ],
            "type": "surface"
           }
          ],
          "table": [
           {
            "cells": {
             "fill": {
              "color": "#EBF0F8"
             },
             "line": {
              "color": "white"
             }
            },
            "header": {
             "fill": {
              "color": "#C8D4E3"
             },
             "line": {
              "color": "white"
             }
            },
            "type": "table"
           }
          ]
         },
         "layout": {
          "annotationdefaults": {
           "arrowcolor": "#2a3f5f",
           "arrowhead": 0,
           "arrowwidth": 1
          },
          "autotypenumbers": "strict",
          "coloraxis": {
           "colorbar": {
            "outlinewidth": 0,
            "ticks": ""
           }
          },
          "colorscale": {
           "diverging": [
            [
             0,
             "#8e0152"
            ],
            [
             0.1,
             "#c51b7d"
            ],
            [
             0.2,
             "#de77ae"
            ],
            [
             0.3,
             "#f1b6da"
            ],
            [
             0.4,
             "#fde0ef"
            ],
            [
             0.5,
             "#f7f7f7"
            ],
            [
             0.6,
             "#e6f5d0"
            ],
            [
             0.7,
             "#b8e186"
            ],
            [
             0.8,
             "#7fbc41"
            ],
            [
             0.9,
             "#4d9221"
            ],
            [
             1,
             "#276419"
            ]
           ],
           "sequential": [
            [
             0,
             "#0d0887"
            ],
            [
             0.1111111111111111,
             "#46039f"
            ],
            [
             0.2222222222222222,
             "#7201a8"
            ],
            [
             0.3333333333333333,
             "#9c179e"
            ],
            [
             0.4444444444444444,
             "#bd3786"
            ],
            [
             0.5555555555555556,
             "#d8576b"
            ],
            [
             0.6666666666666666,
             "#ed7953"
            ],
            [
             0.7777777777777778,
             "#fb9f3a"
            ],
            [
             0.8888888888888888,
             "#fdca26"
            ],
            [
             1,
             "#f0f921"
            ]
           ],
           "sequentialminus": [
            [
             0,
             "#0d0887"
            ],
            [
             0.1111111111111111,
             "#46039f"
            ],
            [
             0.2222222222222222,
             "#7201a8"
            ],
            [
             0.3333333333333333,
             "#9c179e"
            ],
            [
             0.4444444444444444,
             "#bd3786"
            ],
            [
             0.5555555555555556,
             "#d8576b"
            ],
            [
             0.6666666666666666,
             "#ed7953"
            ],
            [
             0.7777777777777778,
             "#fb9f3a"
            ],
            [
             0.8888888888888888,
             "#fdca26"
            ],
            [
             1,
             "#f0f921"
            ]
           ]
          },
          "colorway": [
           "#636efa",
           "#EF553B",
           "#00cc96",
           "#ab63fa",
           "#FFA15A",
           "#19d3f3",
           "#FF6692",
           "#B6E880",
           "#FF97FF",
           "#FECB52"
          ],
          "font": {
           "color": "#2a3f5f"
          },
          "geo": {
           "bgcolor": "white",
           "lakecolor": "white",
           "landcolor": "#E5ECF6",
           "showlakes": true,
           "showland": true,
           "subunitcolor": "white"
          },
          "hoverlabel": {
           "align": "left"
          },
          "hovermode": "closest",
          "mapbox": {
           "style": "light"
          },
          "paper_bgcolor": "white",
          "plot_bgcolor": "#E5ECF6",
          "polar": {
           "angularaxis": {
            "gridcolor": "white",
            "linecolor": "white",
            "ticks": ""
           },
           "bgcolor": "#E5ECF6",
           "radialaxis": {
            "gridcolor": "white",
            "linecolor": "white",
            "ticks": ""
           }
          },
          "scene": {
           "xaxis": {
            "backgroundcolor": "#E5ECF6",
            "gridcolor": "white",
            "gridwidth": 2,
            "linecolor": "white",
            "showbackground": true,
            "ticks": "",
            "zerolinecolor": "white"
           },
           "yaxis": {
            "backgroundcolor": "#E5ECF6",
            "gridcolor": "white",
            "gridwidth": 2,
            "linecolor": "white",
            "showbackground": true,
            "ticks": "",
            "zerolinecolor": "white"
           },
           "zaxis": {
            "backgroundcolor": "#E5ECF6",
            "gridcolor": "white",
            "gridwidth": 2,
            "linecolor": "white",
            "showbackground": true,
            "ticks": "",
            "zerolinecolor": "white"
           }
          },
          "shapedefaults": {
           "line": {
            "color": "#2a3f5f"
           }
          },
          "ternary": {
           "aaxis": {
            "gridcolor": "white",
            "linecolor": "white",
            "ticks": ""
           },
           "baxis": {
            "gridcolor": "white",
            "linecolor": "white",
            "ticks": ""
           },
           "bgcolor": "#E5ECF6",
           "caxis": {
            "gridcolor": "white",
            "linecolor": "white",
            "ticks": ""
           }
          },
          "title": {
           "x": 0.05
          },
          "xaxis": {
           "automargin": true,
           "gridcolor": "white",
           "linecolor": "white",
           "ticks": "",
           "title": {
            "standoff": 15
           },
           "zerolinecolor": "white",
           "zerolinewidth": 2
          },
          "yaxis": {
           "automargin": true,
           "gridcolor": "white",
           "linecolor": "white",
           "ticks": "",
           "title": {
            "standoff": 15
           },
           "zerolinecolor": "white",
           "zerolinewidth": 2
          }
         }
        },
        "title": {
         "text": "Javier B\\xc3\\xa1ez OPS over time"
        },
        "xaxis": {
         "anchor": "y",
         "domain": [
          0,
          1
         ],
         "title": {
          "text": "G"
         }
        },
        "yaxis": {
         "anchor": "x",
         "domain": [
          0,
          1
         ],
         "nticks": 20,
         "title": {
          "text": "OPS"
         }
        }
       }
      }
     },
     "metadata": {},
     "output_type": "display_data"
    }
   ],
   "source": [
    "fig = create_figure(player_dfs_2023[player_key], x_column='G', y_column='OPS')\n",
    "fig.add_vline(x=stability_df.loc[player_key]['Game Threshold OPS'], line_dash=\"dot\", line_color=\"black\", annotation_text=f'OPS Stabilized (Est: {round(stability_df.loc[player_key]['OPS Mean'],3)})', annotation_position=\"bottom right\")\n",
    "fig.show()"
   ]
  },
  {
   "cell_type": "code",
   "execution_count": 46,
   "metadata": {},
   "outputs": [],
   "source": [
    "create_stability_animation(player_dfs_2023[player_key], x_column='G', y_column='OPS', thresholds=thresholds, log=log)"
   ]
  },
  {
   "cell_type": "code",
   "execution_count": 33,
   "metadata": {},
   "outputs": [
    {
     "data": {
      "text/plain": [
       "[{'Game': 10,\n",
       "  'Window Mean': 0.3373,\n",
       "  'Window Std': 0.18786404658688685,\n",
       "  'Mean Diff': 0.4311973018549747,\n",
       "  'Std ROC': 0.17873229489901837},\n",
       " {'Game': 11,\n",
       "  'Window Mean': 0.2803,\n",
       "  'Window Std': 0.07066988986359986,\n",
       "  'Mean Diff': 0.527318718381113,\n",
       "  'Std ROC': nan},\n",
       " {'Game': 12,\n",
       "  'Window Mean': 0.26789999999999997,\n",
       "  'Window Std': 0.042432822725390826,\n",
       "  'Mean Diff': 0.5482293423271501,\n",
       "  'Std ROC': nan},\n",
       " {'Game': 13,\n",
       "  'Window Mean': 0.28459999999999996,\n",
       "  'Window Std': 0.07150322448051634,\n",
       "  'Mean Diff': 0.5200674536256324,\n",
       "  'Std ROC': nan},\n",
       " {'Game': 14,\n",
       "  'Window Mean': 0.30289999999999995,\n",
       "  'Window Std': 0.09970896538314786,\n",
       "  'Mean Diff': 0.4892074198988196,\n",
       "  'Std ROC': nan},\n",
       " {'Game': 15,\n",
       "  'Window Mean': 0.3286,\n",
       "  'Window Std': 0.11456798078967012,\n",
       "  'Mean Diff': 0.44586846543001685,\n",
       "  'Std ROC': 0.07329606579721673},\n",
       " {'Game': 16,\n",
       "  'Window Mean': 0.35540000000000005,\n",
       "  'Window Std': 0.12064474939074454,\n",
       "  'Mean Diff': 0.40067453625632365,\n",
       "  'Std ROC': 0.049974859527144685},\n",
       " {'Game': 17,\n",
       "  'Window Mean': 0.3826,\n",
       "  'Window Std': 0.11938564961222657,\n",
       "  'Mean Diff': 0.3548060708263069,\n",
       "  'Std ROC': 0.07695282688683575},\n",
       " {'Game': 18,\n",
       "  'Window Mean': 0.4128,\n",
       "  'Window Std': 0.10480754849829388,\n",
       "  'Mean Diff': 0.3038785834738617,\n",
       "  'Std ROC': 0.03330432401777754},\n",
       " {'Game': 19,\n",
       "  'Window Mean': 0.4377,\n",
       "  'Window Std': 0.10274136892648886,\n",
       "  'Mean Diff': 0.2618887015177066,\n",
       "  'Std ROC': 0.003032403543341},\n",
       " {'Game': 20,\n",
       "  'Window Mean': 0.4657,\n",
       "  'Window Std': 0.09626935591811596,\n",
       "  'Mean Diff': 0.21467116357504212,\n",
       "  'Std ROC': 0.01829862487155416},\n",
       " {'Game': 21,\n",
       "  'Window Mean': 0.4974,\n",
       "  'Window Std': 0.07097605229934952,\n",
       "  'Mean Diff': 0.16121416526138274,\n",
       "  'Std ROC': 0.04966869709139503},\n",
       " {'Game': 22,\n",
       "  'Window Mean': 0.5189999999999999,\n",
       "  'Window Std': 0.039648455203198006,\n",
       "  'Mean Diff': 0.12478920741989893,\n",
       "  'Std ROC': 0.07973719440902857},\n",
       " {'Game': 23,\n",
       "  'Window Mean': 0.5316,\n",
       "  'Window Std': 0.03463524216748021,\n",
       "  'Mean Diff': 0.10354131534569985,\n",
       "  'Std ROC': 0.07017230633081367},\n",
       " {'Game': 24,\n",
       "  'Window Mean': 0.5424,\n",
       "  'Window Std': 0.04127468958090416,\n",
       "  'Mean Diff': 0.08532883642495781,\n",
       "  'Std ROC': 0.061466679345584696},\n",
       " {'Game': 25,\n",
       "  'Window Mean': 0.5574,\n",
       "  'Window Std': 0.05040105818994941,\n",
       "  'Mean Diff': 0.06003372681281613,\n",
       "  'Std ROC': 0.04586829772816655},\n",
       " {'Game': 26,\n",
       "  'Window Mean': 0.579,\n",
       "  'Window Std': 0.06671331701142333,\n",
       "  'Mean Diff': 0.023608768971332232,\n",
       "  'Std ROC': 0.0042627352879261865},\n",
       " {'Game': 27,\n",
       "  'Window Mean': 0.6003999999999999,\n",
       "  'Window Std': 0.07261802653458559,\n",
       "  'Mean Diff': 0.01247892074198982,\n",
       "  'Std ROC': 0.03296957133138758},\n",
       " {'Game': 28,\n",
       "  'Window Mean': 0.6211,\n",
       "  'Window Std': 0.07028426408363238,\n",
       "  'Mean Diff': 0.047386172006745386,\n",
       "  'Std ROC': 0.03564902191615217},\n",
       " {'Game': 29,\n",
       "  'Window Mean': 0.6363,\n",
       "  'Window Std': 0.06766428567239556,\n",
       "  'Mean Diff': 0.07301854974704891,\n",
       "  'Std ROC': 0.0263895960914914},\n",
       " {'Game': 30,\n",
       "  'Window Mean': 0.6458999999999999,\n",
       "  'Window Std': 0.06408579319076022,\n",
       "  'Mean Diff': 0.08920741989881947,\n",
       "  'Std ROC': 0.013684735000810806},\n",
       " {'Game': 31,\n",
       "  'Window Mean': 0.6574,\n",
       "  'Window Std': 0.06119949164639994,\n",
       "  'Mean Diff': 0.10860033726812819,\n",
       "  'Std ROC': 0.0055138253650233865},\n",
       " {'Game': 32,\n",
       "  'Window Mean': 0.6719,\n",
       "  'Window Std': 0.04683884902276931,\n",
       "  'Mean Diff': 0.13305227655986523,\n",
       "  'Std ROC': 0.025779177511816277},\n",
       " {'Game': 33,\n",
       "  'Window Mean': 0.6828000000000001,\n",
       "  'Window Std': 0.03216899818838696,\n",
       "  'Mean Diff': 0.1514333895446882,\n",
       "  'Std ROC': 0.038115265895245415},\n",
       " {'Game': 34,\n",
       "  'Window Mean': 0.6890000000000001,\n",
       "  'Window Std': 0.021066033745766585,\n",
       "  'Mean Diff': 0.16188870151770673,\n",
       "  'Std ROC': 0.046598251926628975},\n",
       " {'Game': 35,\n",
       "  'Window Mean': 0.6909000000000001,\n",
       "  'Window Std': 0.01775418573495022,\n",
       "  'Mean Diff': 0.16509274873524468,\n",
       "  'Std ROC': 0.04633160745581},\n",
       " {'Game': 36,\n",
       "  'Window Mean': 0.6849,\n",
       "  'Window Std': 0.018453846331983024,\n",
       "  'Mean Diff': 0.15497470489038784,\n",
       "  'Std ROC': 0.04274564531441692},\n",
       " {'Game': 37,\n",
       "  'Window Mean': 0.6769999999999999,\n",
       "  'Window Std': 0.021302060411560585,\n",
       "  'Mean Diff': 0.1416526138279932,\n",
       "  'Std ROC': 0.025536788611208724},\n",
       " {'Game': 38,\n",
       "  'Window Mean': 0.6682,\n",
       "  'Window Std': 0.025328069628598036,\n",
       "  'Mean Diff': 0.12681281618887022,\n",
       "  'Std ROC': 0.006840928559788927},\n",
       " {'Game': 39,\n",
       "  'Window Mean': 0.6596,\n",
       "  'Window Std': 0.029800074571122208,\n",
       "  'Mean Diff': 0.11231028667790893,\n",
       "  'Std ROC': 0.008734040825355623},\n",
       " {'Game': 40,\n",
       "  'Window Mean': 0.6557,\n",
       "  'Window Std': 0.03124117653212041,\n",
       "  'Mean Diff': 0.10573355817875207,\n",
       "  'Std ROC': 0.013486990797170188},\n",
       " {'Game': 41,\n",
       "  'Window Mean': 0.6498,\n",
       "  'Window Std': 0.028440190654150772,\n",
       "  'Mean Diff': 0.09578414839797651,\n",
       "  'Std ROC': 0.009986344322167749},\n",
       " {'Game': 42,\n",
       "  'Window Mean': 0.6438,\n",
       "  'Window Std': 0.02542002710025658,\n",
       "  'Mean Diff': 0.08566610455311985,\n",
       "  'Std ROC': 0.004117966688695993},\n",
       " {'Game': 43,\n",
       "  'Window Mean': 0.6376999999999999,\n",
       "  'Window Std': 0.021756480516031202,\n",
       "  'Mean Diff': 0.07537942664418207,\n",
       "  'Std ROC': 0.0035715891125668343},\n",
       " {'Game': 44,\n",
       "  'Window Mean': 0.6313000000000001,\n",
       "  'Window Std': 0.019148832282355456,\n",
       "  'Mean Diff': 0.06458684654300188,\n",
       "  'Std ROC': 0.010651242288766752},\n",
       " {'Game': 45,\n",
       "  'Window Mean': 0.6238,\n",
       "  'Window Std': 0.017344867956961937,\n",
       "  'Mean Diff': 0.051939291736930945,\n",
       "  'Std ROC': 0.013896308575158473},\n",
       " {'Game': 46,\n",
       "  'Window Mean': 0.6174000000000001,\n",
       "  'Window Std': 0.015889898957793573,\n",
       "  'Mean Diff': 0.04114671163575057,\n",
       "  'Std ROC': 0.0125502916963572},\n",
       " {'Game': 47,\n",
       "  'Window Mean': 0.6116999999999999,\n",
       "  'Window Std': 0.01882699008220794,\n",
       "  'Mean Diff': 0.031534569983136494,\n",
       "  'Std ROC': 0.0065930370180486385}]"
      ]
     },
     "execution_count": 33,
     "metadata": {},
     "output_type": "execute_result"
    }
   ],
   "source": [
    "log"
   ]
  },
  {
   "cell_type": "code",
   "execution_count": 47,
   "metadata": {},
   "outputs": [
    {
     "name": "stdout",
     "output_type": "stream",
     "text": [
      "ffmpeg version 5.1.4-0+deb12u1 Copyright (c) 2000-2023 the FFmpeg developers\n",
      "  built with gcc 12 (Debian 12.2.0-14)\n",
      "  configuration: --prefix=/usr --extra-version=0+deb12u1 --toolchain=hardened --libdir=/usr/lib/x86_64-linux-gnu --incdir=/usr/include/x86_64-linux-gnu --arch=amd64 --enable-gpl --disable-stripping --enable-gnutls --enable-ladspa --enable-libaom --enable-libass --enable-libbluray --enable-libbs2b --enable-libcaca --enable-libcdio --enable-libcodec2 --enable-libdav1d --enable-libflite --enable-libfontconfig --enable-libfreetype --enable-libfribidi --enable-libglslang --enable-libgme --enable-libgsm --enable-libjack --enable-libmp3lame --enable-libmysofa --enable-libopenjpeg --enable-libopenmpt --enable-libopus --enable-libpulse --enable-librabbitmq --enable-librist --enable-librubberband --enable-libshine --enable-libsnappy --enable-libsoxr --enable-libspeex --enable-libsrt --enable-libssh --enable-libsvtav1 --enable-libtheora --enable-libtwolame --enable-libvidstab --enable-libvorbis --enable-libvpx --enable-libwebp --enable-libx265 --enable-libxml2 --enable-libxvid --enable-libzimg --enable-libzmq --enable-libzvbi --enable-lv2 --enable-omx --enable-openal --enable-opencl --enable-opengl --enable-sdl2 --disable-sndio --enable-libjxl --enable-pocketsphinx --enable-librsvg --enable-libmfx --enable-libdc1394 --enable-libdrm --enable-libiec61883 --enable-chromaprint --enable-frei0r --enable-libx264 --enable-libplacebo --enable-librav1e --enable-shared\n",
      "  libavutil      57. 28.100 / 57. 28.100\n",
      "  libavcodec     59. 37.100 / 59. 37.100\n",
      "  libavformat    59. 27.100 / 59. 27.100\n",
      "  libavdevice    59.  7.100 / 59.  7.100\n",
      "  libavfilter     8. 44.100 /  8. 44.100\n",
      "  libswscale      6.  7.100 /  6.  7.100\n",
      "  libswresample   4.  7.100 /  4.  7.100\n",
      "  libpostproc    56.  6.100 / 56.  6.100\n",
      "Input #0, image2, from './images/%d.png':\n",
      "  Duration: 00:00:13.00, start: 0.000000, bitrate: N/A\n",
      "  Stream #0:0: Video: png, rgba(pc), 700x500, 10 fps, 10 tbr, 10 tbn\n",
      "Stream mapping:\n",
      "  Stream #0:0 -> #0:0 (png (native) -> h264 (libx264))\n",
      "Press [q] to stop, [?] for help\n",
      "\u001b[1;36m[libx264 @ 0x55e1770aff00] \u001b[0musing cpu capabilities: MMX2 SSE2Fast SSSE3 SSE4.2 AVX FMA3 BMI2 AVX2\n",
      "\u001b[1;36m[libx264 @ 0x55e1770aff00] \u001b[0mprofile High, level 2.2, 4:2:0, 8-bit\n",
      "\u001b[1;36m[libx264 @ 0x55e1770aff00] \u001b[0m264 - core 164 r3095 baee400 - H.264/MPEG-4 AVC codec - Copyleft 2003-2022 - http://www.videolan.org/x264.html - options: cabac=1 ref=3 deblock=1:0:0 analyse=0x3:0x113 me=hex subme=7 psy=1 psy_rd=1.00:0.00 mixed_ref=1 me_range=16 chroma_me=1 trellis=1 8x8dct=1 cqm=0 deadzone=21,11 fast_pskip=1 chroma_qp_offset=-2 threads=12 lookahead_threads=2 sliced_threads=0 nr=0 decimate=1 interlaced=0 bluray_compat=0 constrained_intra=0 bframes=3 b_pyramid=2 b_adapt=1 b_bias=0 direct=1 weightb=1 open_gop=0 weightp=2 keyint=250 keyint_min=10 scenecut=40 intra_refresh=0 rc_lookahead=40 rc=crf mbtree=1 crf=20.0 qcomp=0.60 qpmin=0 qpmax=69 qpstep=4 ip_ratio=1.40 aq=1:1.00\n",
      "Output #0, mp4, to 'output.mp4':\n",
      "  Metadata:\n",
      "    encoder         : Lavf59.27.100\n",
      "  Stream #0:0: Video: h264 (avc1 / 0x31637661), yuv420p(tv, progressive), 700x500, q=2-31, 10 fps, 10240 tbn\n",
      "    Metadata:\n",
      "      encoder         : Lavc59.37.100 libx264\n",
      "    Side data:\n",
      "      cpb: bitrate max/min/avg: 0/0/0 buffer size: 0 vbv_delay: N/A\n",
      "frame=  130 fps=0.0 q=-1.0 Lsize=      72kB time=00:00:12.70 bitrate=  46.2kbits/s speed=22.1x    \n",
      "video:69kB audio:0kB subtitle:0kB other streams:0kB global headers:0kB muxing overhead: 3.265772%\n",
      "\u001b[1;36m[libx264 @ 0x55e1770aff00] \u001b[0mframe I:1     Avg QP: 6.04  size:  6226\n",
      "\u001b[1;36m[libx264 @ 0x55e1770aff00] \u001b[0mframe P:52    Avg QP:14.80  size:   975\n",
      "\u001b[1;36m[libx264 @ 0x55e1770aff00] \u001b[0mframe B:77    Avg QP:14.95  size:   173\n",
      "\u001b[1;36m[libx264 @ 0x55e1770aff00] \u001b[0mconsecutive B-frames: 13.1% 20.0% 11.5% 55.4%\n",
      "\u001b[1;36m[libx264 @ 0x55e1770aff00] \u001b[0mmb I  I16..4: 80.1% 12.9%  7.0%\n",
      "\u001b[1;36m[libx264 @ 0x55e1770aff00] \u001b[0mmb P  I16..4:  1.2%  0.5%  0.3%  P16..4:  1.5%  0.7%  0.3%  0.0%  0.0%    skip:95.4%\n",
      "\u001b[1;36m[libx264 @ 0x55e1770aff00] \u001b[0mmb B  I16..4:  0.2%  0.0%  0.0%  B16..8:  1.5%  0.3%  0.0%  direct: 0.0%  skip:97.9%  L0:39.1% L1:58.7% BI: 2.2%\n",
      "\u001b[1;36m[libx264 @ 0x55e1770aff00] \u001b[0m8x8 transform intra:18.5% inter:25.6%\n",
      "\u001b[1;36m[libx264 @ 0x55e1770aff00] \u001b[0mcoded y,uvDC,uvAC intra: 6.8% 9.7% 7.5% inter: 0.3% 0.6% 0.5%\n",
      "\u001b[1;36m[libx264 @ 0x55e1770aff00] \u001b[0mi16 v,h,dc,p: 95%  3%  2%  0%\n",
      "\u001b[1;36m[libx264 @ 0x55e1770aff00] \u001b[0mi8 v,h,dc,ddl,ddr,vr,hd,vl,hu: 34%  2% 64%  0%  0%  0%  0%  0%  0%\n",
      "\u001b[1;36m[libx264 @ 0x55e1770aff00] \u001b[0mi4 v,h,dc,ddl,ddr,vr,hd,vl,hu: 47% 18% 22%  1%  2%  2%  2%  2%  2%\n",
      "\u001b[1;36m[libx264 @ 0x55e1770aff00] \u001b[0mi8c dc,h,v,p: 62%  2% 36%  0%\n",
      "\u001b[1;36m[libx264 @ 0x55e1770aff00] \u001b[0mWeighted P-Frames: Y:0.0% UV:0.0%\n",
      "\u001b[1;36m[libx264 @ 0x55e1770aff00] \u001b[0mref P L0: 71.8%  3.5% 13.3% 11.4%\n",
      "\u001b[1;36m[libx264 @ 0x55e1770aff00] \u001b[0mref B L0: 80.6% 17.0%  2.4%\n",
      "\u001b[1;36m[libx264 @ 0x55e1770aff00] \u001b[0mref B L1: 99.1%  0.9%\n",
      "\u001b[1;36m[libx264 @ 0x55e1770aff00] \u001b[0mkb/s:43.24\n"
     ]
    }
   ],
   "source": [
    "#Create mp4 from images\n",
    "!ffmpeg -framerate 10 -i ./images/%d.png -c:v libx264 -profile:v high -crf 20 -pix_fmt yuv420p output.mp4 -y"
   ]
  },
  {
   "cell_type": "code",
   "execution_count": null,
   "metadata": {},
   "outputs": [],
   "source": [
    "# Plot distribution of OPS for all players in player_dfs_2023\n",
    "sns.set(style=\"whitegrid\")\n",
    "\n",
    "ops = [df['OPS'].iloc[-1] for df in player_dfs_2023.values()]\n",
    "plt.figure(figsize=(10,6))\n",
    "sns.histplot(ops, kde=True, bins=100, color='blue')\n",
    "plt.title('Distribution of OPS at end of season 2023')\n",
    "plt.xlabel('OPS')\n",
    "plt.show()\n"
   ]
  }
 ],
 "metadata": {
  "kernelspec": {
   "display_name": "statstability",
   "language": "python",
   "name": "python3"
  },
  "language_info": {
   "codemirror_mode": {
    "name": "ipython",
    "version": 3
   },
   "file_extension": ".py",
   "mimetype": "text/x-python",
   "name": "python",
   "nbconvert_exporter": "python",
   "pygments_lexer": "ipython3",
   "version": "3.12.1"
  }
 },
 "nbformat": 4,
 "nbformat_minor": 2
}
